{
  "nbformat": 4,
  "nbformat_minor": 0,
  "metadata": {
    "colab": {
      "provenance": [],
      "authorship_tag": "ABX9TyNLsHIY5cpEoY7GGVbciRV5",
      "include_colab_link": true
    },
    "kernelspec": {
      "name": "python3",
      "display_name": "Python 3"
    },
    "language_info": {
      "name": "python"
    }
  },
  "cells": [
    {
      "cell_type": "markdown",
      "metadata": {
        "id": "view-in-github",
        "colab_type": "text"
      },
      "source": [
        "<a href=\"https://colab.research.google.com/github/ahsanrazi/Python/blob/main/Variables.ipynb\" target=\"_parent\"><img src=\"https://colab.research.google.com/assets/colab-badge.svg\" alt=\"Open In Colab\"/></a>"
      ]
    },
    {
      "cell_type": "code",
      "execution_count": 1,
      "metadata": {
        "colab": {
          "base_uri": "https://localhost:8080/"
        },
        "id": "OWbJaLDLRUX9",
        "outputId": "21be170d-b62d-41f6-bdcb-8489c15b308c"
      },
      "outputs": [
        {
          "output_type": "stream",
          "name": "stdout",
          "text": [
            "Hello Bro\n",
            "You are 25 years old\n",
            "Your gpa is: 3.2\n",
            "You are a student\n"
          ]
        }
      ],
      "source": [
        "# Variable = A container for a value (string, integer, float, boolean)\n",
        "# A variable behaves as if it was the value it contains\n",
        "\n",
        "# Strings\n",
        "first_name = \"Bro\"\n",
        "food = \"pizza\"\n",
        "email = \"Bro123@fake.com\"\n",
        "\n",
        "# Integers\n",
        "age = 25\n",
        "quantity = 3\n",
        "num_of_students = 30\n",
        "\n",
        "# Float\n",
        "price = 10.99\n",
        "gpa = 3.2\n",
        "distance = 5.5\n",
        "\n",
        "# Boolean\n",
        "is_student = True\n",
        "for_sale = False\n",
        "is_online = True\n",
        "\n",
        "print(f\"Hello {first_name}\")\n",
        "print(f\"You are {age} years old\")\n",
        "print(f\"Your gpa is: {gpa}\")\n",
        "\n",
        "if is_student:\n",
        "    print(\"You are a student\")\n",
        "else:\n",
        "    print(\"You are NOT student\")"
      ]
    },
    {
      "cell_type": "code",
      "source": [],
      "metadata": {
        "id": "FfbMbENVUpP_"
      },
      "execution_count": null,
      "outputs": []
    }
  ]
}