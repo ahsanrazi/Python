{
 "cells": [
  {
   "cell_type": "markdown",
   "metadata": {},
   "source": [
    "# Operators"
   ]
  },
  {
   "cell_type": "code",
   "execution_count": 1,
   "metadata": {},
   "outputs": [],
   "source": [
    "# The Operators are the operations that we performn on the Operands.\n",
    "\n",
    "# In Python there are six types of Operators:\n",
    "# Arithmetic Operators\n",
    "# Relational Operators\n",
    "# Logical Operators\n",
    "# Bitwise Operators\n",
    "# Assignment Operators\n",
    "# Menbership Operators"
   ]
  },
  {
   "cell_type": "markdown",
   "metadata": {},
   "source": [
    "#### Arithmetic Operators"
   ]
  },
  {
   "cell_type": "code",
   "execution_count": 7,
   "metadata": {},
   "outputs": [
    {
     "name": "stdout",
     "output_type": "stream",
     "text": [
      "Addition 5+2 =  7\n",
      "Subtraction 5-2 =  3\n",
      "Multiplication 5*2 =  10\n",
      "Division 5/2 =  2.5\n",
      "Integer Division 5//2 =  2\n",
      "Modulus 5%2 =  1\n",
      "Power of 5**2 =  25\n"
     ]
    }
   ],
   "source": [
    "# Arithmetic Operators\n",
    "\n",
    "# Arithmetic Operators are the Operators that perform the mathematical Operations. These are:\n",
    "# Addition          (+)\n",
    "# Subtraction       (-)\n",
    "# Multiplication    (*)\n",
    "# Division          (/)\n",
    "# Integer Division  (//) -> It convert the answer into integer\n",
    "# Modulus           (%)\n",
    "# Power Of          (**)\n",
    "\n",
    "print('Addition 5+2 = ',5+2)\n",
    "print('Subtraction 5-2 = ',5-2)\n",
    "print('Multiplication 5*2 = ',5*2)\n",
    "print('Division 5/2 = ',5/2)\n",
    "print('Integer Division 5//2 = ',5//2)\n",
    "print('Modulus 5%2 = ',5%2)\n",
    "print('Power of 5**2 = ',5**2)"
   ]
  },
  {
   "cell_type": "markdown",
   "metadata": {},
   "source": [
    "#### Relational Operators"
   ]
  },
  {
   "cell_type": "code",
   "execution_count": 9,
   "metadata": {},
   "outputs": [
    {
     "name": "stdout",
     "output_type": "stream",
     "text": [
      "5>2 =  True\n",
      "5<2 =  False\n",
      "5>=2 =  True\n",
      "5<=2 =  False\n",
      "5==2 =  False\n",
      "5!=2 =  True\n"
     ]
    }
   ],
   "source": [
    "# Relational Operators\n",
    "\n",
    "# Relational Operators are the Operators that are used to compare two values. These are:\n",
    "# Greater than              (>)\n",
    "# Less than                 (<)\n",
    "# Greater than Equal to     (>=)\n",
    "# Less than Equal to        (<=)\n",
    "# Equal to                  (==)\n",
    "# Not Equal to              (!=)\n",
    "\n",
    "print('5>2 = ',5>2)\n",
    "print('5<2 = ',5<2)\n",
    "print('5>=2 = ',5>=2)\n",
    "print('5<=2 = ',5<=2)\n",
    "print('5==2 = ',5==3)\n",
    "print('5!=2 = ',5!=2)"
   ]
  },
  {
   "cell_type": "markdown",
   "metadata": {},
   "source": [
    "#### Logical Operators"
   ]
  },
  {
   "cell_type": "code",
   "execution_count": 13,
   "metadata": {},
   "outputs": [
    {
     "name": "stdout",
     "output_type": "stream",
     "text": [
      "1 and 0 =  0\n",
      "1 or 0 =  1\n",
      "not 1 =  False\n"
     ]
    }
   ],
   "source": [
    "# Logical Operators\n",
    "\n",
    "# Logical Operators are used for logic building in the programming.\n",
    "# In Python, logical operators are used to combine multiple conditions together and evaluate them \n",
    "# as a single boolean expression\n",
    "# These are:\n",
    "# AND   (and) -> \tThis returns True if both x and y are true\n",
    "# OR    (or)  ->\tThis returns True if either x or y are true \n",
    "# NOT   (not) -> \tReverses a result, so if something is True , not turns it False\n",
    "\n",
    "print('1 and 0 = ', 1 and 0)\n",
    "print('1 or 0 = ',1 or 0)\n",
    "print('not 1 = ',not 1)"
   ]
  },
  {
   "cell_type": "markdown",
   "metadata": {},
   "source": [
    "#### Bitwise Operators"
   ]
  },
  {
   "cell_type": "code",
   "execution_count": 21,
   "metadata": {},
   "outputs": [
    {
     "name": "stdout",
     "output_type": "stream",
     "text": [
      "2 & 3 =  2\n",
      "2 | 3 =  3\n",
      "2 ^ 3 =  1\n",
      "~3 =  -4\n",
      "2 >> 3 =  1\n",
      "2 << 3 =  20\n"
     ]
    }
   ],
   "source": [
    "# Bitwise Operators\n",
    "\n",
    "# Bitwise operators are the operators that operate on the binary values.\n",
    "# These are:\n",
    "# Bitwise AND                   (&)\n",
    "# Bitwise OR                    (|)\n",
    "# Bitwise XOR                   (^)\n",
    "# Bitwise One's complement      (~)\n",
    "# Bitwise Left Shift            (<<)\n",
    "# Bitwise Right Shift           (>>)\n",
    "\n",
    "print('2 & 3 = ',2&3)\n",
    "print('2 | 3 = ',2|3)\n",
    "print('2 ^ 3 = ',2^3)\n",
    "print('~3 = ',~3)\n",
    "print('2 >> 3 = ',4>>2)\n",
    "print('2 << 3 = ',5<<2)\n",
    "\n",
    "\n",
    "# First it convert the number into binary perform Bitwise operations on then give the value of the resulted binary.\n",
    "\n",
    "# 2 Bitwise AND 3\n",
    "#                       2 -> 0 1 0\n",
    "#                       3 -> 1 1 0\n",
    "#                       &    -----\n",
    "#                            0 1 0 -> 2 "
   ]
  },
  {
   "cell_type": "markdown",
   "metadata": {},
   "source": [
    "#### Assignmant Operators"
   ]
  },
  {
   "cell_type": "code",
   "execution_count": 32,
   "metadata": {},
   "outputs": [
    {
     "name": "stdout",
     "output_type": "stream",
     "text": [
      "4\n",
      "0\n",
      "4\n",
      "1.0\n"
     ]
    }
   ],
   "source": [
    "# Assignment Operator\n",
    "\n",
    "# Assignment Operator helps to assign values or expressions to the left-hand-side variable.\n",
    "# We can use the assignment operator in conjuction with other operators.\n",
    "\n",
    "a = 2\n",
    "a += 2      # a = a + 2\n",
    "print(a)\n",
    "\n",
    "b = 2\n",
    "b -= 2      # a = a - 2\n",
    "print(b)\n",
    "\n",
    "c = 2\n",
    "c *= 2      # c = c * 2\n",
    "print(c)\n",
    "\n",
    "d = 2\n",
    "d /= 2      # d = d / 2\n",
    "print(d)\n",
    "\n",
    "# In Python we cannot use a++ or ++a irrespective of that we use (a = a+2) or (a+=2)"
   ]
  },
  {
   "cell_type": "markdown",
   "metadata": {},
   "source": [
    "#### Membership Operators"
   ]
  },
  {
   "cell_type": "code",
   "execution_count": 36,
   "metadata": {},
   "outputs": [
    {
     "name": "stdout",
     "output_type": "stream",
     "text": [
      "D in Delhi =  True\n",
      "D not in Delhi =  False\n",
      "1 in [2,3,4,5] =  False\n"
     ]
    }
   ],
   "source": [
    "# Membership Operator\n",
    "\n",
    "# Membership operators are used to test if an object is presented in a sequence or not.\n",
    "# These are:\n",
    "# in        -> \"in\" used to determine whether an object is present in any sequence\n",
    "# not in    -> \"not in\" used to determine whether an object is absent from any sequence.\n",
    "\n",
    "print('D in Delhi = ','D' in 'Delhi')\n",
    "print('D not in Delhi = ','D' not in 'Delhi')\n",
    "\n",
    "\n",
    "# This operator also works on (Lists, Tuples, Sets, Dictionaries)\n",
    "\n",
    "print('1 in [2,3,4,5] = ',1 in [2,3,4,5])"
   ]
  },
  {
   "cell_type": "markdown",
   "metadata": {},
   "source": [
    "#### Program\n"
   ]
  },
  {
   "cell_type": "code",
   "execution_count": 39,
   "metadata": {},
   "outputs": [
    {
     "name": "stdout",
     "output_type": "stream",
     "text": [
      "The Sum of number is: 12\n"
     ]
    }
   ],
   "source": [
    "# Find the sum of three digit number entered by the user\n",
    "\n",
    "number = int(input('Enter the Number: '))\n",
    "\n",
    "# 345 % 10 -> 5\n",
    "a = number % 10\n",
    "\n",
    "# 345 // 10 -> 34\n",
    "number  = number // 10\n",
    "\n",
    "# 34 % 10 -> 4\n",
    "b = number % 10\n",
    "\n",
    "# 34 // 10 -> 3\n",
    "c = number // 10\n",
    "\n",
    "print('The Sum of number is:',a+b+c)  "
   ]
  },
  {
   "cell_type": "markdown",
   "metadata": {},
   "source": [
    "# if-else"
   ]
  },
  {
   "cell_type": "code",
   "execution_count": 46,
   "metadata": {},
   "outputs": [],
   "source": [
    "# The if-else statement is a decision-making statement that is used to decide whether the part of the code \n",
    "# will be executed or not based on the specified condition (test expression). If the given condition is true, \n",
    "# then the code inside the if block is executed, otherwise the code inside the else block is executed.\n",
    "\n",
    "# Use if to specify a block of code to be executed, if a specified condition is true\n",
    "# Use else to specify a block of code to be executed, if the same condition is false\n",
    "# Use else if to specify a new condition to test, if the first condition is false\n",
    "\n",
    "# if condition:\n",
    "#     code\n",
    "# else:\n",
    "#     code\n",
    "\n",
    "\n",
    "# if condition:\n",
    "#     code\n",
    "# elif condition:\n",
    "#     code\n",
    "# else:\n",
    "#     code"
   ]
  },
  {
   "cell_type": "code",
   "execution_count": 40,
   "metadata": {},
   "outputs": [
    {
     "name": "stdout",
     "output_type": "stream",
     "text": [
      "Welcome!!\n"
     ]
    }
   ],
   "source": [
    "# Login Program\n",
    "\n",
    "# Email = abc@gmail.com\n",
    "# Password = 1234\n",
    "\n",
    "email = input('Enter the Email:')\n",
    "password = input('Enter the Password')\n",
    "\n",
    "if email == 'abc@gmail.com' and password == '1234':\n",
    "    print('Welcome!!')\n",
    "else:\n",
    "    print('Email and Password Not correct') "
   ]
  },
  {
   "cell_type": "code",
   "execution_count": 41,
   "metadata": {},
   "outputs": [
    {
     "name": "stdout",
     "output_type": "stream",
     "text": [
      "Incorrect Password\n",
      "Welcome!!\n"
     ]
    }
   ],
   "source": [
    "# Login Program with elif and nested if-else\n",
    "\n",
    "# Email = abc@gmail.com\n",
    "# Password = 1234\n",
    "\n",
    "email = input('Enter the Email:')\n",
    "password = input('Enter the Password')\n",
    "\n",
    "if email == 'abc@gmail.com' and password == '1234':\n",
    "    print('Welcome!!')\n",
    "elif email == 'abc@gmail.com' and password != '1234': # Incorrect Password\n",
    "    print('Incorrect Password')\n",
    "    password = input('Enter the password again')\n",
    "    if password == '1234':\n",
    "        print('Welcome!!')\n",
    "    else:\n",
    "        print('Again Not Correct')\n",
    "elif email != 'abc@gmail.com' and password == '1234': # Incorrect Email\n",
    "    print('Incorrect Email')\n",
    "    password = input('Enter the Email again')\n",
    "    if password == 'abc@gmail.com':\n",
    "        print('Welcome!!')\n",
    "    else:\n",
    "        print('Again Not Correct')\n",
    "else:\n",
    "    print('Email and Password Not correct') \n"
   ]
  },
  {
   "cell_type": "code",
   "execution_count": 51,
   "metadata": {},
   "outputs": [
    {
     "name": "stdout",
     "output_type": "stream",
     "text": [
      "Smallest Number is 3\n"
     ]
    }
   ],
   "source": [
    "# Find the minimum of 3 numbers:\n",
    "\n",
    "a = int(input('Enter the First Number: '))\n",
    "b = int(input('Enter the Second Number: '))\n",
    "c = int(input('Enter the Third Number: '))\n",
    "\n",
    "if a<b and a<c:\n",
    "    print('Smallest Number is',a)\n",
    "elif b<c:\n",
    "    print('Smallest Number is',b)\n",
    "else:\n",
    "    print('Smallest Number is',c)"
   ]
  },
  {
   "cell_type": "code",
   "execution_count": 54,
   "metadata": {},
   "outputs": [
    {
     "name": "stdout",
     "output_type": "stream",
     "text": [
      "2.0\n"
     ]
    }
   ],
   "source": [
    "# Menu Driven Calculator:\n",
    "\n",
    "a = int(input('Enter the First Number:'))\n",
    "b = int(input('Enter the Second Number:'))\n",
    "\n",
    "op = input('Enter the Operation:')\n",
    "\n",
    "if op == '+':\n",
    "    print(a+b)\n",
    "elif op == '-':\n",
    "    print(a-b)\n",
    "elif op == '*':\n",
    "    print(a*b)\n",
    "else:\n",
    "    print(a/b)"
   ]
  },
  {
   "cell_type": "code",
   "execution_count": null,
   "metadata": {},
   "outputs": [],
   "source": []
  }
 ],
 "metadata": {
  "kernelspec": {
   "display_name": "base",
   "language": "python",
   "name": "python3"
  },
  "language_info": {
   "codemirror_mode": {
    "name": "ipython",
    "version": 3
   },
   "file_extension": ".py",
   "mimetype": "text/x-python",
   "name": "python",
   "nbconvert_exporter": "python",
   "pygments_lexer": "ipython3",
   "version": "3.12.4"
  }
 },
 "nbformat": 4,
 "nbformat_minor": 2
}
