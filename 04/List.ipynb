{
 "cells": [
  {
   "cell_type": "markdown",
   "metadata": {},
   "source": [
    "# Lists"
   ]
  },
  {
   "cell_type": "code",
   "execution_count": null,
   "metadata": {},
   "outputs": [],
   "source": [
    "# List is a data-type where we can store multiple items under one name. More technically lists act like dynamic arrays\n",
    "# Lists are used to store multiple items in a single variable.\n",
    "# A Python list is a dynamic, mutable, ordered collection of items enclosed within square brackets []  \n",
    "\n",
    "# list = [20,'hello',20.3,[1,2,3]]\n",
    "\n",
    "# List is a referential array it store the address of the values"
   ]
  },
  {
   "cell_type": "markdown",
   "metadata": {},
   "source": [
    "#### Arrays Vs Lists"
   ]
  },
  {
   "cell_type": "code",
   "execution_count": null,
   "metadata": {},
   "outputs": [],
   "source": [
    "# Arrays are of Fixed Size while Lists are of Dynamic Size\n",
    "# Arrays are Homogeneous (we can store same type of data) while Lists are Heterogeneous (we can store different types)\n",
    "\n",
    "# Arrays are fast but Lists are slow\n",
    "# Arrays occupy less space in memory while lists occupy more space in memory"
   ]
  },
  {
   "cell_type": "markdown",
   "metadata": {},
   "source": [
    "#### Creating a List"
   ]
  },
  {
   "cell_type": "code",
   "execution_count": null,
   "metadata": {},
   "outputs": [],
   "source": [
    "# Empty\n",
    "# 1D\n",
    "# 2D\n",
    "# 3D\n",
    "# Heterogeneous\n",
    "# Using Type-conversion "
   ]
  },
  {
   "cell_type": "markdown",
   "metadata": {},
   "source": [
    "#### Characteristics of Lists"
   ]
  },
  {
   "cell_type": "code",
   "execution_count": 1,
   "metadata": {},
   "outputs": [
    {
     "name": "stdout",
     "output_type": "stream",
     "text": [
      "False\n"
     ]
    }
   ],
   "source": [
    "# Lists are odered means the order of the values stored in the matter\n",
    "# 1,2,3 Not Equal to 3,2,1\n",
    "\n",
    "L1 = [1,2,3]\n",
    "L2 = [3,2,1]\n",
    "\n",
    "print(L1 == L2)"
   ]
  },
  {
   "cell_type": "code",
   "execution_count": 10,
   "metadata": {},
   "outputs": [
    {
     "name": "stdout",
     "output_type": "stream",
     "text": [
      "[1, 2, 3]\n",
      "[1, 2, 5]\n"
     ]
    }
   ],
   "source": [
    "# Lists are mutable we can change the items of the lists\n",
    "\n",
    "L = [1,2,3]\n",
    "print(L)\n",
    "\n",
    "L[2] = 5\n",
    "print(L)"
   ]
  },
  {
   "cell_type": "code",
   "execution_count": 5,
   "metadata": {},
   "outputs": [
    {
     "name": "stdout",
     "output_type": "stream",
     "text": [
      "[1, 2.1, 'hello', [1, 2, 3]]\n"
     ]
    }
   ],
   "source": [
    "# Lists are heterogeneous means we can store different types of data\n",
    "\n",
    "L  = [1,2.1,'hello',[1,2,3]]\n",
    "print(L)"
   ]
  },
  {
   "cell_type": "code",
   "execution_count": 3,
   "metadata": {},
   "outputs": [
    {
     "name": "stdout",
     "output_type": "stream",
     "text": [
      "[1, 2, 2, 3]\n"
     ]
    }
   ],
   "source": [
    "# Lists can contain duplicate items\n",
    "\n",
    "L = [1,2,2,3]\n",
    "print(L)"
   ]
  },
  {
   "cell_type": "code",
   "execution_count": 6,
   "metadata": {},
   "outputs": [
    {
     "name": "stdout",
     "output_type": "stream",
     "text": [
      "[1, 2, 3]\n",
      "[1, 2, 3, 4]\n"
     ]
    }
   ],
   "source": [
    "# Lists are Dynamic means we can add many items\n",
    "\n",
    "L = [1,2,3]\n",
    "print(L)\n",
    "\n",
    "L.append(4)\n",
    "print(L)"
   ]
  },
  {
   "cell_type": "code",
   "execution_count": 7,
   "metadata": {},
   "outputs": [
    {
     "name": "stdout",
     "output_type": "stream",
     "text": [
      "[1, 2, 3, [4, 5, 6]]\n"
     ]
    }
   ],
   "source": [
    "# Lists can be nested means it can take list inside the list\n",
    "\n",
    "L = [1,2,3,[4,5,6]]\n",
    "print(L)"
   ]
  },
  {
   "cell_type": "code",
   "execution_count": 9,
   "metadata": {},
   "outputs": [
    {
     "name": "stdout",
     "output_type": "stream",
     "text": [
      "1\n"
     ]
    }
   ],
   "source": [
    "# lists items can be accessed\n",
    "\n",
    "L = [1,2,3]\n",
    "\n",
    "print(L[0])"
   ]
  },
  {
   "cell_type": "code",
   "execution_count": null,
   "metadata": {},
   "outputs": [],
   "source": [
    "# Lists can contain any kind of objects in Python "
   ]
  }
 ],
 "metadata": {
  "kernelspec": {
   "display_name": "base",
   "language": "python",
   "name": "python3"
  },
  "language_info": {
   "codemirror_mode": {
    "name": "ipython",
    "version": 3
   },
   "file_extension": ".py",
   "mimetype": "text/x-python",
   "name": "python",
   "nbconvert_exporter": "python",
   "pygments_lexer": "ipython3",
   "version": "3.12.4"
  }
 },
 "nbformat": 4,
 "nbformat_minor": 2
}
