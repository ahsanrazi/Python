{
 "cells": [
  {
   "cell_type": "markdown",
   "metadata": {},
   "source": [
    "# Functions"
   ]
  },
  {
   "cell_type": "code",
   "execution_count": 1,
   "metadata": {},
   "outputs": [],
   "source": [
    "# Function is a block of code that performs a specific task.\n",
    "\n",
    "# Function are same as Math functions that take some input perform some task and give the output\n",
    "\n",
    "# Functions can make our code more readable "
   ]
  },
  {
   "cell_type": "code",
   "execution_count": 2,
   "metadata": {},
   "outputs": [
    {
     "name": "stdout",
     "output_type": "stream",
     "text": [
      "First Expense List Total: 100\n",
      "Second Expense List Total: 140\n"
     ]
    }
   ],
   "source": [
    "# Problem: You are given two lists of numbers and you need to find the total of each of these lists\n",
    "\n",
    "exp_list_1 = [10,20,30,40]\n",
    "exp_list_2 = [20,50,60,10]\n",
    "\n",
    "# Without using the Functions:\n",
    "\n",
    "total = 0\n",
    "for i in exp_list_1:\n",
    "    total = total+i\n",
    "print('First Expense List Total:',total)\n",
    "\n",
    "total = 0\n",
    "for i in exp_list_2:\n",
    "    total = total+i\n",
    "print('Second Expense List Total:',total)"
   ]
  },
  {
   "cell_type": "code",
   "execution_count": 3,
   "metadata": {},
   "outputs": [
    {
     "name": "stdout",
     "output_type": "stream",
     "text": [
      "First Expense List Total: 100\n",
      "Second Expense List Total: 140\n"
     ]
    }
   ],
   "source": [
    "# In the above code we are repeating the code So, by using the Functions\n",
    "\n",
    "def calculate_total(exp):\n",
    "    total = 0\n",
    "    for i in exp:\n",
    "        total = total + i\n",
    "    return total\n",
    "\n",
    "exp_list_1 = [10,20,30,40]\n",
    "exp_list_2 = [20,50,60,10]\n",
    "\n",
    "total_1 = calculate_total(exp_list_1)\n",
    "total_2 = calculate_total(exp_list_2)\n",
    "\n",
    "print('First Expense List Total:',total_1)\n",
    "print('Second Expense List Total:',total_2)"
   ]
  },
  {
   "cell_type": "code",
   "execution_count": 4,
   "metadata": {},
   "outputs": [
    {
     "name": "stdout",
     "output_type": "stream",
     "text": [
      "Total: 11\n"
     ]
    }
   ],
   "source": [
    "# Program: Sum of two numbers\n",
    "\n",
    "def sum(a,b):\n",
    "    total = a+b\n",
    "    return total\n",
    "\n",
    "n = sum(5,6)\n",
    "print('Total:',n)"
   ]
  },
  {
   "cell_type": "code",
   "execution_count": 5,
   "metadata": {},
   "outputs": [
    {
     "name": "stdout",
     "output_type": "stream",
     "text": [
      "a 5\n",
      "b 6\n",
      "Total_1: 11\n",
      "a 6\n",
      "b 5\n",
      "Total_2 11\n"
     ]
    }
   ],
   "source": [
    "# Arguments are of two types:\n",
    "# Positional Arguments (in this the order of the arguments matter)\n",
    "# Named Arguments (in this we arguments a name)\n",
    "\n",
    "# positional Arguments\n",
    "\n",
    "def sum(a,b):\n",
    "    print('a',a)\n",
    "    print('b',b)\n",
    "    total = a+b\n",
    "    return total\n",
    "\n",
    "n = sum(5,6)\n",
    "print('Total_1:',n)\n",
    "# If we change the order the value of the parameters will be change\n",
    "n = sum(6,5)\n",
    "print('Total_2',n)"
   ]
  },
  {
   "cell_type": "code",
   "execution_count": 7,
   "metadata": {},
   "outputs": [
    {
     "name": "stdout",
     "output_type": "stream",
     "text": [
      "a 5\n",
      "b 6\n",
      "Total_1: 11\n",
      "a 5\n",
      "b 6\n",
      "Total_2: 11\n"
     ]
    }
   ],
   "source": [
    "# Named Arguments in this we give arguments the name\n",
    "def sum(a,b):\n",
    "    print('a',a)\n",
    "    print('b',b)\n",
    "    total = a+b\n",
    "    return total\n",
    "\n",
    "n = sum(a = 5,b = 6)\n",
    "print('Total_1:',n)\n",
    "# If we change the order the value of the parameters will not change\n",
    "n = sum(b = 6,a = 5)\n",
    "print('Total_2:',n)"
   ]
  },
  {
   "cell_type": "code",
   "execution_count": null,
   "metadata": {},
   "outputs": [],
   "source": [
    "# Global vs Local variables\n",
    "\n",
    "# The variables that are defined inside the Function, Loops, if have local scope we can't access these variables \n",
    "# outside them\n",
    "\n",
    "# The variables that are defined outside the Function, Loops, if have local scope we can access these variables \n",
    "# inside them and outside"
   ]
  },
  {
   "cell_type": "code",
   "execution_count": 13,
   "metadata": {},
   "outputs": [
    {
     "name": "stdout",
     "output_type": "stream",
     "text": [
      "a 5\n",
      "b 0\n",
      "Total_1: 5\n",
      "a 5\n",
      "b 6\n",
      "Total_2: 11\n"
     ]
    }
   ],
   "source": [
    "# Default Arguments\n",
    "\n",
    "# We give arguments the default value If we don't pass them value then the default value is use and if we \n",
    "# we pass them a value the dafault value is not used\n",
    "\n",
    "# default Arguments if we don't pass the value\n",
    "def sum(a,b=0):\n",
    "    print('a',a)\n",
    "    print('b',b)\n",
    "    total = a+b\n",
    "    return total\n",
    "\n",
    "n = sum(5)\n",
    "print('Total_1:',n)\n",
    "\n",
    "# default Arguments if we pass the value\n",
    "def sum(a,b=0):\n",
    "    print('a',a)\n",
    "    print('b',b)\n",
    "    total = a+b\n",
    "    return total\n",
    "\n",
    "n = sum(5,6)\n",
    "print('Total_2:',n)"
   ]
  },
  {
   "cell_type": "code",
   "execution_count": 14,
   "metadata": {},
   "outputs": [
    {
     "name": "stdout",
     "output_type": "stream",
     "text": [
      "Total: 11\n"
     ]
    }
   ],
   "source": [
    "# Documentation String is the String that tells about the function what the function is doing and the pre and\n",
    "# post conditions about the function\n",
    "\n",
    "# We use the Documentation String using triple quotes \"\"\"---\"\"\"\n",
    "\n",
    "def sum(a,b):\n",
    "    \"\"\"\n",
    "    This function takes two arguments which are integer numbers and\n",
    "    it will return sum of them as an output\n",
    "     \n",
    "    \"\"\"\n",
    "    total = a+b\n",
    "    return total\n",
    "\n",
    "n = sum(5,6)\n",
    "print('Total:',n)"
   ]
  }
 ],
 "metadata": {
  "kernelspec": {
   "display_name": "base",
   "language": "python",
   "name": "python3"
  },
  "language_info": {
   "codemirror_mode": {
    "name": "ipython",
    "version": 3
   },
   "file_extension": ".py",
   "mimetype": "text/x-python",
   "name": "python",
   "nbconvert_exporter": "python",
   "pygments_lexer": "ipython3",
   "version": "3.12.4"
  }
 },
 "nbformat": 4,
 "nbformat_minor": 2
}
