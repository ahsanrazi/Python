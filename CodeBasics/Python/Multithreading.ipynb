{
 "cells": [
  {
   "cell_type": "markdown",
   "metadata": {},
   "source": [
    "# Multithreading"
   ]
  },
  {
   "cell_type": "code",
   "execution_count": 1,
   "metadata": {},
   "outputs": [],
   "source": [
    "# Multithreading is Handling multiple tasks at the same time. The tasks are called threads.\n",
    "\n",
    "# Link: https://www.geeksforgeeks.org/multithreading-python-set-1/"
   ]
  },
  {
   "cell_type": "code",
   "execution_count": null,
   "metadata": {},
   "outputs": [],
   "source": [
    "# Multithreading is defined as the ability of a processor to execute multiple threads concurrently. In a \n",
    "# simple, single-core CPU, it is achieved using frequent switching between threads. This is termed context switching. \n",
    "# In context switching, the state of a thread is saved and the state of another thread is loaded whenever any \n",
    "# interrupt (due to I/O or manually set) takes place. Context switching takes place so frequently that all \n",
    "# the threads appear to be running parallelly."
   ]
  },
  {
   "cell_type": "code",
   "execution_count": 5,
   "metadata": {},
   "outputs": [
    {
     "name": "stdout",
     "output_type": "stream",
     "text": [
      "Calculate Square of Numbers\n",
      "square: 4\n",
      "square: 9\n",
      "square: 16\n",
      "square: 25\n",
      "Calculate Cube of Numbers\n",
      "Cube: 8\n",
      "Cube: 27\n",
      "Cube: 64\n",
      "Cube: 125\n",
      "Done in:  1.6201860904693604\n",
      "I am done with all my work\n"
     ]
    }
   ],
   "source": [
    "# For a given list of numbers print square and cube of every numbers\n",
    "\n",
    "import time\n",
    "\n",
    "def cal_square(numbers):\n",
    "     print(\"Calculate Square of Numbers\")\n",
    "     for n in numbers:\n",
    "         time.sleep(0.2)\n",
    "         print(\"square:\",n*n)\n",
    "         \n",
    "def cal_cube(numbers):\n",
    "     print(\"Calculate Cube of Numbers\")\n",
    "     for n in numbers:\n",
    "         time.sleep(0.2)\n",
    "         print(\"Cube:\",n*n*n)\n",
    "         \n",
    "arr = [2,3,4,5]\n",
    "\n",
    "t = time.time()\n",
    "cal_square(arr)\n",
    "cal_cube(arr)\n",
    "\n",
    "print(\"Done in: \",time.time()-t)\n",
    "print(\"I am done with all my work\")"
   ]
  },
  {
   "cell_type": "code",
   "execution_count": 6,
   "metadata": {},
   "outputs": [],
   "source": [
    "# There are the Situations when you are waiting for something else like (calling webservice) at this time the CPU\n",
    "# is free.\n",
    "# Utilizing this idle time is called multi-threading (Give CPU some work)"
   ]
  },
  {
   "cell_type": "code",
   "execution_count": 7,
   "metadata": {},
   "outputs": [
    {
     "name": "stdout",
     "output_type": "stream",
     "text": [
      "Calculate Square of Numbers\n",
      "Calculate Cube of Numbers\n",
      "square: 4\n",
      "Cube: 8\n",
      "square: 9\n",
      "Cube: 27\n",
      "Cube: 64\n",
      "square: 16\n",
      "square:Cube: 125\n",
      " 25\n",
      "Done in:  0.813323974609375\n",
      "I am done with all my work\n"
     ]
    }
   ],
   "source": [
    "# in this Example the CPU is free for 2 sec So we use this time using multi-threading\n",
    "\n",
    "import time\n",
    "import threading \n",
    "\n",
    "def cal_square(numbers):\n",
    "     print(\"Calculate Square of Numbers\")\n",
    "     for n in numbers:\n",
    "         time.sleep(0.2)\n",
    "         print(\"square:\",n*n)\n",
    "         \n",
    "def cal_cube(numbers):\n",
    "     print(\"Calculate Cube of Numbers\")\n",
    "     for n in numbers:\n",
    "         time.sleep(0.2)\n",
    "         print(\"Cube:\",n*n*n)\n",
    "         \n",
    "arr = [2,3,4,5]\n",
    "\n",
    "t = time.time()\n",
    "\n",
    "t1 = threading.Thread(target=cal_square, args=(arr,))\n",
    "t2 = threading.Thread(target=cal_cube, args=(arr,))\n",
    "\n",
    "t1.start()\n",
    "t2.start() # This will execute the program in parallel\n",
    "\n",
    "t1.join()\n",
    "t2.join() # This helps to wait until the t1,t2 are done \n",
    "\n",
    "print(\"Done in: \",time.time()-t)\n",
    "print(\"I am done with all my work\")"
   ]
  }
 ],
 "metadata": {
  "kernelspec": {
   "display_name": "base",
   "language": "python",
   "name": "python3"
  },
  "language_info": {
   "codemirror_mode": {
    "name": "ipython",
    "version": 3
   },
   "file_extension": ".py",
   "mimetype": "text/x-python",
   "name": "python",
   "nbconvert_exporter": "python",
   "pygments_lexer": "ipython3",
   "version": "3.12.4"
  }
 },
 "nbformat": 4,
 "nbformat_minor": 2
}
