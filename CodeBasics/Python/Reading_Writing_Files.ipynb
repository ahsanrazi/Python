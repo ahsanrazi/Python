{
 "cells": [
  {
   "cell_type": "markdown",
   "metadata": {},
   "source": [
    "# Reading and Writing Files"
   ]
  },
  {
   "cell_type": "code",
   "execution_count": 1,
   "metadata": {},
   "outputs": [],
   "source": [
    "# For reading and writing files we use open()\n",
    "# open() will open new file either for reading or writing, it has two parameters ('path','file open mode (r,w)')\n",
    "\n",
    "# For Writing\n",
    "f = open(\"C://Ahsan//AI/Python//CodeBasics//Python//text_files//Python.txt\",\"w\")\n",
    "f.write(\"I love Python\")\n",
    "f.close() # It will free up all the resources that the OS will allocate"
   ]
  },
  {
   "cell_type": "code",
   "execution_count": 6,
   "metadata": {},
   "outputs": [],
   "source": [
    "# If I write the new content it will overwrite it\n",
    "f = open(\"C://Ahsan//AI/Python//CodeBasics//Python//text_files//Python.txt\",\"w\")\n",
    "f.write(\"I love Javascript\")\n",
    "f.close()\n",
    "\n",
    "# For nor overwriting the content we have to use append (a) instead of write (w)\n",
    "f = open(\"C://Ahsan//AI/Python//CodeBasics//Python//text_files//Python.txt\",\"a\")\n",
    "f.write(\" I love Python\")\n",
    "f.close()\n",
    "\n",
    "# For writing in the new line we use (\\n)\n",
    "f = open(\"C://Ahsan//AI/Python//CodeBasics//Python//text_files//Python.txt\",\"a\")\n",
    "f.write(\"\\nI love PHP\")\n",
    "f.close()"
   ]
  },
  {
   "cell_type": "code",
   "execution_count": 8,
   "metadata": {},
   "outputs": [
    {
     "name": "stdout",
     "output_type": "stream",
     "text": [
      "Teacher: Why are you late Joe?\n",
      "Joe: Because of the sign.\n",
      "Teacher: What sign?\n",
      "Joe: The one that says \"School Ahead, Go Slow\".\n",
      "\n"
     ]
    }
   ],
   "source": [
    "# For Reading the file\n",
    "f = open(\"C://Ahsan//AI/Python//CodeBasics//Python//text_files//Dialog.txt\",\"r\")\n",
    "print(f.read())\n",
    "f.close()"
   ]
  },
  {
   "cell_type": "code",
   "execution_count": 10,
   "metadata": {},
   "outputs": [
    {
     "name": "stdout",
     "output_type": "stream",
     "text": [
      "Teacher: Why are you late Joe?\n",
      "\n",
      "Joe: Because of the sign.\n",
      "\n",
      "Teacher: What sign?\n",
      "\n",
      "Joe: The one that says \"School Ahead, Go Slow\".\n",
      "\n"
     ]
    }
   ],
   "source": [
    "# Count the Number of words in each line\n",
    "f = open(\"C://Ahsan//AI/Python//CodeBasics//Python//text_files//Dialog.txt\",\"r\")\n",
    "\n",
    "for line in f:\n",
    "    print(line)\n",
    "\n",
    "f.close()"
   ]
  },
  {
   "cell_type": "code",
   "execution_count": 12,
   "metadata": {},
   "outputs": [
    {
     "name": "stdout",
     "output_type": "stream",
     "text": [
      "['Teacher:', 'Why', 'are', 'you', 'late', 'Joe?\\n']\n",
      "6\n",
      "['Joe:', 'Because', 'of', 'the', 'sign.\\n']\n",
      "5\n",
      "['Teacher:', 'What', 'sign?\\n']\n",
      "3\n",
      "['Joe:', 'The', 'one', 'that', 'says', '\"School', 'Ahead,', 'Go', 'Slow\".\\n']\n",
      "9\n"
     ]
    }
   ],
   "source": [
    "f = open(\"C://Ahsan//AI/Python//CodeBasics//Python//text_files//Dialog.txt\",\"r\")\n",
    "\n",
    "for line in f:\n",
    "    tokens = line.split(' ')\n",
    "    print(tokens)\n",
    "    print(len(tokens))\n",
    "\n",
    "f.close()"
   ]
  },
  {
   "cell_type": "code",
   "execution_count": null,
   "metadata": {},
   "outputs": [],
   "source": [
    "# File Open Modes\n",
    "\n",
    "# r =  Open file for reading only. Throws error if file does not exist.\n",
    "# w =  Open file for writing only. If file does not exist then it will create new one. It it exist it overwrite it.\n",
    "# r+ = Open file for both reading and writing.\n",
    "# w+ = Open file for both reading and writing. If file does not exist then it will create new one.\n",
    "#      It it exist it overwrite it.\n",
    "# a =  Open the file in append mode. Whatever you write to a file it gety appended and original content will \n",
    "#      not be overwritten"
   ]
  },
  {
   "cell_type": "code",
   "execution_count": 14,
   "metadata": {},
   "outputs": [
    {
     "name": "stdout",
     "output_type": "stream",
     "text": [
      "Teacher: Why are you late Joe?\n",
      "Joe: Because of the sign.\n",
      "Teacher: What sign?\n",
      "Joe: The one that says \"School Ahead, Go Slow\".\n",
      "\n"
     ]
    }
   ],
   "source": [
    "# In the above code we explicitly close() the file. If we not explicitly close() the file we use the \n",
    "# (with) statement\n",
    "\n",
    "with open(\"C://Ahsan//AI/Python//CodeBasics//Python//text_files//Dialog.txt\",\"r\") as f:\n",
    "    print(f.read())"
   ]
  }
 ],
 "metadata": {
  "kernelspec": {
   "display_name": "base",
   "language": "python",
   "name": "python3"
  },
  "language_info": {
   "codemirror_mode": {
    "name": "ipython",
    "version": 3
   },
   "file_extension": ".py",
   "mimetype": "text/x-python",
   "name": "python",
   "nbconvert_exporter": "python",
   "pygments_lexer": "ipython3",
   "version": "3.12.4"
  }
 },
 "nbformat": 4,
 "nbformat_minor": 2
}
