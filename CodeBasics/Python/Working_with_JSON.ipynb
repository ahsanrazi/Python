{
 "cells": [
  {
   "cell_type": "markdown",
   "metadata": {},
   "source": [
    "# Working with JSON"
   ]
  },
  {
   "cell_type": "code",
   "execution_count": 10,
   "metadata": {},
   "outputs": [
    {
     "name": "stdout",
     "output_type": "stream",
     "text": [
      "{\"tom\": {\"name\": \"tom\", \"address\": \"1 red street NY\", \"phone\": 123456}, \"bob\": {\"name\": \"bob\", \"address\": \"1 green street NY\", \"phone\": 456789}}\n"
     ]
    }
   ],
   "source": [
    "# JSON stands for Javascript object notation\n",
    "# JSON is a data exchange format similar to XML\n",
    "# JSON is much more lightweight as compared to XML\n",
    "\n",
    "# JSON object is open and closes with curly brackets and in JSON we have data in the form of key:value pairs \n",
    "# similar to dictionaries in Python\n",
    "\n",
    "# In python we have no object related to JSON it is just a concept to represent data in key:value pairs\n",
    "# For this we use Dictionaries in Python\n",
    "\n",
    "# Create Empty dictionary\n",
    "book = {}\n",
    "\n",
    "# Add records\n",
    "book['tom'] = {\n",
    "    'name': 'tom',\n",
    "    'address':'1 red street NY',\n",
    "    'phone': 123456\n",
    "}\n",
    "\n",
    "book['bob'] = {\n",
    "    'name': 'bob',\n",
    "    'address':'1 green street NY',\n",
    "    'phone': 456789\n",
    "}\n",
    "\n",
    "\n",
    "import json\n",
    "s = json.dumps(book) # we take the dictionary object dumps into json format as a string\n",
    "print(s)\n",
    "\n",
    "\n",
    "# For writing data in the text file \n",
    "with open(\"C://Ahsan//AI/Python//CodeBasics//Python//text_files//book.txt\",\"w\") as f:\n",
    "    f.write(s)\n",
    "    \n",
    "# Now we can read this data using any language that support JSON that's why it is called data exchange format\n"
   ]
  },
  {
   "cell_type": "code",
   "execution_count": 19,
   "metadata": {},
   "outputs": [
    {
     "name": "stdout",
     "output_type": "stream",
     "text": [
      "{\"tom\": {\"name\": \"tom\", \"address\": \"1 red street NY\", \"phone\": 123456}, \"bob\": {\"name\": \"bob\", \"address\": \"1 green street NY\", \"phone\": 456789}}\n",
      "{'tom': {'name': 'tom', 'address': '1 red street NY', 'phone': 123456}, 'bob': {'name': 'bob', 'address': '1 green street NY', 'phone': 456789}}\n",
      "{'name': 'bob', 'address': '1 green street NY', 'phone': 456789}\n",
      "1 green street NY\n",
      "{'name': 'tom', 'address': '1 red street NY', 'phone': 123456}\n",
      "{'name': 'bob', 'address': '1 green street NY', 'phone': 456789}\n"
     ]
    }
   ],
   "source": [
    "# For reading the file\n",
    "\n",
    "f = open(\"C:/Ahsan/AI/Python/CodeBasics/Python/text_files/book.txt\",\"r\")\n",
    "s = f.read()\n",
    "print(s)\n",
    "\n",
    "# We have to convert the data into dictionary format from string\n",
    "import json\n",
    "book = json.loads(s)\n",
    "print(book)\n",
    "\n",
    "# Now you can treat as Dictionary\n",
    "print(book['bob'])\n",
    "print(book['bob']['address'])\n",
    "\n",
    "# we can also use the for loop to print all the records\n",
    "for person in book:\n",
    "    print(book[person])"
   ]
  }
 ],
 "metadata": {
  "kernelspec": {
   "display_name": "base",
   "language": "python",
   "name": "python3"
  },
  "language_info": {
   "codemirror_mode": {
    "name": "ipython",
    "version": 3
   },
   "file_extension": ".py",
   "mimetype": "text/x-python",
   "name": "python",
   "nbconvert_exporter": "python",
   "pygments_lexer": "ipython3",
   "version": "3.12.4"
  }
 },
 "nbformat": 4,
 "nbformat_minor": 2
}
