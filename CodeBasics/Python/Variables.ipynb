{
 "cells": [
  {
   "cell_type": "markdown",
   "metadata": {},
   "source": [
    "# Variables"
   ]
  },
  {
   "cell_type": "code",
   "execution_count": 8,
   "metadata": {},
   "outputs": [
    {
     "name": "stdout",
     "output_type": "stream",
     "text": [
      "Rent 1220\n",
      "Gas 202.5\n",
      "Groceries 305.6\n",
      "The total expense is: 1728.1\n",
      "Total items in the Expense are: Rent Gas Groceries\n"
     ]
    }
   ],
   "source": [
    "# Variable are containers that can hold any data (numeric-data, text-data, etc).\n",
    "\n",
    "rent = 1220\n",
    "gas = 202.5\n",
    "groceries = 305.6\n",
    "\n",
    "print('Rent',rent)\n",
    "print('Gas',gas)\n",
    "print('Groceries',groceries)\n",
    "\n",
    "total = rent+gas+groceries\n",
    "print('The total expense is:',total)\n",
    "\n",
    "Item1 = 'Rent'\n",
    "Item2 = 'Gas'\n",
    "Item3 = 'Groceries'\n",
    "\n",
    "print('Total items in the Expense are:',Item1,Item2,Item3)\n",
    "\n"
   ]
  },
  {
   "cell_type": "code",
   "execution_count": 12,
   "metadata": {},
   "outputs": [],
   "source": [
    "# Rules for naming variables:\n",
    "# We cannot use the keywors as variable names\n",
    "# We cannot use special characters in the variable names (Except underscore _ )\n",
    "# Variable names can't start with digits"
   ]
  }
 ],
 "metadata": {
  "kernelspec": {
   "display_name": "base",
   "language": "python",
   "name": "python3"
  },
  "language_info": {
   "codemirror_mode": {
    "name": "ipython",
    "version": 3
   },
   "file_extension": ".py",
   "mimetype": "text/x-python",
   "name": "python",
   "nbconvert_exporter": "python",
   "pygments_lexer": "ipython3",
   "version": "3.12.4"
  }
 },
 "nbformat": 4,
 "nbformat_minor": 2
}
