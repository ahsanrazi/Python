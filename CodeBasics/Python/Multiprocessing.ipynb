{
 "cells": [
  {
   "cell_type": "markdown",
   "metadata": {},
   "source": [
    "# Multiprocessing"
   ]
  },
  {
   "cell_type": "code",
   "execution_count": null,
   "metadata": {},
   "outputs": [],
   "source": [
    "# Multiprocessing uses multiple CPUs to run many processes at a time.\n",
    "# In Multiprocessing, CPUs are added to increase the computing speed of the system. Because of Multiprocessing,\n",
    "# there are many processes are executed simultaneously.\n",
    "\n",
    "# A multiprocessing system can have:\n",
    "# Multiprocessor:       A computer with more than one central processor.\n",
    "# Multi-core processor: A single computing component with two or more independent actual processing units\n",
    "#                       (called “cores”).\n",
    "\n",
    "# Link: https://www.geeksforgeeks.org/multiprocessing-python-set-1/"
   ]
  },
  {
   "cell_type": "code",
   "execution_count": 8,
   "metadata": {},
   "outputs": [
    {
     "name": "stdout",
     "output_type": "stream",
     "text": [
      "Done\n"
     ]
    }
   ],
   "source": [
    "# Create two Processes:\n",
    "# First is calculate the square of all Numbers\n",
    "# Second one is to calculate cube of Numbers\n",
    "\n",
    "import time\n",
    "import multiprocessing\n",
    "\n",
    "def cal_square(numbers):\n",
    "     print(\"Calculate Square of Numbers\")\n",
    "     for n in numbers:\n",
    "         time.sleep(5)\n",
    "         print(\"square:\",n*n)\n",
    "         \n",
    "def cal_cube(numbers):\n",
    "     print(\"Calculate Cube of Numbers\")\n",
    "     for n in numbers:\n",
    "         time.sleep(5)\n",
    "         print(\"Cube:\",n*n*n) \n",
    "         \n",
    "\n",
    "if __name__ == \"__main__\":\n",
    "    arr = [2,3,4,5]\n",
    "    \n",
    "    p1 = multiprocessing.Process(target=cal_square, args=(arr,))\n",
    "    p2 = multiprocessing.Process(target=cal_cube, args=(arr,))\n",
    "    \n",
    "    p1.start()\n",
    "    p2.start()\n",
    "    \n",
    "    p1.join()\n",
    "    p2.join()\n",
    "    \n",
    "    print(\"Done\")\n",
    "    \n",
    "    "
   ]
  },
  {
   "cell_type": "code",
   "execution_count": 10,
   "metadata": {},
   "outputs": [
    {
     "name": "stdout",
     "output_type": "stream",
     "text": [
      "Result []\n",
      "Done\n"
     ]
    }
   ],
   "source": [
    "# Store result in the Global variable\n",
    "\n",
    "import multiprocessing\n",
    "\n",
    "square_result = []\n",
    "def cal_square(numbers):\n",
    "    global square_result\n",
    "    \n",
    "    print(\"Calculate Square of Numbers\")\n",
    "    for n in numbers:\n",
    "        print(\"square:\",n*n)\n",
    "        square_result.append(n*n)\n",
    "    \n",
    "    print(\"Within Process \"+str(square_result))     \n",
    "\n",
    "\n",
    "if __name__ == \"__main__\":\n",
    "    arr = [2,3,4,5]\n",
    "    \n",
    "    p1 = multiprocessing.Process(target=cal_square, args=(arr,))\n",
    "    \n",
    "    p1.start()\n",
    "    p1.join()\n",
    "    \n",
    "    print(\"Result \"+str(square_result))\n",
    "    print(\"Done\") "
   ]
  },
  {
   "cell_type": "code",
   "execution_count": null,
   "metadata": {},
   "outputs": [],
   "source": [
    "# The square_result list is empty Beacause:\n",
    "\n",
    "# Every process has its own address space (virtual memory). Thus program variables are not shared between two processes\n",
    "# We need to use interprocess communication (IPC) techniques if you want to share data between two processes"
   ]
  },
  {
   "cell_type": "markdown",
   "metadata": {},
   "source": [
    "# Sharing Data Between Processes"
   ]
  },
  {
   "cell_type": "code",
   "execution_count": 13,
   "metadata": {},
   "outputs": [
    {
     "name": "stdout",
     "output_type": "stream",
     "text": [
      "Outside Process[]\n"
     ]
    }
   ],
   "source": [
    "import multiprocessing\n",
    "\n",
    "square_result = []\n",
    "def cal_square(numbers):\n",
    "    global square_result\n",
    "    \n",
    "    print(\"Calculate Square of Numbers\")\n",
    "    for n in numbers:\n",
    "        print(\"square:\",n*n)\n",
    "        square_result.append(n*n)\n",
    "    \n",
    "    print(\"Inside Process \"+str(square_result))     \n",
    "\n",
    "\n",
    "if __name__ == \"__main__\":\n",
    "    arr = [2,3,4,5]\n",
    "    \n",
    "    p1 = multiprocessing.Process(target=cal_square, args=(arr,))\n",
    "    \n",
    "    p1.start()\n",
    "    p1.join()\n",
    "    \n",
    "    print(\"Outside Process\"+str(square_result))\n",
    "    \n",
    "# In this Program\n",
    "# Inside the Process the values are printed But Outside the Process the values are not printed (They are not sharing data)\n",
    "# The reason is when we create the new process it has its own address space (The space where it store all the variables).\n",
    "\n",
    "# We can solve this issue of sharing data between two processes by using the Shared Memory\n",
    "    "
   ]
  },
  {
   "cell_type": "code",
   "execution_count": 14,
   "metadata": {},
   "outputs": [
    {
     "name": "stdout",
     "output_type": "stream",
     "text": [
      "[0, 0, 0]\n"
     ]
    }
   ],
   "source": [
    "# There are ways of Sharing the Memory:\n",
    "# Using Array\n",
    "# Using Value\n",
    "# Using Queue\n",
    "\n",
    "# using Array\n",
    "\n",
    "import multiprocessing\n",
    "\n",
    "def cal_square(numbers, result):\n",
    "    for idx, n in enumerate(numbers): # enumerate() gives index as well as value\n",
    "        result[idx] = n*n\n",
    "        \n",
    "if __name__ ==  \"__main__\":\n",
    "    numbers = [2,3,4,5]\n",
    "    \n",
    "    result = multiprocessing.Array('i',3) # (i) -> is data-type (i-> integer, d-> double), 3 -> no. of values in array\n",
    "    p = multiprocessing.Process(target=cal_square, args=(numbers,result))\n",
    "    \n",
    "    p.start()\n",
    "    p.join()\n",
    "    \n",
    "    print(result[:])"
   ]
  },
  {
   "cell_type": "code",
   "execution_count": 20,
   "metadata": {},
   "outputs": [
    {
     "name": "stdout",
     "output_type": "stream",
     "text": [
      "0.0\n",
      "[0, 0, 0]\n"
     ]
    }
   ],
   "source": [
    "# Using value\n",
    "\n",
    "\n",
    "import multiprocessing\n",
    "\n",
    "def cal_square(numbers, result, v):\n",
    "    v.value = 5.56\n",
    "    for idx, n in enumerate(numbers): \n",
    "        result[idx] = n*n\n",
    "        \n",
    "if __name__ ==  \"__main__\":\n",
    "    numbers = [2,3,4,5]\n",
    "    \n",
    "    result = multiprocessing.Array('i',3) \n",
    "    v = multiprocessing.Value('d',0.0)\n",
    "    p = multiprocessing.Process(target=cal_square, args=(numbers,result,v))\n",
    "    \n",
    "    p.start()\n",
    "    p.join()\n",
    "    \n",
    "    print(v.value)\n",
    "    print(result[:])\n",
    "\n",
    "    "
   ]
  },
  {
   "cell_type": "code",
   "execution_count": 21,
   "metadata": {},
   "outputs": [
    {
     "name": "stdout",
     "output_type": "stream",
     "text": [
      "0.0\n"
     ]
    }
   ],
   "source": [
    "import multiprocessing\n",
    "\n",
    "def update_value(v):\n",
    "    v.value = 5.56\n",
    "        \n",
    "if __name__ ==  \"__main__\":\n",
    "    \n",
    "    v = multiprocessing.Value('d',0.0)\n",
    "    p = multiprocessing.Process(target=update_value, args=(v,))\n",
    "    \n",
    "    p.start()\n",
    "    p.join()\n",
    "    \n",
    "    print(v.value)"
   ]
  },
  {
   "cell_type": "code",
   "execution_count": 22,
   "metadata": {},
   "outputs": [],
   "source": [
    "# Using Multiprocessing Queue\n",
    "\n",
    "import multiprocessing\n",
    "\n",
    "def cal_square(numbers, q):\n",
    "    for n in numbers:\n",
    "        q.put(n*n)\n",
    "        \n",
    "if __name__ ==  \"__main__\":\n",
    "    numbers = [2,3,4,5]\n",
    "    \n",
    "    q = multiprocessing.Queue()\n",
    "    p = multiprocessing.Process(target=cal_square, args=(numbers,q))\n",
    "    \n",
    "    p.start()\n",
    "    p.join()\n",
    "    \n",
    "    while q.empty() is False:\n",
    "        print(q.get())"
   ]
  },
  {
   "cell_type": "code",
   "execution_count": 26,
   "metadata": {},
   "outputs": [],
   "source": [
    "# Multiprocessing Queue is used to share data between processes\n",
    "# Lives in Shared Memory\n",
    "\n",
    "import multiprocessing\n",
    "q = multiprocessing.Queue()\n",
    "\n",
    "# Queue Module is used to share data between threads\n",
    "# Lives in in-process Memory\n",
    "\n",
    "import queue\n",
    "q = queue.Queue()"
   ]
  },
  {
   "cell_type": "markdown",
   "metadata": {},
   "source": [
    "# Multiprocessing Lock"
   ]
  },
  {
   "cell_type": "code",
   "execution_count": 32,
   "metadata": {},
   "outputs": [
    {
     "name": "stdout",
     "output_type": "stream",
     "text": [
      "200\n"
     ]
    }
   ],
   "source": [
    "# Why we need Lock in real life.\n",
    "# In day-to-day life there are the resources that cannot be access by the two people at the same time\n",
    "# For Example: Bathroom (Bathroom door has a lock)\n",
    "\n",
    "# In Programming when two Proccesses and Threads trying to access the shared resource (Memory, files and Database)\n",
    "# at the same time it can create a problem that's why we need lock\n",
    "\n",
    "# Program: Banking Problem\n",
    "\n",
    "import time\n",
    "import multiprocessing\n",
    "\n",
    "def deposit(balance, lock):\n",
    "    for i in range(100):\n",
    "        time.sleep(0.01)\n",
    "        lock.acquire()\n",
    "        balance.value = balance.value+1 # This is critical section (Accessing shared resource)\n",
    "        lock.release()\n",
    "        \n",
    "def withdraw(balance, lock):\n",
    "    for i in range(100):\n",
    "        time.sleep(0.01)\n",
    "        lock.acquire()\n",
    "        balance.value = balance.value-1 # This is critical section (Accessing shared resource)\n",
    "        lock.release()\n",
    "        \n",
    "if __name__ ==  \"__main__\":\n",
    "    \n",
    "    balance = multiprocessing.Value('i',200)\n",
    "    lock = multiprocessing.Lock()\n",
    "    d = multiprocessing.Process(target=deposit, args=(balance, lock))\n",
    "    w = multiprocessing.Process(target=withdraw, args=(balance, lock))\n",
    "    \n",
    "    d.start()\n",
    "    d.join()\n",
    "    w.start()\n",
    "    w.join()\n",
    "    \n",
    "    print(balance.value)\n",
    "        "
   ]
  },
  {
   "cell_type": "markdown",
   "metadata": {},
   "source": [
    "# Difference between Multithreading and multiprocessing"
   ]
  },
  {
   "cell_type": "code",
   "execution_count": 25,
   "metadata": {},
   "outputs": [],
   "source": [
    "# Link: https://www.geeksforgeeks.org/difference-between-multiprocessing-and-multithreading/"
   ]
  }
 ],
 "metadata": {
  "kernelspec": {
   "display_name": "base",
   "language": "python",
   "name": "python3"
  },
  "language_info": {
   "codemirror_mode": {
    "name": "ipython",
    "version": 3
   },
   "file_extension": ".py",
   "mimetype": "text/x-python",
   "name": "python",
   "nbconvert_exporter": "python",
   "pygments_lexer": "ipython3",
   "version": "3.12.4"
  }
 },
 "nbformat": 4,
 "nbformat_minor": 2
}
