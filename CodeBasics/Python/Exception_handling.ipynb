{
 "cells": [
  {
   "cell_type": "markdown",
   "metadata": {},
   "source": [
    "# Exception Handling"
   ]
  },
  {
   "cell_type": "code",
   "execution_count": 1,
   "metadata": {},
   "outputs": [],
   "source": [
    "# Exceprion are the Errors that occur while executing our Program\n",
    "\n",
    "# For Example:\n",
    "# Dividing a number by zero\n",
    "# Concatenate a String with Number etc\n",
    "\n",
    "# When these Exceptions occur the Program crash and terminate "
   ]
  },
  {
   "cell_type": "code",
   "execution_count": 3,
   "metadata": {},
   "outputs": [
    {
     "ename": "ZeroDivisionError",
     "evalue": "division by zero",
     "output_type": "error",
     "traceback": [
      "\u001b[1;31m---------------------------------------------------------------------------\u001b[0m",
      "\u001b[1;31mZeroDivisionError\u001b[0m                         Traceback (most recent call last)",
      "Cell \u001b[1;32mIn[3], line 4\u001b[0m\n\u001b[0;32m      1\u001b[0m x \u001b[38;5;241m=\u001b[39m \u001b[38;5;28mint\u001b[39m(\u001b[38;5;28minput\u001b[39m(\u001b[38;5;124m\"\u001b[39m\u001b[38;5;124mEnter Number 1: \u001b[39m\u001b[38;5;124m\"\u001b[39m))\n\u001b[0;32m      2\u001b[0m y \u001b[38;5;241m=\u001b[39m \u001b[38;5;28mint\u001b[39m(\u001b[38;5;28minput\u001b[39m(\u001b[38;5;124m\"\u001b[39m\u001b[38;5;124mEnter Number 2: \u001b[39m\u001b[38;5;124m\"\u001b[39m))\n\u001b[1;32m----> 4\u001b[0m z \u001b[38;5;241m=\u001b[39m x\u001b[38;5;241m/\u001b[39my\n\u001b[0;32m      6\u001b[0m \u001b[38;5;28mprint\u001b[39m(\u001b[38;5;124m\"\u001b[39m\u001b[38;5;124mDivision is :\u001b[39m\u001b[38;5;124m\"\u001b[39m,z)\n",
      "\u001b[1;31mZeroDivisionError\u001b[0m: division by zero"
     ]
    }
   ],
   "source": [
    "x = int(input(\"Enter Number 1: \"))\n",
    "y = int(input(\"Enter Number 2: \"))\n",
    "\n",
    "z = x/y\n",
    "\n",
    "print(\"Division is :\",z)\n",
    "\n",
    "# What happens when the User Enter the second number Zero. The Program crashes and terminate So, for this we \n",
    "# have to handle the Exception   "
   ]
  },
  {
   "cell_type": "code",
   "execution_count": 35,
   "metadata": {},
   "outputs": [
    {
     "name": "stdout",
     "output_type": "stream",
     "text": [
      "Exception Occured:  division by zero\n",
      "Division is : None\n"
     ]
    }
   ],
   "source": [
    "# To handle the Exception we use (try, except)\n",
    "\n",
    "# The try block lets you test a block of code for errors.\n",
    "# The except block lets you handle the error.\n",
    "# The else block lets you execute code when there is no error.\n",
    "# The finally block lets you execute code, regardless of the result of the try- and except blocks.\n",
    "\n",
    "x = int(input(\"Enter Number 1: \"))\n",
    "y = int(input(\"Enter Number 2: \"))\n",
    "z = None\n",
    "try:\n",
    "    z = x/y\n",
    "except Exception as e:\n",
    "    print('Exception Occured: ',e)\n",
    "\n",
    "print(\"Division is :\",z)"
   ]
  },
  {
   "cell_type": "code",
   "execution_count": 25,
   "metadata": {},
   "outputs": [
    {
     "name": "stdout",
     "output_type": "stream",
     "text": [
      "Division By Zero Exception\n",
      "Division is : None\n"
     ]
    }
   ],
   "source": [
    "# The Upper Exception is very generic Exception. There are also Specific builtin Exceptions in Python. \n",
    "x = int(input(\"Enter Number 1: \"))\n",
    "y = int(input(\"Enter Number 2: \"))\n",
    "z = None\n",
    "try:\n",
    "    z = x/y\n",
    "except ZeroDivisionError as e:\n",
    "    print(\"Division By Zero Exception\")\n",
    "\n",
    "print(\"Division is :\",z)"
   ]
  },
  {
   "cell_type": "code",
   "execution_count": 13,
   "metadata": {},
   "outputs": [
    {
     "name": "stdout",
     "output_type": "stream",
     "text": [
      "Exception type: ZeroDivisionError\n",
      "Division is : None\n"
     ]
    }
   ],
   "source": [
    "# To Find the type of Exception\n",
    "\n",
    "x = int(input(\"Enter Number 1: \"))\n",
    "y = int(input(\"Enter Number 2: \"))\n",
    "z = None\n",
    "try:\n",
    "    z = x/y\n",
    "except Exception as e:\n",
    "    print(\"Exception type:\",type(e).__name__)\n",
    "\n",
    "print(\"Division is :\",z)"
   ]
  },
  {
   "cell_type": "markdown",
   "metadata": {},
   "source": [
    "# Handling Multiple Exceptions"
   ]
  },
  {
   "cell_type": "code",
   "execution_count": 16,
   "metadata": {},
   "outputs": [
    {
     "name": "stdout",
     "output_type": "stream",
     "text": [
      "Type Error Exception\n",
      "Division is : None\n"
     ]
    }
   ],
   "source": [
    "# Division By Zero\n",
    "# Converting String into Interger\n",
    "\n",
    "x = input(\"Enter Number 1: \")\n",
    "y = input(\"Enter Number 2: \")\n",
    "z = None\n",
    "try:\n",
    "    z = x / int(y)\n",
    "except ZeroDivisionError as e:\n",
    "    print(\"Division By Zero Exception\")\n",
    "except TypeError as e:\n",
    "    print(\"Type Error Exception\")\n",
    "\n",
    "print(\"Division is :\",z)"
   ]
  },
  {
   "cell_type": "markdown",
   "metadata": {},
   "source": [
    "# Raise Exceptions"
   ]
  },
  {
   "cell_type": "code",
   "execution_count": 27,
   "metadata": {},
   "outputs": [
    {
     "name": "stdout",
     "output_type": "stream",
     "text": [
      "Memory Error\n"
     ]
    }
   ],
   "source": [
    "# Raise is used to throw an exception if a condition occurs\n",
    "\n",
    "# Raise Standard Exception\n",
    "\n",
    "try:\n",
    "    raise MemoryError(\"Memory Error\")\n",
    "except MemoryError as e:\n",
    "    print(e)"
   ]
  },
  {
   "cell_type": "code",
   "execution_count": 20,
   "metadata": {},
   "outputs": [
    {
     "name": "stdout",
     "output_type": "stream",
     "text": [
      "User Defined Exception: Crash between two Cars\n"
     ]
    }
   ],
   "source": [
    "# User-defined Exceptions\n",
    "\n",
    "# Exceptions in Python are the instance of classes. If we have to define our own Exception we need to\n",
    "# define a class\n",
    "\n",
    "class Accident(Exception):\n",
    "    def __init__(self,msg):\n",
    "            self.msg = msg\n",
    "    def print_exception(self):\n",
    "        print(\"User Defined Exception:\",self.msg)\n",
    "        \n",
    "\n",
    "try:\n",
    "    raise Accident(\"Crash between two Cars\")\n",
    "except Accident as e:\n",
    "    e.print_exception()"
   ]
  },
  {
   "cell_type": "code",
   "execution_count": 23,
   "metadata": {},
   "outputs": [
    {
     "name": "stdout",
     "output_type": "stream",
     "text": [
      "Accident Occur take a DeTour\n"
     ]
    }
   ],
   "source": [
    "class Accident(Exception):\n",
    "    def __init__(self,msg):\n",
    "            self.msg = msg\n",
    "    def handle(self):\n",
    "        print(\"Accident Occur take a DeTour\")\n",
    "        \n",
    "\n",
    "try:\n",
    "    raise Accident(\"Crash between two Cars\")\n",
    "except Accident as e:\n",
    "    e.handle()"
   ]
  },
  {
   "cell_type": "code",
   "execution_count": 30,
   "metadata": {},
   "outputs": [
    {
     "name": "stdout",
     "output_type": "stream",
     "text": [
      "Exception Occured:  Only integers are allowed\n"
     ]
    }
   ],
   "source": [
    "x = \"hello\"\n",
    "try:\n",
    "    if not type(x) is int:\n",
    "        raise TypeError(\"Only integers are allowed\")\n",
    "except TypeError as e:\n",
    "    print(\"Exception Occured: \",e)"
   ]
  },
  {
   "cell_type": "markdown",
   "metadata": {},
   "source": [
    "# finally"
   ]
  },
  {
   "cell_type": "code",
   "execution_count": 33,
   "metadata": {},
   "outputs": [
    {
     "name": "stdout",
     "output_type": "stream",
     "text": [
      "Cleaning Up file\n"
     ]
    },
    {
     "ename": "ZeroDivisionError",
     "evalue": "division by zero",
     "output_type": "error",
     "traceback": [
      "\u001b[1;31m---------------------------------------------------------------------------\u001b[0m",
      "\u001b[1;31mZeroDivisionError\u001b[0m                         Traceback (most recent call last)",
      "Cell \u001b[1;32mIn[33], line 13\u001b[0m\n\u001b[0;32m     10\u001b[0m         \u001b[38;5;28mprint\u001b[39m(\u001b[38;5;124m\"\u001b[39m\u001b[38;5;124mCleaning Up file\u001b[39m\u001b[38;5;124m\"\u001b[39m)\n\u001b[0;32m     11\u001b[0m         f\u001b[38;5;241m.\u001b[39mclose()\n\u001b[1;32m---> 13\u001b[0m process_file()\n",
      "Cell \u001b[1;32mIn[33], line 6\u001b[0m, in \u001b[0;36mprocess_file\u001b[1;34m()\u001b[0m\n\u001b[0;32m      4\u001b[0m \u001b[38;5;28;01mtry\u001b[39;00m:\n\u001b[0;32m      5\u001b[0m     f \u001b[38;5;241m=\u001b[39m \u001b[38;5;28mopen\u001b[39m(\u001b[38;5;124m\"\u001b[39m\u001b[38;5;124mC://Ahsan//AI/Python//CodeBasics//Python//text_files//Dialog.txt\u001b[39m\u001b[38;5;124m\"\u001b[39m)\n\u001b[1;32m----> 6\u001b[0m     x \u001b[38;5;241m=\u001b[39m \u001b[38;5;241m1\u001b[39m\u001b[38;5;241m/\u001b[39m\u001b[38;5;241m0\u001b[39m\n\u001b[0;32m      7\u001b[0m \u001b[38;5;28;01mexcept\u001b[39;00m \u001b[38;5;167;01mFileNotFoundError\u001b[39;00m \u001b[38;5;28;01mas\u001b[39;00m e:\n\u001b[0;32m      8\u001b[0m     \u001b[38;5;28mprint\u001b[39m(\u001b[38;5;124m\"\u001b[39m\u001b[38;5;124mInside Except\u001b[39m\u001b[38;5;124m\"\u001b[39m)\n",
      "\u001b[1;31mZeroDivisionError\u001b[0m: division by zero"
     ]
    }
   ],
   "source": [
    "# The finally block lets you execute code, regardless of the result of the try- and except blocks.\n",
    "\n",
    "def process_file():\n",
    "    try:\n",
    "        f = open(\"C://Ahsan//AI/Python//CodeBasics//Python//text_files//Dialog.txt\")\n",
    "        x = 1/0\n",
    "    except FileNotFoundError as e:\n",
    "        print(\"Inside Except\")\n",
    "    finally:\n",
    "        print(\"Cleaning Up file\")\n",
    "        f.close()\n",
    "        \n",
    "process_file()\n",
    "\n",
    "\n",
    "# The code in the finally block will close the file even if the program terminates."
   ]
  }
 ],
 "metadata": {
  "kernelspec": {
   "display_name": "base",
   "language": "python",
   "name": "python3"
  },
  "language_info": {
   "codemirror_mode": {
    "name": "ipython",
    "version": 3
   },
   "file_extension": ".py",
   "mimetype": "text/x-python",
   "name": "python",
   "nbconvert_exporter": "python",
   "pygments_lexer": "ipython3",
   "version": "3.12.4"
  }
 },
 "nbformat": 4,
 "nbformat_minor": 2
}
