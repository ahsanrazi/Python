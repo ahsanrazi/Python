{
 "cells": [
  {
   "cell_type": "markdown",
   "metadata": {},
   "source": [
    "# Sets"
   ]
  },
  {
   "cell_type": "code",
   "execution_count": 1,
   "metadata": {},
   "outputs": [
    {
     "name": "stdout",
     "output_type": "stream",
     "text": [
      "{'orange', 'mango', 'apple'}\n"
     ]
    }
   ],
   "source": [
    "# Set is an unordered collection of Unique elements. It is defined using curly braces {}.\n",
    "\n",
    "# For Example: Basket of Fruits\n",
    "basket = {\"orange\",\"apple\",\"mango\"}\n",
    "print(basket)"
   ]
  },
  {
   "cell_type": "code",
   "execution_count": 2,
   "metadata": {},
   "outputs": [
    {
     "name": "stdout",
     "output_type": "stream",
     "text": [
      "{'orange', 'mango', 'apple'}\n"
     ]
    }
   ],
   "source": [
    "# Set doesn't allow duplicate elements. If we write the duplicate elements in set then it will remove it.\n",
    "\n",
    "basket = {\"orange\",\"apple\",\"mango\",\"apple\",\"mango\"}\n",
    "print(basket)"
   ]
  },
  {
   "cell_type": "code",
   "execution_count": 3,
   "metadata": {},
   "outputs": [
    {
     "name": "stdout",
     "output_type": "stream",
     "text": [
      "{'orange', 'mango', 'apple'}\n"
     ]
    }
   ],
   "source": [
    "# we can also initialize set using set()\n",
    "\n",
    "basket = set()\n",
    "basket.add(\"orange\")\n",
    "basket.add(\"apple\")\n",
    "basket.add(\"mango\")\n",
    "\n",
    "print(basket)"
   ]
  },
  {
   "cell_type": "code",
   "execution_count": 4,
   "metadata": {},
   "outputs": [
    {
     "name": "stdout",
     "output_type": "stream",
     "text": [
      "<class 'dict'>\n"
     ]
    }
   ],
   "source": [
    "# We cannot initlaliza Empty set using curly barckets if we do this it will initialize it as dictionary\n",
    "\n",
    "basket = {}\n",
    "print(type(basket))"
   ]
  },
  {
   "cell_type": "code",
   "execution_count": 5,
   "metadata": {},
   "outputs": [
    {
     "ename": "TypeError",
     "evalue": "'set' object is not subscriptable",
     "output_type": "error",
     "traceback": [
      "\u001b[1;31m---------------------------------------------------------------------------\u001b[0m",
      "\u001b[1;31mTypeError\u001b[0m                                 Traceback (most recent call last)",
      "Cell \u001b[1;32mIn[5], line 4\u001b[0m\n\u001b[0;32m      1\u001b[0m \u001b[38;5;66;03m# As the set is a onordered collection of elements So, we cannot access the element using index\u001b[39;00m\n\u001b[0;32m      3\u001b[0m basket \u001b[38;5;241m=\u001b[39m {\u001b[38;5;124m\"\u001b[39m\u001b[38;5;124morange\u001b[39m\u001b[38;5;124m\"\u001b[39m,\u001b[38;5;124m\"\u001b[39m\u001b[38;5;124mapple\u001b[39m\u001b[38;5;124m\"\u001b[39m,\u001b[38;5;124m\"\u001b[39m\u001b[38;5;124mmango\u001b[39m\u001b[38;5;124m\"\u001b[39m}\n\u001b[1;32m----> 4\u001b[0m \u001b[38;5;28mprint\u001b[39m(basket[\u001b[38;5;241m0\u001b[39m])\n",
      "\u001b[1;31mTypeError\u001b[0m: 'set' object is not subscriptable"
     ]
    }
   ],
   "source": [
    "# As the set is a onordered collection of elements So, we cannot access the element using index\n",
    "\n",
    "basket = {\"orange\",\"apple\",\"mango\"}\n",
    "print(basket[0])"
   ]
  },
  {
   "cell_type": "code",
   "execution_count": 6,
   "metadata": {},
   "outputs": [
    {
     "name": "stdout",
     "output_type": "stream",
     "text": [
      "[1, 2, 3, 4, 3, 5, 6, 4]\n",
      "{1, 2, 3, 4, 5, 6}\n"
     ]
    }
   ],
   "source": [
    "# If we have a list of duplicate elemnets and we want to remove the duplicate elements So, we can pass \n",
    "# List as an argument to Set\n",
    "\n",
    "numbers = [1,2,3,4,3,5,6,4]\n",
    "print(numbers)\n",
    "\n",
    "unique_numbers = set(numbers)\n",
    "print(unique_numbers)"
   ]
  },
  {
   "cell_type": "markdown",
   "metadata": {},
   "source": [
    "# Frozen Sets"
   ]
  },
  {
   "cell_type": "code",
   "execution_count": 9,
   "metadata": {},
   "outputs": [
    {
     "name": "stdout",
     "output_type": "stream",
     "text": [
      "frozenset({1, 2, 3, 4, 5})\n"
     ]
    },
    {
     "ename": "AttributeError",
     "evalue": "'frozenset' object has no attribute 'add'",
     "output_type": "error",
     "traceback": [
      "\u001b[1;31m---------------------------------------------------------------------------\u001b[0m",
      "\u001b[1;31mAttributeError\u001b[0m                            Traceback (most recent call last)",
      "Cell \u001b[1;32mIn[9], line 12\u001b[0m\n\u001b[0;32m      9\u001b[0m frozen_set \u001b[38;5;241m=\u001b[39m \u001b[38;5;28mfrozenset\u001b[39m(numbers)\n\u001b[0;32m     10\u001b[0m \u001b[38;5;28mprint\u001b[39m(frozen_set)\n\u001b[1;32m---> 12\u001b[0m frozen_set\u001b[38;5;241m.\u001b[39madd(\u001b[38;5;241m6\u001b[39m)\n",
      "\u001b[1;31mAttributeError\u001b[0m: 'frozenset' object has no attribute 'add'"
     ]
    }
   ],
   "source": [
    "# Frozen sets are the sets which are immutable.\n",
    "\n",
    "# As we can add elements to the sets So, there are the cases we want the content of the sets is not changed\n",
    "# So we can make the sets as frozen sets\n",
    "\n",
    "\n",
    "numbers = [1,2,3,4,5,2,3,4]\n",
    "\n",
    "frozen_set = frozenset(numbers)\n",
    "print(frozen_set)\n",
    "\n",
    "frozen_set.add(6)"
   ]
  },
  {
   "cell_type": "code",
   "execution_count": 11,
   "metadata": {},
   "outputs": [
    {
     "name": "stdout",
     "output_type": "stream",
     "text": [
      "True\n",
      "False\n"
     ]
    }
   ],
   "source": [
    "# We an also check whether the elements is present or not using membership operators (in, not in)\n",
    "\n",
    "x = {\"a\",\"b\",\"c\"}\n",
    "\n",
    "print(\"a\" in x)\n",
    "print(\"g\" in x)"
   ]
  },
  {
   "cell_type": "code",
   "execution_count": 13,
   "metadata": {},
   "outputs": [
    {
     "name": "stdout",
     "output_type": "stream",
     "text": [
      "a\n",
      "c\n",
      "b\n"
     ]
    }
   ],
   "source": [
    "# We can also iterate over the elements of the sets using the for loop\n",
    "\n",
    "x = {\"a\",\"b\",\"c\"}\n",
    "\n",
    "for i in x:\n",
    "    print(i)"
   ]
  },
  {
   "cell_type": "code",
   "execution_count": 17,
   "metadata": {},
   "outputs": [
    {
     "name": "stdout",
     "output_type": "stream",
     "text": [
      "{'g', 'h', 'a', 'c', 'b'}\n",
      "{'a'}\n",
      "{'c', 'b'}\n",
      "False\n"
     ]
    }
   ],
   "source": [
    "# Python Sets are similar to the Math sets.\n",
    "# We can perform the set theory operations like:\n",
    "# Union (|)\n",
    "# Intersection (&)\n",
    "# Difference (-)\n",
    "# subset (<)\n",
    "\n",
    "x = {\"a\",\"b\",\"c\"}\n",
    "y = {\"a\",\"g\",\"h\"}\n",
    "\n",
    "# union -> All Elements\n",
    "print(x|y)\n",
    "\n",
    "# Intersection -> Common Elements\n",
    "print(x&y)\n",
    "\n",
    "# Difference -> Minus the Elements\n",
    "print(x-y)\n",
    "\n",
    "# Subset -> Check x is subset of y\n",
    "print(x<y)"
   ]
  }
 ],
 "metadata": {
  "kernelspec": {
   "display_name": "base",
   "language": "python",
   "name": "python3"
  },
  "language_info": {
   "codemirror_mode": {
    "name": "ipython",
    "version": 3
   },
   "file_extension": ".py",
   "mimetype": "text/x-python",
   "name": "python",
   "nbconvert_exporter": "python",
   "pygments_lexer": "ipython3",
   "version": "3.12.4"
  }
 },
 "nbformat": 4,
 "nbformat_minor": 2
}
