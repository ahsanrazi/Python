{
 "cells": [
  {
   "cell_type": "markdown",
   "metadata": {},
   "source": [
    "# List_Set_Dictionary Comprehension"
   ]
  },
  {
   "cell_type": "code",
   "execution_count": 1,
   "metadata": {},
   "outputs": [],
   "source": [
    "# Comprehension provides a way to transform one (List,Set,Dictionay) into another (List,Set,Dictionary)"
   ]
  },
  {
   "cell_type": "code",
   "execution_count": 4,
   "metadata": {},
   "outputs": [
    {
     "name": "stdout",
     "output_type": "stream",
     "text": [
      "[2, 4, 6, 8]\n",
      "[2, 4, 6, 8]\n"
     ]
    }
   ],
   "source": [
    "# List Comprehension provides a way to transform one List into another List\n",
    "\n",
    "# For Example: If we have a list of numbers and we have to find the even numbers in the list.\n",
    "\n",
    "numbers = [1,2,3,4,5,6,7,8]\n",
    "\n",
    "# One way: Using the for loop\n",
    "even = []\n",
    "for i in numbers:\n",
    "    if i % 2 == 0:\n",
    "        even.append(i)\n",
    "        \n",
    "print(even) \n",
    "\n",
    "# Second way: Using List Comprehension (writing the code in one line)\n",
    "even = [i for i in numbers if i%2==0]\n",
    "print(even)"
   ]
  },
  {
   "cell_type": "code",
   "execution_count": 5,
   "metadata": {},
   "outputs": [
    {
     "name": "stdout",
     "output_type": "stream",
     "text": [
      "[1, 4, 9, 16, 25, 36, 49, 64]\n"
     ]
    }
   ],
   "source": [
    "# Squaring of Numbers\n",
    "\n",
    "numbers = [1,2,3,4,5,6,7,8]\n",
    "\n",
    "square = [i*i for i in numbers]\n",
    "print(square)"
   ]
  },
  {
   "cell_type": "code",
   "execution_count": 7,
   "metadata": {},
   "outputs": [
    {
     "name": "stdout",
     "output_type": "stream",
     "text": [
      "{8, 2, 4, 6}\n"
     ]
    }
   ],
   "source": [
    "# Set Comprehension provides a way to transform one Set into another Set\n",
    "\n",
    "numbers = {1,2,3,4,5,6,7,8}\n",
    "\n",
    "# Finding Even Numbers\n",
    "even = {i for i in numbers if i%2==0}\n",
    "print(even)"
   ]
  },
  {
   "cell_type": "code",
   "execution_count": 9,
   "metadata": {},
   "outputs": [
    {
     "name": "stdout",
     "output_type": "stream",
     "text": [
      "('mumbai', 'india')\n",
      "('new york', 'usa')\n",
      "('paris', 'france')\n",
      "{'mumbai': 'india', 'new york': 'usa', 'paris': 'france'}\n"
     ]
    }
   ],
   "source": [
    "# Dictionary Comprehension provides a way to transform one Dictionary into another Dictionary\n",
    "\n",
    "# For Example: We have two lists One is Cities names and other is Countries names and we want to convert these\n",
    "# two Lists into Dictionary where key is City and value is Country\n",
    "\n",
    "cities = [\"mumbai\",\"new york\",\"paris\"]\n",
    "countries = [\"india\",\"usa\",\"france\"]\n",
    "\n",
    "# First we have to zip the two lists. zip() function zip the two lists together in the tuple\n",
    "z = zip(cities,countries)\n",
    "\n",
    "for i in z:\n",
    "    print(i)\n",
    "    \n",
    "dic = {city:country for city, country in zip(cities,countries)}\n",
    "print(dic)"
   ]
  },
  {
   "cell_type": "code",
   "execution_count": null,
   "metadata": {},
   "outputs": [],
   "source": []
  }
 ],
 "metadata": {
  "kernelspec": {
   "display_name": "base",
   "language": "python",
   "name": "python3"
  },
  "language_info": {
   "codemirror_mode": {
    "name": "ipython",
    "version": 3
   },
   "file_extension": ".py",
   "mimetype": "text/x-python",
   "name": "python",
   "nbconvert_exporter": "python",
   "pygments_lexer": "ipython3",
   "version": "3.12.4"
  }
 },
 "nbformat": 4,
 "nbformat_minor": 2
}
