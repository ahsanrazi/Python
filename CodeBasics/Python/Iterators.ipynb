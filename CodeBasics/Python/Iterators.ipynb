{
 "cells": [
  {
   "cell_type": "markdown",
   "metadata": {},
   "source": [
    "# Iterators"
   ]
  },
  {
   "cell_type": "code",
   "execution_count": 1,
   "metadata": {},
   "outputs": [],
   "source": [
    "# An iterator in Python is an object that is used to iterate over iterable objects like lists, tuples, dicts, sets,\n",
    "# strings and file.\n",
    "# The Python iterators object is initialized using the iter() method. It uses the next() method for iteration.\n",
    "\n",
    "# __iter__(): The iter() method is called for the initialization of an iterator. This returns an iterator object\n",
    "# __next__(): The next method returns the next value for the iterable. This method raises a StopIteration \n",
    "# to signal the end of the iteration.\n",
    " "
   ]
  },
  {
   "cell_type": "code",
   "execution_count": 3,
   "metadata": {},
   "outputs": [
    {
     "name": "stdout",
     "output_type": "stream",
     "text": [
      "hey\n",
      "bro\n",
      "you'r\n",
      "awesome\n",
      "['__add__', '__class__', '__class_getitem__', '__contains__', '__delattr__', '__delitem__', '__dir__', '__doc__', '__eq__', '__format__', '__ge__', '__getattribute__', '__getitem__', '__getstate__', '__gt__', '__hash__', '__iadd__', '__imul__', '__init__', '__init_subclass__', '__iter__', '__le__', '__len__', '__lt__', '__mul__', '__ne__', '__new__', '__reduce__', '__reduce_ex__', '__repr__', '__reversed__', '__rmul__', '__setattr__', '__setitem__', '__sizeof__', '__str__', '__subclasshook__', 'append', 'clear', 'copy', 'count', 'extend', 'index', 'insert', 'pop', 'remove', 'reverse', 'sort']\n"
     ]
    }
   ],
   "source": [
    "# For Example: We have a array of Strings\n",
    "\n",
    "a = [\"hey\",\"bro\",\"you'r\",\"awesome\"]\n",
    "\n",
    "# We iterate over this using for loop\n",
    "for i in a:\n",
    "    print(i)\n",
    "    \n",
    "# Internally the for loop going through the items of the list one-by-one and this process is called iterating through\n",
    "# a loop. Internally it uses the builtin method iter()\n",
    "\n",
    "print(dir(a))\n",
    "\n",
    "# When we use a for loop to traverse any iterable object, internally it uses the iter() method to get an iterator object, # which further uses the next() method to iterate over."
   ]
  },
  {
   "cell_type": "code",
   "execution_count": 10,
   "metadata": {},
   "outputs": [
    {
     "name": "stdout",
     "output_type": "stream",
     "text": [
      "<list_iterator object at 0x00000249BB1A52A0>\n",
      "hey\n",
      "bro\n",
      "you'r\n",
      "awesome\n"
     ]
    }
   ],
   "source": [
    "# Using iter()\n",
    "\n",
    "a = [\"hey\",\"bro\",\"you'r\",\"awesome\"]\n",
    "\n",
    "itr = iter(a)\n",
    "print(itr)\n",
    "\n",
    "print(next(itr))\n",
    "print(next(itr))\n",
    "print(next(itr))\n",
    "print(next(itr))\n"
   ]
  },
  {
   "cell_type": "code",
   "execution_count": 15,
   "metadata": {},
   "outputs": [
    {
     "name": "stdout",
     "output_type": "stream",
     "text": [
      "awesome\n",
      "you'r\n",
      "bro\n",
      "hey\n"
     ]
    }
   ],
   "source": [
    "# reversed() iterator is used to iterate over iterable objects in the reverse order.\n",
    "\n",
    "a = [\"hey\",\"bro\",\"you'r\",\"awesome\"]\n",
    "\n",
    "itr = reversed(a)\n",
    "\n",
    "print(next(itr))\n",
    "print(next(itr))\n",
    "print(next(itr))\n",
    "print(next(itr))"
   ]
  },
  {
   "cell_type": "markdown",
   "metadata": {},
   "source": [
    "# Iterator Class"
   ]
  },
  {
   "cell_type": "code",
   "execution_count": 16,
   "metadata": {},
   "outputs": [],
   "source": [
    "# Implement a Remote Control class that allows you to press \"Next\" button to go to the next channel"
   ]
  },
  {
   "cell_type": "code",
   "execution_count": 31,
   "metadata": {},
   "outputs": [],
   "source": [
    "class RemoteControl():\n",
    "    \n",
    "    def __init__(self):\n",
    "        self.channels = [\"HBO\",\"CNN\",\"ESPN\"]\n",
    "        self.index = -1\n",
    "        \n",
    "    def __iter__(self):\n",
    "        return self\n",
    "    \n",
    "    def __next__(self):\n",
    "        self.index += 1\n",
    "        if self.index == len(self.channels):\n",
    "            raise StopIteration\n",
    "        \n",
    "        return self.channels[self.index]\n",
    "    \n",
    "\n",
    "r = RemoteControl()\n",
    "itr = iter(r)\n",
    "\n",
    "print(next(itr))\n",
    "print(next(itr))\n",
    "print(next(itr))"
   ]
  }
 ],
 "metadata": {
  "kernelspec": {
   "display_name": "base",
   "language": "python",
   "name": "python3"
  },
  "language_info": {
   "codemirror_mode": {
    "name": "ipython",
    "version": 3
   },
   "file_extension": ".py",
   "mimetype": "text/x-python",
   "name": "python",
   "nbconvert_exporter": "python",
   "pygments_lexer": "ipython3",
   "version": "3.12.4"
  }
 },
 "nbformat": 4,
 "nbformat_minor": 2
}
