{
 "cells": [
  {
   "cell_type": "markdown",
   "metadata": {},
   "source": [
    "# Lists"
   ]
  },
  {
   "cell_type": "code",
   "execution_count": 1,
   "metadata": {},
   "outputs": [
    {
     "name": "stdout",
     "output_type": "stream",
     "text": [
      "['bread', 'pasta', 'fruits', 'vegetables']\n"
     ]
    }
   ],
   "source": [
    "# Lists are used to store multiple items in a single variable.\n",
    "# A Python list is a dynamic, mutable, ordered collection of items enclosed within square brackets [].\n",
    "\n",
    "items = ['bread','pasta','fruits','vegetables']\n",
    "\n",
    "print(items)"
   ]
  },
  {
   "cell_type": "code",
   "execution_count": 2,
   "metadata": {},
   "outputs": [
    {
     "name": "stdout",
     "output_type": "stream",
     "text": [
      "bread\n",
      "fruits\n"
     ]
    }
   ],
   "source": [
    "# Every item in the list has a specific index and we can access the item using the index number.\n",
    "# [1,2,3,4]\n",
    "#  0 1 2 3\n",
    "\n",
    "print(items[0])\n",
    "print(items[2])\n"
   ]
  },
  {
   "cell_type": "code",
   "execution_count": 3,
   "metadata": {},
   "outputs": [
    {
     "name": "stdout",
     "output_type": "stream",
     "text": [
      "['bread', 'pasta', 'fruits', 'vegetables']\n",
      "['chips', 'pasta', 'fruits', 'vegetables']\n"
     ]
    }
   ],
   "source": [
    "# We can also modify the list \n",
    "\n",
    "items = ['bread','pasta','fruits','vegetables']\n",
    "\n",
    "print(items)\n",
    "\n",
    "items[0] = 'chips'\n",
    "\n",
    "print(items)"
   ]
  },
  {
   "cell_type": "code",
   "execution_count": 4,
   "metadata": {},
   "outputs": [
    {
     "name": "stdout",
     "output_type": "stream",
     "text": [
      "['bread', 'pasta']\n"
     ]
    }
   ],
   "source": [
    "# We can also access the range of elements in the list using the index sub-range [-:-] \n",
    "# (first number is included and second number is excluded)\n",
    "\n",
    "items = ['bread','pasta','fruits','vegetables']\n",
    "\n",
    "print(items[0:2])"
   ]
  },
  {
   "cell_type": "code",
   "execution_count": 5,
   "metadata": {},
   "outputs": [
    {
     "name": "stdout",
     "output_type": "stream",
     "text": [
      "pasta\n"
     ]
    }
   ],
   "source": [
    "# In Lists we also have the negative indexing\n",
    "# [ 1, 2, 3, 4 ]\n",
    "#  -4 -3 -2 -1\n",
    "\n",
    "items = ['bread','pasta','fruits','vegetables']\n",
    "\n",
    "print(items[-3])"
   ]
  },
  {
   "cell_type": "code",
   "execution_count": 6,
   "metadata": {},
   "outputs": [
    {
     "name": "stdout",
     "output_type": "stream",
     "text": [
      "['bread', 'pasta', 'fruits', 'vegetables']\n",
      "['bread', 'pasta', 'fruits', 'vegetables', 'butter']\n"
     ]
    }
   ],
   "source": [
    "# We can add the item in the list using the append() function it add the item at the last\n",
    "\n",
    "items = ['bread','pasta','fruits','vegetables']\n",
    "\n",
    "print(items)\n",
    "\n",
    "items.append('butter')\n",
    "\n",
    "print(items)"
   ]
  },
  {
   "cell_type": "code",
   "execution_count": 8,
   "metadata": {},
   "outputs": [
    {
     "name": "stdout",
     "output_type": "stream",
     "text": [
      "['bread', 'pasta', 'fruits', 'vegetables']\n",
      "['bread', 'butter', 'pasta', 'fruits', 'vegetables']\n"
     ]
    }
   ],
   "source": [
    "# We can also add the element at the specific location by using the insert() function\n",
    "# insert(-,-) has two arguments first is location second is item\n",
    "\n",
    "items = ['bread','pasta','fruits','vegetables']\n",
    "\n",
    "print(items)\n",
    "\n",
    "items.insert(1,'butter')\n",
    "\n",
    "print(items)"
   ]
  },
  {
   "cell_type": "code",
   "execution_count": 9,
   "metadata": {},
   "outputs": [
    {
     "name": "stdout",
     "output_type": "stream",
     "text": [
      "['bread', 'pasta', 'butter', 'shampoo', 'soap']\n"
     ]
    }
   ],
   "source": [
    "# We can the join the two lists using the plus (+) operator\n",
    "\n",
    "food = ['bread','pasta','butter']\n",
    "bathroom = ['shampoo','soap']\n",
    "\n",
    "items = food+bathroom\n",
    "\n",
    "print(items)"
   ]
  },
  {
   "cell_type": "code",
   "execution_count": 10,
   "metadata": {},
   "outputs": [
    {
     "ename": "TypeError",
     "evalue": "can only concatenate list (not \"str\") to list",
     "output_type": "error",
     "traceback": [
      "\u001b[1;31m---------------------------------------------------------------------------\u001b[0m",
      "\u001b[1;31mTypeError\u001b[0m                                 Traceback (most recent call last)",
      "Cell \u001b[1;32mIn[10], line 5\u001b[0m\n\u001b[0;32m      1\u001b[0m \u001b[38;5;66;03m# We can't do the list concatenation (+)\u001b[39;00m\n\u001b[0;32m      3\u001b[0m food \u001b[38;5;241m=\u001b[39m [\u001b[38;5;124m'\u001b[39m\u001b[38;5;124mbread\u001b[39m\u001b[38;5;124m'\u001b[39m,\u001b[38;5;124m'\u001b[39m\u001b[38;5;124mpasta\u001b[39m\u001b[38;5;124m'\u001b[39m,\u001b[38;5;124m'\u001b[39m\u001b[38;5;124mbutter\u001b[39m\u001b[38;5;124m'\u001b[39m]\n\u001b[1;32m----> 5\u001b[0m food\u001b[38;5;241m+\u001b[39m\u001b[38;5;124m'\u001b[39m\u001b[38;5;124msoda\u001b[39m\u001b[38;5;124m'\u001b[39m\n",
      "\u001b[1;31mTypeError\u001b[0m: can only concatenate list (not \"str\") to list"
     ]
    }
   ],
   "source": [
    "# We can't do the list concatenation (+)\n",
    "\n",
    "food = ['bread','pasta','butter']\n",
    "\n",
    "food+'soda'"
   ]
  },
  {
   "cell_type": "code",
   "execution_count": 11,
   "metadata": {},
   "outputs": [
    {
     "name": "stdout",
     "output_type": "stream",
     "text": [
      "5\n"
     ]
    }
   ],
   "source": [
    "# We can find the length of list using the len() function\n",
    "\n",
    "items = ['bread', 'pasta', 'butter', 'shampoo', 'soap']\n",
    "\n",
    "print(len(items))"
   ]
  },
  {
   "cell_type": "code",
   "execution_count": 14,
   "metadata": {},
   "outputs": [
    {
     "name": "stdout",
     "output_type": "stream",
     "text": [
      "True\n",
      "False\n",
      "True\n"
     ]
    }
   ],
   "source": [
    "# We can also check whether the item in the list or not using the membership operator (in , not in)\n",
    "\n",
    "items = ['bread', 'pasta', 'butter', 'shampoo', 'soap']\n",
    "\n",
    "print('bread' in items)\n",
    "print('vegetables' in items)\n",
    "\n",
    "print('vegetables' not in items)"
   ]
  },
  {
   "cell_type": "code",
   "execution_count": null,
   "metadata": {},
   "outputs": [],
   "source": []
  }
 ],
 "metadata": {
  "kernelspec": {
   "display_name": "base",
   "language": "python",
   "name": "python3"
  },
  "language_info": {
   "codemirror_mode": {
    "name": "ipython",
    "version": 3
   },
   "file_extension": ".py",
   "mimetype": "text/x-python",
   "name": "python",
   "nbconvert_exporter": "python",
   "pygments_lexer": "ipython3",
   "version": "3.12.4"
  }
 },
 "nbformat": 4,
 "nbformat_minor": 2
}
