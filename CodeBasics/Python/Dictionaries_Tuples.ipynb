{
 "cells": [
  {
   "cell_type": "markdown",
   "metadata": {},
   "source": [
    "# Dictionary"
   ]
  },
  {
   "cell_type": "code",
   "execution_count": 1,
   "metadata": {},
   "outputs": [
    {
     "name": "stdout",
     "output_type": "stream",
     "text": [
      "{'tom': 32033289, 'rob': 3206675, 'joe': 3206745}\n"
     ]
    }
   ],
   "source": [
    "# Dictionaries allows us to store the data in key-value pairs also knows as Maps, Hashtables, Associate Arrays.\n",
    "\n",
    "# Dictionary {key:value}\n",
    "\n",
    "telephone_D = {\n",
    "    'tom':32033289,\n",
    "    'rob': 3206675,\n",
    "    'joe': 3206745\n",
    "} \n",
    "\n",
    "print(telephone_D)"
   ]
  },
  {
   "cell_type": "code",
   "execution_count": 3,
   "metadata": {},
   "outputs": [
    {
     "name": "stdout",
     "output_type": "stream",
     "text": [
      "3206745\n"
     ]
    }
   ],
   "source": [
    "# We can access the specific item from the dictionary by using the key in the square bracket []\n",
    "# In the dictionaries the order doesn't matter because we can access the elements using keys\n",
    "\n",
    "telephone_D = {\n",
    "    'tom':32033289,\n",
    "    'rob': 3206675,\n",
    "    'joe': 3206745\n",
    "} \n",
    "\n",
    "print(telephone_D['joe'])\n"
   ]
  },
  {
   "cell_type": "code",
   "execution_count": 4,
   "metadata": {},
   "outputs": [
    {
     "name": "stdout",
     "output_type": "stream",
     "text": [
      "{'tom': 32033289, 'rob': 3206675, 'joe': 3206745}\n",
      "{'tom': 32033289, 'rob': 3206675, 'joe': 3206745, 'sam': 32074857}\n"
     ]
    }
   ],
   "source": [
    "# We can also add the new item in the dictionary\n",
    "\n",
    "telephone_D = {\n",
    "    'tom':32033289,\n",
    "    'rob': 3206675,\n",
    "    'joe': 3206745\n",
    "}\n",
    "print(telephone_D)\n",
    "\n",
    "telephone_D['sam'] = 32074857\n",
    "\n",
    "print(telephone_D)"
   ]
  },
  {
   "cell_type": "code",
   "execution_count": 8,
   "metadata": {},
   "outputs": [
    {
     "name": "stdout",
     "output_type": "stream",
     "text": [
      "{'tom': 32033289, 'rob': 3206675, 'joe': 3206745}\n",
      "{'tom': 32033289, 'joe': 3206745}\n"
     ]
    }
   ],
   "source": [
    "# We can also delete the specific item from the dictionay using the del\n",
    "\n",
    "telephone_D = {\n",
    "    'tom':32033289,\n",
    "    'rob': 3206675,\n",
    "    'joe': 3206745\n",
    "}\n",
    "print(telephone_D)\n",
    "\n",
    "del telephone_D['rob']\n",
    "\n",
    "print(telephone_D)"
   ]
  },
  {
   "cell_type": "code",
   "execution_count": 9,
   "metadata": {},
   "outputs": [
    {
     "name": "stdout",
     "output_type": "stream",
     "text": [
      "Keys: tom  Values: 32033289\n",
      "Keys: rob  Values: 3206675\n",
      "Keys: joe  Values: 3206745\n"
     ]
    }
   ],
   "source": [
    "# To print all the items from the dictionay we use the for loop\n",
    "\n",
    "telephone_D = {\n",
    "    'tom':32033289,\n",
    "    'rob': 3206675,\n",
    "    'joe': 3206745\n",
    "}\n",
    "\n",
    "for key in telephone_D:\n",
    "    print('Keys:',key,' Values:',telephone_D[key])"
   ]
  },
  {
   "cell_type": "code",
   "execution_count": 13,
   "metadata": {},
   "outputs": [
    {
     "name": "stdout",
     "output_type": "stream",
     "text": [
      "Keys: tom  Values: 32033289\n",
      "Keys: rob  Values: 3206675\n",
      "Keys: joe  Values: 3206745\n"
     ]
    }
   ],
   "source": [
    "# To print all the items from the dictionay we can also use the tuple\n",
    "\n",
    "telephone_D = {\n",
    "    'tom':32033289,\n",
    "    'rob': 3206675,\n",
    "    'joe': 3206745\n",
    "}\n",
    "\n",
    "for k,v in telephone_D.items():\n",
    "    print('Keys:',k,' Values:',v)"
   ]
  },
  {
   "cell_type": "code",
   "execution_count": 17,
   "metadata": {},
   "outputs": [
    {
     "name": "stdout",
     "output_type": "stream",
     "text": [
      "True\n",
      "False\n"
     ]
    }
   ],
   "source": [
    "# To check whether the item is present in the Dictionary or not we use the (in or not in) operators\n",
    "\n",
    "telephone_D = {\n",
    "    'tom':32033289,\n",
    "    'rob': 3206675,\n",
    "    'joe': 3206745\n",
    "}\n",
    "\n",
    "print('tom' in telephone_D)\n",
    "print('sam' in telephone_D)"
   ]
  },
  {
   "cell_type": "code",
   "execution_count": 20,
   "metadata": {},
   "outputs": [
    {
     "name": "stdout",
     "output_type": "stream",
     "text": [
      "{'tom': 32033289, 'rob': 3206675, 'joe': 3206745}\n",
      "{}\n"
     ]
    }
   ],
   "source": [
    "# To delete the whole Dictionary we use clear()\n",
    "\n",
    "telephone_D = {\n",
    "    'tom':32033289,\n",
    "    'rob': 3206675,\n",
    "    'joe': 3206745\n",
    "}\n",
    "\n",
    "print(telephone_D)\n",
    "\n",
    "telephone_D.clear()\n",
    "\n",
    "print(telephone_D)\n"
   ]
  },
  {
   "cell_type": "markdown",
   "metadata": {},
   "source": [
    "# Tuple"
   ]
  },
  {
   "cell_type": "code",
   "execution_count": 21,
   "metadata": {},
   "outputs": [
    {
     "name": "stdout",
     "output_type": "stream",
     "text": [
      "(5, 4)\n"
     ]
    }
   ],
   "source": [
    "# Tuple is a list of values grouped together\n",
    "\n",
    "# Tuple is same as List but  there are some differences:\n",
    "# List: All the values have similar meaning (Homogeneous), They are mutable.\n",
    "# Tuple: All the values have different meaning (Heterogeneous), They are not mutable.\n",
    "\n",
    "# To represent the point in two dimensional plane we use tuple\n",
    "\n",
    "point = (5,4) # 5 -> x-coordinate , 4 -> y-coordinate  \n",
    "\n",
    "print(point)"
   ]
  },
  {
   "cell_type": "code",
   "execution_count": 22,
   "metadata": {},
   "outputs": [
    {
     "name": "stdout",
     "output_type": "stream",
     "text": [
      "5\n"
     ]
    }
   ],
   "source": [
    "# We can also access the specific element from the tuple by using the [] and index\n",
    "\n",
    "point = (5,4)\n",
    "print(point[0])"
   ]
  }
 ],
 "metadata": {
  "kernelspec": {
   "display_name": "base",
   "language": "python",
   "name": "python3"
  },
  "language_info": {
   "codemirror_mode": {
    "name": "ipython",
    "version": 3
   },
   "file_extension": ".py",
   "mimetype": "text/x-python",
   "name": "python",
   "nbconvert_exporter": "python",
   "pygments_lexer": "ipython3",
   "version": "3.12.4"
  }
 },
 "nbformat": 4,
 "nbformat_minor": 2
}
