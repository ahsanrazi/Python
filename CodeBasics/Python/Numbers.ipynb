{
 "cells": [
  {
   "cell_type": "markdown",
   "metadata": {},
   "source": [
    "# Numbers"
   ]
  },
  {
   "cell_type": "code",
   "execution_count": 3,
   "metadata": {},
   "outputs": [
    {
     "name": "stdout",
     "output_type": "stream",
     "text": [
      "Number1 10 \n",
      "Number2 10.5\n"
     ]
    }
   ],
   "source": [
    "# In Python we have integer and Decimal Numbers\n",
    "\n",
    "n1 = 10\n",
    "n2 = 10.5\n",
    "\n",
    "print('Number1',n1,'\\nNumber2',n2)"
   ]
  },
  {
   "cell_type": "code",
   "execution_count": 7,
   "metadata": {},
   "outputs": [
    {
     "name": "stdout",
     "output_type": "stream",
     "text": [
      "Addition 5\n",
      "Subtraction 1\n",
      "Multiplication 6\n",
      "Division 0.6666666666666666\n",
      "Modulud 1\n",
      "Power 8\n"
     ]
    }
   ],
   "source": [
    "# We can Perform The Arithmetic Operations on the Numbers\n",
    "# Addition          (+)\n",
    "# Subtraction       (-)\n",
    "# Multiplication    (*)\n",
    "# Division          (/)\n",
    "# Modulus           (%) -> Gives Remainder\n",
    "# Exponent          (**)\n",
    "\n",
    "n1 = 2\n",
    "n2 = 3\n",
    "\n",
    "print('Addition',n1+n2)\n",
    "print('Subtraction',n2-n1)\n",
    "print('Multiplication',n1*n2)\n",
    "print('Division',n1/n2)\n",
    "print('Modulud',n2%n1)\n",
    "print('Power',n1**n2)"
   ]
  },
  {
   "cell_type": "code",
   "execution_count": 11,
   "metadata": {},
   "outputs": [
    {
     "name": "stdout",
     "output_type": "stream",
     "text": [
      "0.6666666666666666\n",
      "0.67\n"
     ]
    }
   ],
   "source": [
    "# For rounding the number to some decimal points we use round() function\n",
    "# round() function takes two arguments First argument is number you want to round Second argument\n",
    "# is how mmuch decimal points you want to round\n",
    "\n",
    "n1 = 2\n",
    "n2 = 3\n",
    "\n",
    "print(n1/n2)\n",
    "\n",
    "# For rounding the number to 2 decimal points \n",
    "print(round(n1/n2,2))"
   ]
  },
  {
   "cell_type": "code",
   "execution_count": 12,
   "metadata": {},
   "outputs": [
    {
     "name": "stdout",
     "output_type": "stream",
     "text": [
      "16\n"
     ]
    }
   ],
   "source": [
    "# Python Arithmetic follow the PMDAS rule while doing the calculations\n",
    "\n",
    "print(10+2*3) "
   ]
  }
 ],
 "metadata": {
  "kernelspec": {
   "display_name": "base",
   "language": "python",
   "name": "python3"
  },
  "language_info": {
   "codemirror_mode": {
    "name": "ipython",
    "version": 3
   },
   "file_extension": ".py",
   "mimetype": "text/x-python",
   "name": "python",
   "nbconvert_exporter": "python",
   "pygments_lexer": "ipython3",
   "version": "3.12.4"
  }
 },
 "nbformat": 4,
 "nbformat_minor": 2
}
