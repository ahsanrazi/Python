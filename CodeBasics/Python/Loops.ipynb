{
 "cells": [
  {
   "cell_type": "markdown",
   "metadata": {},
   "source": [
    "# Loops"
   ]
  },
  {
   "cell_type": "code",
   "execution_count": 1,
   "metadata": {},
   "outputs": [],
   "source": [
    "# In computer programming, a loop is a sequence of instruction s that is continually repeated until \n",
    "# a certain condition is reached.\n",
    "\n",
    "# There are two types of loops in Python:\n",
    "# while loop\n",
    "# for loop"
   ]
  },
  {
   "cell_type": "markdown",
   "metadata": {},
   "source": [
    "#### for loop"
   ]
  },
  {
   "cell_type": "code",
   "execution_count": 2,
   "metadata": {},
   "outputs": [
    {
     "name": "stdout",
     "output_type": "stream",
     "text": [
      "1 2 3 4 5 "
     ]
    }
   ],
   "source": [
    "# for loop\n",
    "\n",
    "# The for loop in Python is used to iterate over a sequence (like a list, tuple, or string) or other iterable objects.\n",
    "\n",
    "for i in range(1,6): # first number is included and second number is excluded\n",
    "    print(i,'',end='')"
   ]
  },
  {
   "cell_type": "code",
   "execution_count": 3,
   "metadata": {},
   "outputs": [
    {
     "name": "stdout",
     "output_type": "stream",
     "text": [
      "177\n"
     ]
    }
   ],
   "source": [
    "# Problem: Store monthly expenses in a list and find out total expenses for all months\n",
    "\n",
    "exp = [10,20,14,45,88]\n",
    "\n",
    "total = 0\n",
    "\n",
    "for item in exp:\n",
    "    total = total + item\n",
    "\n",
    "print(total)"
   ]
  },
  {
   "cell_type": "code",
   "execution_count": 4,
   "metadata": {},
   "outputs": [
    {
     "name": "stdout",
     "output_type": "stream",
     "text": [
      "Month: 1  Expense: 10\n",
      "Month: 2  Expense: 20\n",
      "Month: 3  Expense: 14\n",
      "Month: 4  Expense: 45\n",
      "Month: 5  Expense: 88\n",
      "Total Expense is: 440\n"
     ]
    }
   ],
   "source": [
    "# We can also print the Months\n",
    "\n",
    "exp = [10,20,14,45,88]\n",
    "\n",
    "total = 0\n",
    "\n",
    "for i in range(len(exp)):\n",
    "    print('Month:',i+1,' Expense:',exp[i])\n",
    "    total = total + item\n",
    "    \n",
    "print('Total Expense is:',total)\n"
   ]
  },
  {
   "cell_type": "code",
   "execution_count": 5,
   "metadata": {},
   "outputs": [],
   "source": [
    "# Loop control statements are used to change the flow of execution.\n",
    "\n",
    "# break\n",
    "# continue\n",
    "# pass"
   ]
  },
  {
   "cell_type": "code",
   "execution_count": 6,
   "metadata": {},
   "outputs": [
    {
     "name": "stdout",
     "output_type": "stream",
     "text": [
      "1\n",
      "2\n",
      "3\n",
      "4\n"
     ]
    }
   ],
   "source": [
    "# break\n",
    "\n",
    "#  A break statement in Python alters the flow of a loop by terminating it, once a specified condition is met.\n",
    "# It brings control out of the loop.\n",
    "\n",
    "for i in range(1,10):\n",
    "    if(i == 5):\n",
    "        break\n",
    "    print(i)"
   ]
  },
  {
   "cell_type": "code",
   "execution_count": 7,
   "metadata": {},
   "outputs": [
    {
     "name": "stdout",
     "output_type": "stream",
     "text": [
      "1\n",
      "2\n",
      "3\n",
      "4\n",
      "6\n",
      "7\n",
      "8\n",
      "9\n"
     ]
    }
   ],
   "source": [
    "# continue\n",
    "\n",
    "# The continue statement in Python is used to skip the remaining code inside a loop for the current iteration only\n",
    "# It returns the control to the beginning of the loop for current iteration.\n",
    "\n",
    "for i in range(1,10):\n",
    "    if(i == 5):\n",
    "        continue\n",
    "    print(i) "
   ]
  },
  {
   "cell_type": "code",
   "execution_count": 8,
   "metadata": {},
   "outputs": [
    {
     "name": "stdout",
     "output_type": "stream",
     "text": [
      "1\n",
      "9\n",
      "25\n"
     ]
    }
   ],
   "source": [
    "# Problem: Print Square of Numbers between 1 to 5 Except even numbers\n",
    "\n",
    "for i in range(1,6):\n",
    "    if(i%2==0):\n",
    "        continue\n",
    "    print(i*i)"
   ]
  },
  {
   "cell_type": "code",
   "execution_count": 5,
   "metadata": {},
   "outputs": [
    {
     "name": "stdout",
     "output_type": "stream",
     "text": [
      "0   L\n",
      "1   a\n",
      "2   h\n",
      "3   o\n",
      "4   r\n",
      "5   e\n",
      "\n",
      "0   2\n",
      "1   3\n",
      "2   4\n",
      "3   5\n",
      "4   6\n"
     ]
    }
   ],
   "source": [
    "# enumerate() gives index as well as value\n",
    "\n",
    "for idx, n in enumerate(\"Lahore\"): \n",
    "    print(idx,\" \",n)\n",
    "    \n",
    "print() \n",
    "\n",
    "numbers = [2,3,4,5,6]    \n",
    "for idx, n in enumerate(numbers): \n",
    "    print(idx,\" \",n)"
   ]
  },
  {
   "cell_type": "markdown",
   "metadata": {},
   "source": [
    "#### while Loop"
   ]
  },
  {
   "cell_type": "code",
   "execution_count": 9,
   "metadata": {},
   "outputs": [
    {
     "name": "stdout",
     "output_type": "stream",
     "text": [
      "3 * 1 = 3\n",
      "3 * 2 = 6\n",
      "3 * 3 = 9\n",
      "3 * 4 = 12\n",
      "3 * 5 = 15\n",
      "3 * 6 = 18\n",
      "3 * 7 = 21\n",
      "3 * 8 = 24\n",
      "3 * 9 = 27\n",
      "3 * 10 = 30\n"
     ]
    }
   ],
   "source": [
    "# while Loop:\n",
    "\n",
    "# In Python, we use a while loop to repeat a block of code until a certain condition is met.\n",
    "\n",
    "# Program to print table:\n",
    "\n",
    "number = int(input('Enter the Number:'))\n",
    "\n",
    "i = 1\n",
    "while i<=10:\n",
    "    print(number,'*',i,'=',number*i)\n",
    "    i = i+1"
   ]
  }
 ],
 "metadata": {
  "kernelspec": {
   "display_name": "base",
   "language": "python",
   "name": "python3"
  },
  "language_info": {
   "codemirror_mode": {
    "name": "ipython",
    "version": 3
   },
   "file_extension": ".py",
   "mimetype": "text/x-python",
   "name": "python",
   "nbconvert_exporter": "python",
   "pygments_lexer": "ipython3",
   "version": "3.12.4"
  }
 },
 "nbformat": 4,
 "nbformat_minor": 2
}
