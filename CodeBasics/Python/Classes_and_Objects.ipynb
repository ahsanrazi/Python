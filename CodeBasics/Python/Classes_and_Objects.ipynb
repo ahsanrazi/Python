{
 "cells": [
  {
   "cell_type": "markdown",
   "metadata": {},
   "source": [
    "# Classes and Objects"
   ]
  },
  {
   "cell_type": "code",
   "execution_count": null,
   "metadata": {},
   "outputs": [],
   "source": [
    "# Class is an abstraction of some entity which contain common sets of Properties and Methods\n",
    "\n",
    "# For Example: Every Human has common set of properties (Name, Gender, Occupation) and Every Human doing\n",
    "# common set of activities (Sleep, Do work, Speak).\n",
    "# The properties are called Properties in OOP\n",
    "# The activities are called Methods in OOP\n",
    "# Thus the Properties and Methods forms the central entity called class (Human is a class).\n",
    "\n",
    "# Object is a specific instance of a class.\n",
    "\n",
    "# A class is a blueprint to create objects.\n",
    "# An object is an instance of a class.\n",
    "# Class is a logical entity. Object is a physical entity"
   ]
  },
  {
   "cell_type": "code",
   "execution_count": 2,
   "metadata": {},
   "outputs": [
    {
     "name": "stdout",
     "output_type": "stream",
     "text": [
      "Tom cruise shoots a film\n",
      "Tom cruise says how are you\n"
     ]
    }
   ],
   "source": [
    "class Human:\n",
    "    # This function initialize the properties of the class when we later create the instance\n",
    "    # (self) means the class itself \n",
    "    # All classes have a function called __init__(), which is always executed when the class is being initiated.\n",
    "    # Use the __init__() function to assign values to object properties, or other operations that are \n",
    "    # necessary to do when the object is being created:\n",
    "    def __init__(self, n, o):\n",
    "        self.name = n\n",
    "        self.occupation = o\n",
    "        \n",
    "    def do_work(self):\n",
    "        if self.occupation == \"tennis player\":\n",
    "            print(self.name,\"plays tennis\")\n",
    "        elif self.occupation == \"actor\":\n",
    "            print(self.name,\"shoots a film\")\n",
    "            \n",
    "    def speaks(self):\n",
    "        print(self.name,\"says how are you\")\n",
    "        \n",
    "tom = Human(\"Tom cruise\",\"actor\")\n",
    "tom.do_work()\n",
    "tom.speaks()\n",
    " "
   ]
  },
  {
   "cell_type": "markdown",
   "metadata": {},
   "source": [
    "<h1>__main__</h1>"
   ]
  },
  {
   "cell_type": "code",
   "execution_count": 32,
   "metadata": {},
   "outputs": [
    {
     "name": "stdout",
     "output_type": "stream",
     "text": [
      "The are is: 100.0\n"
     ]
    }
   ],
   "source": [
    "# __name__ is the entry point of the Python Program\n",
    "# Within the file the value of __name__ is \"main\"\n",
    "# If we use the file in another file the value of __name__ is the file name we is calling\n",
    "\n",
    "def calculate_area(base,height):\n",
    "    return 1/2*(base*height) \n",
    "\n",
    "if __name__ == \"__main__\":\n",
    "    a = calculate_area(10,20)\n",
    "    print(\"The are is:\",a)\n",
    "    "
   ]
  }
 ],
 "metadata": {
  "kernelspec": {
   "display_name": "base",
   "language": "python",
   "name": "python3"
  },
  "language_info": {
   "codemirror_mode": {
    "name": "ipython",
    "version": 3
   },
   "file_extension": ".py",
   "mimetype": "text/x-python",
   "name": "python",
   "nbconvert_exporter": "python",
   "pygments_lexer": "ipython3",
   "version": "3.12.4"
  }
 },
 "nbformat": 4,
 "nbformat_minor": 2
}
