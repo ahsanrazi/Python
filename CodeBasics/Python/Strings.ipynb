{
 "cells": [
  {
   "cell_type": "markdown",
   "metadata": {},
   "source": [
    "# Strings"
   ]
  },
  {
   "cell_type": "code",
   "execution_count": 2,
   "metadata": {},
   "outputs": [
    {
     "name": "stdout",
     "output_type": "stream",
     "text": [
      "Hello World\n"
     ]
    }
   ],
   "source": [
    "# Strings are used to store text data.\n",
    "\n",
    "str = 'Hello World'\n",
    "print(str)\n"
   ]
  },
  {
   "cell_type": "code",
   "execution_count": 30,
   "metadata": {},
   "outputs": [
    {
     "name": "stdout",
     "output_type": "stream",
     "text": [
      "o\n"
     ]
    }
   ],
   "source": [
    "# String is a sequence of characters and every character in the String has a index including space\n",
    "\n",
    "# hello raza\n",
    "# 0123456789\n",
    "\n",
    "s = 'Hello World'\n",
    "# We can access the specific character in the String using the Square bracket []\n",
    "print(s[4])"
   ]
  },
  {
   "cell_type": "code",
   "execution_count": 2,
   "metadata": {},
   "outputs": [
    {
     "name": "stdout",
     "output_type": "stream",
     "text": [
      "e\n"
     ]
    }
   ],
   "source": [
    "# we can also have negative indexing in the string\n",
    "\n",
    "#  h e l l o\n",
    "# -5-4-3-2-1\n",
    "\n",
    "s = 'hello'\n",
    "print(s[-4])"
   ]
  },
  {
   "cell_type": "code",
   "execution_count": 7,
   "metadata": {},
   "outputs": [
    {
     "name": "stdout",
     "output_type": "stream",
     "text": [
      "hello\n",
      "world\n"
     ]
    }
   ],
   "source": [
    "# Python Strings are immutable Once the sting is created we cannot change it partially \n",
    "# but we can put another string in it\n",
    "\n",
    "a = 'hello'\n",
    "print(a) \n",
    "\n",
    "a = 'world'\n",
    "print(a)"
   ]
  },
  {
   "cell_type": "code",
   "execution_count": 29,
   "metadata": {},
   "outputs": [
    {
     "name": "stdout",
     "output_type": "stream",
     "text": [
      "hell\n",
      "hell\n",
      "world\n",
      "hlowrd\n"
     ]
    }
   ],
   "source": [
    "# We can access the substring from the string using the index sub-range [-:-] (first index is included second excluded)\n",
    "\n",
    "s = 'hello world'\n",
    "\n",
    "print(s[0:4])\n",
    "\n",
    "# If we omit the first index it start from zero\n",
    "print(s[:4]) \n",
    "\n",
    "# If we omit the second index it goes to the last index\n",
    "print(s[6:])\n",
    "\n",
    "# We can also give the step size at the third index\n",
    "print(s[0:11:2])"
   ]
  },
  {
   "cell_type": "code",
   "execution_count": 16,
   "metadata": {},
   "outputs": [
    {
     "name": "stdout",
     "output_type": "stream",
     "text": [
      "hello\n",
      "hello\n",
      "Let's learn Python\n",
      "Hello \"World\"\n",
      "Let's\n",
      "learn \n",
      "Python\n"
     ]
    }
   ],
   "source": [
    "# We can use the double quotes \"\" or single qoutes '' to store the text data \n",
    "\n",
    "a = 'hello'\n",
    "b = \"hello\"\n",
    "\n",
    "print(a)\n",
    "print(b) \n",
    "\n",
    "# These quotes are important when we have the strings with single and double qoutes as a part of the String\n",
    "c = \"Let's learn Python\"\n",
    "print(c)\n",
    "\n",
    "d = 'Hello \"World\"'\n",
    "print(d)\n",
    "\n",
    "# For multi-line Strings we use the triple quotes \"\"\"--- \"\"\" or '''---'''\n",
    "e = \"\"\"Let's\n",
    "learn \n",
    "Python\"\"\" \n",
    "\n",
    "print(e)"
   ]
  },
  {
   "cell_type": "code",
   "execution_count": 18,
   "metadata": {},
   "outputs": [
    {
     "name": "stdout",
     "output_type": "stream",
     "text": [
      "Hello World\n"
     ]
    }
   ],
   "source": [
    "# we use plus (+) sign to concatenate two Strings\n",
    "\n",
    "s1 = \"Hello\"\n",
    "s2 = \"World\"\n",
    "print(s1+' '+s2)"
   ]
  },
  {
   "cell_type": "code",
   "execution_count": 6,
   "metadata": {},
   "outputs": [
    {
     "name": "stdout",
     "output_type": "stream",
     "text": [
      "Total states are 25\n"
     ]
    }
   ],
   "source": [
    "# We cannot join the number with String to do this we have to convert the Number into String using str() function\n",
    "# For converting any data-type to String we use str() function\n",
    "\n",
    "s = 'Total states are '\n",
    "n = 25\n",
    "n = str(n)\n",
    "\n",
    "print(s+n)\n",
    "\n"
   ]
  }
 ],
 "metadata": {
  "kernelspec": {
   "display_name": "base",
   "language": "python",
   "name": "python3"
  },
  "language_info": {
   "codemirror_mode": {
    "name": "ipython",
    "version": 3
   },
   "file_extension": ".py",
   "mimetype": "text/x-python",
   "name": "python",
   "nbconvert_exporter": "python",
   "pygments_lexer": "ipython3",
   "version": "3.12.4"
  }
 },
 "nbformat": 4,
 "nbformat_minor": 2
}
