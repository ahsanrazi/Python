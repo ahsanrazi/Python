{
 "cells": [
  {
   "cell_type": "markdown",
   "metadata": {},
   "source": [
    "# Inheritance"
   ]
  },
  {
   "cell_type": "code",
   "execution_count": 1,
   "metadata": {},
   "outputs": [],
   "source": [
    "# This is a parent child relationship\n",
    "# The vehicles generally provide the same purpose transportation but when we go on the specific\n",
    "# type vehicles like car and motorcycle they have their purposes and characteristics\n",
    "# For Example: Characteristics: Car has four wheels and it has roof but motorcycle has two wheels and it has no roof, \n",
    "# Usage: Car is used to vacation with family but motorcycle is is used for solo trip.\n",
    "\n",
    "# The both of them Car and Motorcycle can be thought as sub-classes of the base-class called Vehicle. They share the \n",
    "# same properties of the vehicle class but they have also their specific properties"
   ]
  },
  {
   "cell_type": "code",
   "execution_count": 8,
   "metadata": {},
   "outputs": [
    {
     "name": "stdout",
     "output_type": "stream",
     "text": [
      "I am Car\n",
      "General Usage: Transportation\n",
      "Specific use: Commute to work, vacation with family\n",
      "I am a MotorCycle\n",
      "General Usage: Transportation\n",
      "Specific Usage: Road trip, racing\n"
     ]
    }
   ],
   "source": [
    "# Vehicle class\n",
    "class Vehicle():\n",
    "    def general_usage(self):\n",
    "        print(\"General Usage: Transportation\") \n",
    "\n",
    "# Car class inherit Vehicle      \n",
    "class Car(Vehicle):\n",
    "    def __init__(self):\n",
    "        print(\"I am Car\")\n",
    "        self.wheels = 4\n",
    "        self.has_roof = True\n",
    "        \n",
    "    def specific_usage(self):\n",
    "        print(\"Specific use: Commute to work, vacation with family\")\n",
    "        \n",
    "\n",
    "class MotorCycle(Vehicle):\n",
    "    def __init__(self):\n",
    "        print(\"I am a MotorCycle\")\n",
    "        self.wheels = 2\n",
    "        self.has_roof = False\n",
    "        \n",
    "    def specific_usage(self):\n",
    "        print(\"Specific Usage: Road trip, racing\")\n",
    "        \n",
    "c = Car()\n",
    "c.general_usage()\n",
    "c.specific_usage()\n",
    "\n",
    "m = MotorCycle()\n",
    "m.general_usage()\n",
    "m.specific_usage()"
   ]
  },
  {
   "cell_type": "code",
   "execution_count": 9,
   "metadata": {},
   "outputs": [
    {
     "name": "stdout",
     "output_type": "stream",
     "text": [
      "I am Car\n",
      "General Usage: Transportation\n",
      "Specific use: Commute to work, vacation with family\n",
      "I am a MotorCycle\n",
      "General Usage: Transportation\n",
      "Specific Usage: Road trip, racing\n"
     ]
    }
   ],
   "source": [
    "# Vehicle class\n",
    "class Vehicle():\n",
    "    def general_usage(self):\n",
    "        print(\"General Usage: Transportation\") \n",
    "\n",
    "# Car class inherit Vehicle      \n",
    "class Car(Vehicle):\n",
    "    def __init__(self):\n",
    "        print(\"I am Car\")\n",
    "        self.wheels = 4\n",
    "        self.has_roof = True\n",
    "        \n",
    "    def specific_usage(self):\n",
    "        self.general_usage() # self is the object of this class\n",
    "        print(\"Specific use: Commute to work, vacation with family\")\n",
    "        \n",
    "\n",
    "class MotorCycle(Vehicle):\n",
    "    def __init__(self):\n",
    "        print(\"I am a MotorCycle\")\n",
    "        self.wheels = 2\n",
    "        self.has_roof = False\n",
    "        \n",
    "    def specific_usage(self):\n",
    "        self.general_usage() # self is the object of this class\n",
    "        print(\"Specific Usage: Road trip, racing\")\n",
    "        \n",
    "c = Car()\n",
    "c.specific_usage()\n",
    "\n",
    "m = MotorCycle()\n",
    "m.specific_usage()"
   ]
  },
  {
   "cell_type": "code",
   "execution_count": 6,
   "metadata": {},
   "outputs": [],
   "source": [
    "# Benefits of inheritence\n",
    "\n",
    "# Code Reuse (reuse the code of parent class)\n",
    "# Extensibility (We extend the new class to drive the new class)\n",
    "# Readability "
   ]
  },
  {
   "cell_type": "code",
   "execution_count": 10,
   "metadata": {},
   "outputs": [
    {
     "name": "stdout",
     "output_type": "stream",
     "text": [
      "I am Car\n",
      "I am a MotorCycle\n",
      "True\n",
      "False\n",
      "True\n",
      "False\n"
     ]
    }
   ],
   "source": [
    "# isinstance and issubclass methods\n",
    "\n",
    "# isinstance() tells that the object is the instance of specific class or not\n",
    "# issubclass() tells that the class is the subclass of specific class or not\n",
    "\n",
    "# Vehicle class\n",
    "class Vehicle():\n",
    "    def general_usage(self):\n",
    "        print(\"General Usage: Transportation\") \n",
    "\n",
    "# Car class inherit Vehicle      \n",
    "class Car(Vehicle):\n",
    "    def __init__(self):\n",
    "        print(\"I am Car\")\n",
    "        self.wheels = 4\n",
    "        self.has_roof = True\n",
    "        \n",
    "    def specific_usage(self):\n",
    "        print(\"Specific use: Commute to work, vacation with family\")\n",
    "        \n",
    "\n",
    "class MotorCycle(Vehicle):\n",
    "    def __init__(self):\n",
    "        print(\"I am a MotorCycle\")\n",
    "        self.wheels = 2\n",
    "        self.has_roof = False\n",
    "        \n",
    "    def specific_usage(self):\n",
    "        print(\"Specific Usage: Road trip, racing\")\n",
    "        \n",
    "\n",
    "\n",
    "c = Car()\n",
    "m = MotorCycle()\n",
    "\n",
    "print(isinstance(c,Car))\n",
    "print(isinstance(m,Car))\n",
    "\n",
    "print(issubclass(Car,Vehicle))\n",
    "print(issubclass(Car,MotorCycle))"
   ]
  },
  {
   "cell_type": "markdown",
   "metadata": {},
   "source": [
    "# Multiple Inheritance"
   ]
  },
  {
   "cell_type": "code",
   "execution_count": 16,
   "metadata": {},
   "outputs": [
    {
     "name": "stdout",
     "output_type": "stream",
     "text": [
      "I enjoy gardening\n",
      "I love cooking\n",
      "I enjoy sports\n"
     ]
    }
   ],
   "source": [
    "# In this we inherit the class from multiple classes\n",
    "\n",
    "class Father():\n",
    "    def gardening(self):\n",
    "        print(\"I enjoy gardening\")\n",
    "        \n",
    "class Mother():\n",
    "    def cooking(self):\n",
    "        print(\"I love cooking\")\n",
    "        \n",
    "class Child(Father,Mother):\n",
    "    def sports(self):\n",
    "        print(\"I enjoy sports\")\n",
    "        \n",
    "c = Child()\n",
    "c.gardening()\n",
    "c.cooking()\n",
    "c.sports()"
   ]
  },
  {
   "cell_type": "code",
   "execution_count": 17,
   "metadata": {},
   "outputs": [
    {
     "name": "stdout",
     "output_type": "stream",
     "text": [
      "I enjoy gardening\n",
      "I love cooking\n",
      "I enjoy sports\n"
     ]
    }
   ],
   "source": [
    "# Base classes with same methods name \n",
    "\n",
    "class Father():\n",
    "    def skills(self):\n",
    "        print(\"I enjoy gardening\")\n",
    "        \n",
    "class Mother():\n",
    "    def skills(self):\n",
    "        print(\"I love cooking\")\n",
    "        \n",
    "class Child(Father,Mother):\n",
    "    def skills(self):\n",
    "        Father.skills(self)\n",
    "        Mother.skills(self)\n",
    "        print(\"I enjoy sports\")\n",
    "        \n",
    "c = Child()\n",
    "c.skills()"
   ]
  }
 ],
 "metadata": {
  "kernelspec": {
   "display_name": "base",
   "language": "python",
   "name": "python3"
  },
  "language_info": {
   "codemirror_mode": {
    "name": "ipython",
    "version": 3
   },
   "file_extension": ".py",
   "mimetype": "text/x-python",
   "name": "python",
   "nbconvert_exporter": "python",
   "pygments_lexer": "ipython3",
   "version": "3.12.4"
  }
 },
 "nbformat": 4,
 "nbformat_minor": 2
}
