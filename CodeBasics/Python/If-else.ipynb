{
 "cells": [
  {
   "cell_type": "markdown",
   "metadata": {},
   "source": [
    "# If-else"
   ]
  },
  {
   "cell_type": "code",
   "execution_count": null,
   "metadata": {},
   "outputs": [],
   "source": [
    "# The if-else statement is a decision-making statement that is used to decide whether the part of the code \n",
    "# will be executed or not based on the specified condition (test expression). If the given condition is true, \n",
    "# then the code inside the if block is executed, otherwise the code inside the else block is executed.\n",
    "\n",
    "# Use if to specify a block of code to be executed, if a specified condition is true\n",
    "# Use else to specify a block of code to be executed, if the same condition is false\n",
    "# Use else if to specify a new condition to test, if the first condition is false\n",
    "\n",
    "# if condition:\n",
    "#     code\n",
    "# else:\n",
    "#     code\n",
    "\n",
    "\n",
    "# if condition:\n",
    "#     code\n",
    "# elif condition:\n",
    "#     code\n",
    "# else:\n",
    "#     code"
   ]
  },
  {
   "cell_type": "code",
   "execution_count": 2,
   "metadata": {},
   "outputs": [
    {
     "name": "stdout",
     "output_type": "stream",
     "text": [
      "Number is Odd\n"
     ]
    }
   ],
   "source": [
    "# Program: Check whether the number is Even or Odd\n",
    "\n",
    "# int() function convert the String into int because the output of input is String\n",
    "num = int(input('Enter the Number: '))\n",
    "\n",
    "if num % 2 == 0:\n",
    "    print('Number is Even')\n",
    "else: \n",
    "    print('Number is Odd')"
   ]
  },
  {
   "cell_type": "code",
   "execution_count": 3,
   "metadata": {},
   "outputs": [
    {
     "name": "stdout",
     "output_type": "stream",
     "text": [
      "5>2 =  True\n",
      "5<2 =  False\n",
      "5>=2 =  True\n",
      "5<=2 =  False\n",
      "5==2 =  False\n",
      "5!=2 =  True\n"
     ]
    }
   ],
   "source": [
    "# Relational Operators\n",
    "\n",
    "# Relational Operators are the Operators that are used to compare two values. These are:\n",
    "# Greater than              (>)\n",
    "# Less than                 (<)\n",
    "# Greater than Equal to     (>=)\n",
    "# Less than Equal to        (<=)\n",
    "# Equal to                  (==)\n",
    "# Not Equal to              (!=)\n",
    "\n",
    "print('5>2 = ',5>2)\n",
    "print('5<2 = ',5<2)\n",
    "print('5>=2 = ',5>=2)\n",
    "print('5<=2 = ',5<=2)\n",
    "print('5==2 = ',5==3)\n",
    "print('5!=2 = ',5!=2)\n",
    "\n",
    "# We mostly use these operators in if condition for making comparison"
   ]
  },
  {
   "cell_type": "code",
   "execution_count": 4,
   "metadata": {},
   "outputs": [
    {
     "name": "stdout",
     "output_type": "stream",
     "text": [
      "1 and 0 =  0\n",
      "1 or 0 =  1\n",
      "not 1 =  False\n"
     ]
    }
   ],
   "source": [
    "# Logical Operators\n",
    "\n",
    "# Logical Operators are used for logic building in the programming.\n",
    "# In Python, logical operators are used to combine multiple conditions together and evaluate them \n",
    "# as a single boolean expression\n",
    "# These are:\n",
    "# AND   (and) -> \tThis returns True if both x and y are true\n",
    "# OR    (or)  ->\tThis returns True if either x or y are true \n",
    "# NOT   (not) -> \tReverses a result, so if something is True , not turns it False\n",
    "\n",
    "print('1 and 0 = ', 1 and 0)\n",
    "print('1 or 0 = ',1 or 0)\n",
    "print('not 1 = ',not 1)"
   ]
  },
  {
   "cell_type": "code",
   "execution_count": 5,
   "metadata": {},
   "outputs": [
    {
     "name": "stdout",
     "output_type": "stream",
     "text": [
      "Indian\n"
     ]
    }
   ],
   "source": [
    "# Program: A program that ask the user to enter the dish name and it should print which cuisine is that dish\n",
    "\n",
    "indian = ['samosa','naan','karahi']\n",
    "chinese = ['egg role','pot sticker','fried rice']\n",
    "italian = ['pizza','paste','risotto']\n",
    "\n",
    "dish = input('Enter the dish: ')\n",
    "\n",
    "if dish in indian:\n",
    "    print('Indian')\n",
    "elif dish in chinese:\n",
    "    print('Chinese')\n",
    "elif dish in italian:\n",
    "    print('Italian')\n",
    "else:\n",
    "    print(\"I don't know which cuisine is\",dish) "
   ]
  }
 ],
 "metadata": {
  "kernelspec": {
   "display_name": "base",
   "language": "python",
   "name": "python3"
  },
  "language_info": {
   "codemirror_mode": {
    "name": "ipython",
    "version": 3
   },
   "file_extension": ".py",
   "mimetype": "text/x-python",
   "name": "python",
   "nbconvert_exporter": "python",
   "pygments_lexer": "ipython3",
   "version": "3.12.4"
  }
 },
 "nbformat": 4,
 "nbformat_minor": 2
}
