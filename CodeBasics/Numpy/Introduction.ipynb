{
 "cells": [
  {
   "cell_type": "markdown",
   "metadata": {},
   "source": [
    "# Introduction"
   ]
  },
  {
   "cell_type": "code",
   "execution_count": 1,
   "metadata": {},
   "outputs": [
    {
     "name": "stdout",
     "output_type": "stream",
     "text": [
      "Requirement already satisfied: numpy in c:\\users\\hossnain\\anaconda3\\lib\\site-packages (1.26.4)\n",
      "Note: you may need to restart the kernel to use updated packages.\n"
     ]
    }
   ],
   "source": [
    "pip install numpy"
   ]
  },
  {
   "cell_type": "code",
   "execution_count": 2,
   "metadata": {},
   "outputs": [
    {
     "data": {
      "text/plain": [
       "array([1, 2, 3])"
      ]
     },
     "execution_count": 2,
     "metadata": {},
     "output_type": "execute_result"
    }
   ],
   "source": [
    "# Numpy most useful feature is n-dimentional array object (a.k.a -> ndarray)\n",
    "\n",
    "# Creating Numpy array\n",
    "\n",
    "import numpy as np\n",
    "\n",
    "a = np.array([1,2,3])\n",
    "\n",
    "a"
   ]
  },
  {
   "cell_type": "code",
   "execution_count": 4,
   "metadata": {},
   "outputs": [
    {
     "name": "stdout",
     "output_type": "stream",
     "text": [
      "1\n",
      "2\n"
     ]
    }
   ],
   "source": [
    "# We can access the elements using indexes\n",
    "\n",
    "a = np.array([1,2,3])\n",
    "\n",
    "print(a[0])\n",
    "print(a[1])"
   ]
  },
  {
   "cell_type": "code",
   "execution_count": 5,
   "metadata": {},
   "outputs": [],
   "source": [
    "# Numpy Array is very similar to Python List But\n",
    "\n",
    "# Three main benefits of Numpy Array over Python List:\n",
    "# Less memory\n",
    "# Fast\n",
    "# Convinient "
   ]
  },
  {
   "cell_type": "code",
   "execution_count": 6,
   "metadata": {},
   "outputs": [
    {
     "name": "stdout",
     "output_type": "stream",
     "text": [
      "28000\n",
      "4000\n"
     ]
    }
   ],
   "source": [
    "# Comparing Numpy Array with Python List\n",
    "\n",
    "# Less Memory\n",
    "\n",
    "import numpy as np\n",
    "import time\n",
    "import sys\n",
    "\n",
    "List = range(1000)\n",
    "print(sys.getsizeof(5)*len(List))\n",
    "\n",
    "array = np.arange(1000)\n",
    "print(array.size*array.itemsize)\n",
    "\n",
    "# In Numpy Array the values are stored in contiguous memory location and each value is of 4-byte (for integers).\n",
    "\n",
    "# In Python everything is a object. List will contain a list of pointers first and each pointer will point to \n",
    "# another location in the memory which will our object and size of one object is 14-bytes\n",
    "\n",
    "# That's why Numpy Array Memory consumption is very less as compared to Python List"
   ]
  },
  {
   "cell_type": "code",
   "execution_count": 8,
   "metadata": {},
   "outputs": [
    {
     "name": "stdout",
     "output_type": "stream",
     "text": [
      "List took 364.52770233154297\n",
      "Array took 19.826889038085938\n"
     ]
    }
   ],
   "source": [
    "# Fast\n",
    "\n",
    "import numpy as np\n",
    "import time\n",
    "\n",
    "size = 1000000\n",
    "\n",
    "l1 = range(size)\n",
    "l2 = range(size)\n",
    "\n",
    "a1 = np.arange(size)\n",
    "a2 = np.arange(size)\n",
    "\n",
    "# Python List\n",
    "start = time.time()\n",
    "result = [(x+y) for x,y in zip(l1,l2)] # zip() combine the two list together in a tuple\n",
    "print(\"List took\",(time.time()-start)*1000)\n",
    "\n",
    "# Numpy Array\n",
    "start = time.time()\n",
    "result = a1 + a2\n",
    "print(\"Array took\",(time.time()-start)*1000)"
   ]
  },
  {
   "cell_type": "code",
   "execution_count": 14,
   "metadata": {},
   "outputs": [
    {
     "name": "stdout",
     "output_type": "stream",
     "text": [
      "[5 7 9]\n",
      "[3 3 3]\n",
      "[ 4 10 18]\n",
      "[0.25 0.4  0.5 ]\n",
      "32\n"
     ]
    }
   ],
   "source": [
    "# Convinient\n",
    "\n",
    "import numpy as np\n",
    "\n",
    "a1 = np.array([1,2,3])\n",
    "a2 = np.array([4,5,6]\n",
    "              )\n",
    "# Adding two Numpy Arrays\n",
    "print(a1+a2)\n",
    "\n",
    "# Subtracting two Arrays\n",
    "print(a2-a1)\n",
    "\n",
    "# Multiplication\n",
    "print(a1*a2)\n",
    "\n",
    "# Division\n",
    "print(a1/a2)\n",
    "\n",
    "# Dot Product\n",
    "print(a1.dot(a2))"
   ]
  }
 ],
 "metadata": {
  "kernelspec": {
   "display_name": "base",
   "language": "python",
   "name": "python3"
  },
  "language_info": {
   "codemirror_mode": {
    "name": "ipython",
    "version": 3
   },
   "file_extension": ".py",
   "mimetype": "text/x-python",
   "name": "python",
   "nbconvert_exporter": "python",
   "pygments_lexer": "ipython3",
   "version": "3.12.4"
  }
 },
 "nbformat": 4,
 "nbformat_minor": 2
}
