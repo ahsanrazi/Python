{
 "cells": [
  {
   "cell_type": "markdown",
   "metadata": {},
   "source": [
    "# Basic Array Operations"
   ]
  },
  {
   "cell_type": "code",
   "execution_count": 1,
   "metadata": {},
   "outputs": [],
   "source": [
    "import numpy as np"
   ]
  },
  {
   "cell_type": "code",
   "execution_count": 77,
   "metadata": {},
   "outputs": [
    {
     "name": "stdout",
     "output_type": "stream",
     "text": [
      "1\n",
      "2\n",
      "3\n"
     ]
    }
   ],
   "source": [
    "# Creating One-Dimensional Array\n",
    "\n",
    "a = np.array([1,2,3])\n",
    "\n",
    "# Access elements\n",
    "print(a[0])\n",
    "print(a[1])\n",
    "\n",
    "# It also support negative indexing\n",
    "print(a[-1])"
   ]
  },
  {
   "cell_type": "code",
   "execution_count": 92,
   "metadata": {},
   "outputs": [
    {
     "name": "stdout",
     "output_type": "stream",
     "text": [
      "[[1 2 3]\n",
      " [4 5 6]] \n",
      "\n",
      "[1 2 3]\n",
      "3 \n",
      "\n",
      "5 \n",
      "\n",
      "[4 5 6] \n",
      "\n"
     ]
    }
   ],
   "source": [
    "# Creating Two-Dimensional Array\n",
    "\n",
    "a = np.array([[1,2,3],[4,5,6]])\n",
    "\n",
    "print(a,'\\n')\n",
    "\n",
    "# Access elements\n",
    "print(a[0])\n",
    "print(a[0][2],'\\n')\n",
    "\n",
    "# We can also access elements using [row,column]\n",
    "print(a[1,1],'\\n')\n",
    "\n",
    "# Negative Indexing\n",
    "print(a[-1],'\\n')"
   ]
  },
  {
   "cell_type": "code",
   "execution_count": 29,
   "metadata": {},
   "outputs": [
    {
     "name": "stdout",
     "output_type": "stream",
     "text": [
      "1\n",
      "2\n"
     ]
    }
   ],
   "source": [
    "# ndim give the dimensions of the array\n",
    " \n",
    "a = np.array([1,2,3])\n",
    "b = np.array([[1,2,3],[4,5,6]])\n",
    "\n",
    "print(a.ndim)\n",
    "print(b.ndim)"
   ]
  },
  {
   "cell_type": "code",
   "execution_count": 30,
   "metadata": {},
   "outputs": [
    {
     "name": "stdout",
     "output_type": "stream",
     "text": [
      "int32\n",
      "float64\n"
     ]
    }
   ],
   "source": [
    "# dtype give the Data-type of array\n",
    "\n",
    "a = np.array([1,2,3])\n",
    "b = np.array([1.3,2.4])\n",
    "\n",
    "print(a.dtype)\n",
    "print(b.dtype)"
   ]
  },
  {
   "cell_type": "code",
   "execution_count": 43,
   "metadata": {},
   "outputs": [
    {
     "name": "stdout",
     "output_type": "stream",
     "text": [
      "float64\n",
      "[1. 2. 3.] \n",
      "\n",
      "complex128\n",
      "[1.+0.j 2.+0.j 3.+0.j]\n"
     ]
    }
   ],
   "source": [
    "# We can also specify the data-type of array using dtype\n",
    "\n",
    "a = np.array([1,2,3] ,dtype = np.float64)\n",
    "print(a.dtype)\n",
    "print(a,'\\n')\n",
    "\n",
    "b = np.array([1,2,3] ,dtype = complex)\n",
    "print(b.dtype)\n",
    "print(b)"
   ]
  },
  {
   "cell_type": "code",
   "execution_count": 31,
   "metadata": {},
   "outputs": [
    {
     "name": "stdout",
     "output_type": "stream",
     "text": [
      "3\n",
      "6\n"
     ]
    }
   ],
   "source": [
    "# size give the number of elements in the array\n",
    "\n",
    "a = np.array([1,2,3])\n",
    "b = np.array([[1,2,3],[4,5,6]])\n",
    "\n",
    "print(a.size)\n",
    "print(b.size)"
   ]
  },
  {
   "cell_type": "code",
   "execution_count": 32,
   "metadata": {},
   "outputs": [
    {
     "name": "stdout",
     "output_type": "stream",
     "text": [
      "4\n",
      "8\n"
     ]
    }
   ],
   "source": [
    "# itemsize give the byte-size of each element\n",
    "\n",
    "a = np.array([1,2,3])       # Integer take 4-bytes\n",
    "b = np.array([1.3,2.4])     # flost take 8-bytes\n",
    "\n",
    "\n",
    "print(a.itemsize)\n",
    "print(b.itemsize)  "
   ]
  },
  {
   "cell_type": "code",
   "execution_count": 37,
   "metadata": {},
   "outputs": [
    {
     "name": "stdout",
     "output_type": "stream",
     "text": [
      "[1 2 3] \n",
      "\n",
      "[[1 2 3]\n",
      " [4 5 6]] \n",
      "\n",
      "(3,)\n",
      "(2, 3)\n"
     ]
    }
   ],
   "source": [
    "# shape give the shape(rows and columns) of the array\n",
    "\n",
    "a = np.array([1,2,3])\n",
    "b = np.array([[1,2,3],[4,5,6]])\n",
    "\n",
    "print(a,'\\n')\n",
    "print(b,'\\n')\n",
    "\n",
    "print(a.shape)\n",
    "print(b.shape)\n"
   ]
  },
  {
   "cell_type": "code",
   "execution_count": 45,
   "metadata": {},
   "outputs": [
    {
     "name": "stdout",
     "output_type": "stream",
     "text": [
      "[[0. 0. 0. 0.]\n",
      " [0. 0. 0. 0.]\n",
      " [0. 0. 0. 0.]] \n",
      "\n",
      "[[1. 1. 1. 1.]\n",
      " [1. 1. 1. 1.]\n",
      " [1. 1. 1. 1.]]\n"
     ]
    }
   ],
   "source": [
    "# We can also initialize the array using the place-holder numbers\n",
    "\n",
    "# we have to give shape as a argument\n",
    "\n",
    "a = np.zeros((3,4))\n",
    "print(a,'\\n')\n",
    "\n",
    "b = np.ones((3,4))\n",
    "print(b)"
   ]
  },
  {
   "cell_type": "code",
   "execution_count": 48,
   "metadata": {},
   "outputs": [
    {
     "name": "stdout",
     "output_type": "stream",
     "text": [
      "[1 2 3 4]\n",
      "[1 3 5]\n"
     ]
    }
   ],
   "source": [
    "# We can also create the array using the arange() function\n",
    "\n",
    "a = np.arange(1,5)\n",
    "print(a)\n",
    "\n",
    "# we can also give the step size\n",
    "b = np.arange(1,6,2)\n",
    "print(b)"
   ]
  },
  {
   "cell_type": "code",
   "execution_count": 51,
   "metadata": {},
   "outputs": [
    {
     "name": "stdout",
     "output_type": "stream",
     "text": [
      "[1.         1.44444444 1.88888889 2.33333333 2.77777778 3.22222222\n",
      " 3.66666667 4.11111111 4.55555556 5.        ] \n",
      "\n",
      "[1.  1.8 2.6 3.4 4.2 5. ]\n"
     ]
    }
   ],
   "source": [
    "# linspace() is used to generate the numbers between two numbers that are linearly spaced\n",
    "\n",
    "a = np.linspace(1,5,10)\n",
    "print(a,'\\n')\n",
    "\n",
    "b = np.linspace(1,5,6)\n",
    "print(b)"
   ]
  },
  {
   "cell_type": "code",
   "execution_count": 59,
   "metadata": {},
   "outputs": [
    {
     "name": "stdout",
     "output_type": "stream",
     "text": [
      "(3, 2)\n",
      "[[1 2]\n",
      " [3 4]\n",
      " [5 6]] \n",
      "\n",
      "(2, 3)\n",
      "[[1 2 3]\n",
      " [4 5 6]]\n"
     ]
    }
   ],
   "source": [
    "# reshape() is used to reshape the shape(dimensions) of the array\n",
    "\n",
    "a = np.array([[1,2],[3,4],[5,6]])\n",
    "\n",
    "print(a.shape)\n",
    "print(a,'\\n')\n",
    "\n",
    "a = a.reshape(2,3)\n",
    "print(a.shape)\n",
    "print(a)\n",
    "\n"
   ]
  },
  {
   "cell_type": "code",
   "execution_count": 65,
   "metadata": {},
   "outputs": [
    {
     "name": "stdout",
     "output_type": "stream",
     "text": [
      "[[1 2]\n",
      " [3 4]\n",
      " [5 6]] \n",
      "\n",
      "[1 2 3 4 5 6]\n"
     ]
    }
   ],
   "source": [
    "# ravel() flaten the array make it one dimension\n",
    "\n",
    "a = np.array([[1,2],[3,4],[5,6]])\n",
    "\n",
    "print(a,'\\n')\n",
    "\n",
    "a = a.ravel()\n",
    "print(a)"
   ]
  },
  {
   "cell_type": "code",
   "execution_count": 66,
   "metadata": {},
   "outputs": [
    {
     "name": "stdout",
     "output_type": "stream",
     "text": [
      "1\n"
     ]
    }
   ],
   "source": [
    "# min() give the minimum element in the array\n",
    "\n",
    "a = np.array([1,2,3,6,5,8])\n",
    "\n",
    "print(a.min())"
   ]
  },
  {
   "cell_type": "code",
   "execution_count": 67,
   "metadata": {},
   "outputs": [
    {
     "name": "stdout",
     "output_type": "stream",
     "text": [
      "8\n"
     ]
    }
   ],
   "source": [
    "# max() give the maximum element in the array\n",
    "\n",
    "a = np.array([1,2,3,6,5,8])\n",
    "\n",
    "print(a.max())"
   ]
  },
  {
   "cell_type": "code",
   "execution_count": 68,
   "metadata": {},
   "outputs": [
    {
     "name": "stdout",
     "output_type": "stream",
     "text": [
      "25\n"
     ]
    }
   ],
   "source": [
    "# sum() sum all the numbers together\n",
    "\n",
    "a = np.array([1,2,3,6,5,8])\n",
    "\n",
    "print(a.sum())"
   ]
  },
  {
   "cell_type": "code",
   "execution_count": 71,
   "metadata": {},
   "outputs": [
    {
     "name": "stdout",
     "output_type": "stream",
     "text": [
      "[[1 2]\n",
      " [3 4]\n",
      " [5 6]] \n",
      "\n",
      "[ 9 12] \n",
      "\n",
      "[ 3  7 11] \n",
      "\n"
     ]
    }
   ],
   "source": [
    "# Axix are the rows and columns in the array\n",
    "# Axis-0 is column\n",
    "# Axis-1 is row\n",
    "\n",
    "# We can also sum-up the elements on the axis\n",
    "\n",
    "a = np.array([[1,2],[3,4],[5,6]])\n",
    "\n",
    "print(a,'\\n')\n",
    "print(a.sum(axis=0),'\\n')\n",
    "print(a.sum(axis=1),'\\n')"
   ]
  },
  {
   "cell_type": "code",
   "execution_count": 72,
   "metadata": {},
   "outputs": [
    {
     "name": "stdout",
     "output_type": "stream",
     "text": [
      "[1.         1.41421356 1.73205081 2.44948974 2.23606798 2.82842712]\n"
     ]
    }
   ],
   "source": [
    "# sqrt() find the square-root of all the elements in the array\n",
    "\n",
    "a = np.array([1,2,3,6,5,8])\n",
    "\n",
    "print(np.sqrt(a))"
   ]
  },
  {
   "cell_type": "code",
   "execution_count": 73,
   "metadata": {},
   "outputs": [
    {
     "name": "stdout",
     "output_type": "stream",
     "text": [
      "2.4094720491334933\n"
     ]
    }
   ],
   "source": [
    "# std() find the standard deviation\n",
    "\n",
    "a = np.array([1,2,3,6,5,8])\n",
    "\n",
    "print(np.std(a))"
   ]
  },
  {
   "cell_type": "markdown",
   "metadata": {},
   "source": [
    "# Indexing and Slicing"
   ]
  },
  {
   "cell_type": "code",
   "execution_count": 78,
   "metadata": {},
   "outputs": [
    {
     "name": "stdout",
     "output_type": "stream",
     "text": [
      "[1 2 3 6]\n",
      "[1 2 3 6 5]\n"
     ]
    }
   ],
   "source": [
    "# Slicing -> accessing the range of elements from the array using the index-subrange [:]\n",
    "\n",
    "a = np.array([1,2,3,6,5,8])\n",
    "\n",
    "print(a[0:4])\n",
    "print(a[0:5])\n"
   ]
  },
  {
   "cell_type": "code",
   "execution_count": 96,
   "metadata": {},
   "outputs": [
    {
     "name": "stdout",
     "output_type": "stream",
     "text": [
      "[[1 2 3]\n",
      " [4 5 6]\n",
      " [7 8 9]] \n",
      "\n",
      "[[1 2 3]\n",
      " [4 5 6]] \n",
      "\n",
      "[[4 5 6]\n",
      " [7 8 9]] \n",
      "\n",
      "[3 6] \n",
      "\n",
      "[[1 2]\n",
      " [4 5]\n",
      " [7 8]] \n",
      "\n",
      "[7 8] \n",
      "\n"
     ]
    }
   ],
   "source": [
    "# Two-Dimensional Array\n",
    "\n",
    "a = np.array([[1,2,3],[4,5,6],[7,8,9]])\n",
    "\n",
    "print(a,'\\n')\n",
    "\n",
    "print(a[0:2],'\\n')\n",
    "print(a[1:3],'\\n')\n",
    "\n",
    "# We can also access specific multiple elements [-:-,-] first is rows-range second is column range\n",
    "print(a[0:2,2],'\\n')\n",
    "\n",
    "print(a[0:3,0:2],'\\n')\n",
    "\n",
    "print(a[-1,0:2],'\\n')"
   ]
  },
  {
   "cell_type": "code",
   "execution_count": null,
   "metadata": {},
   "outputs": [],
   "source": []
  }
 ],
 "metadata": {
  "kernelspec": {
   "display_name": "base",
   "language": "python",
   "name": "python3"
  },
  "language_info": {
   "codemirror_mode": {
    "name": "ipython",
    "version": 3
   },
   "file_extension": ".py",
   "mimetype": "text/x-python",
   "name": "python",
   "nbconvert_exporter": "python",
   "pygments_lexer": "ipython3",
   "version": "3.12.4"
  }
 },
 "nbformat": 4,
 "nbformat_minor": 2
}
