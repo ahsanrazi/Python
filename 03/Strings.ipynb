{
 "cells": [
  {
   "cell_type": "markdown",
   "metadata": {},
   "source": [
    "# Strings"
   ]
  },
  {
   "cell_type": "code",
   "execution_count": null,
   "metadata": {},
   "outputs": [],
   "source": [
    "# A string is a sequence of characters enclosed in either single quotes ('') or double quotes (“”).\n",
    "# In Python strings are sequence of Unicode characters. (Unicode -> 16 bits characters)"
   ]
  },
  {
   "cell_type": "markdown",
   "metadata": {},
   "source": [
    "#### Creating Strings"
   ]
  },
  {
   "cell_type": "code",
   "execution_count": 8,
   "metadata": {},
   "outputs": [
    {
     "name": "stdout",
     "output_type": "stream",
     "text": [
      "String One\n",
      "String Two\n",
      "String Three\n",
      "String Four\n"
     ]
    }
   ],
   "source": [
    "# By using single quotation ('')\n",
    "s1 = 'String One'\n",
    "print(s1)\n",
    "\n",
    "# By sing double quotation (\"\")\n",
    "s2 = \"String Two\"\n",
    "print(s2)\n",
    "\n",
    "# By using triple quotation (\"\"\"\"\"\") -> Multi-line Strings\n",
    "s3 = \"\"\"String Three\"\"\"\n",
    "s4 = '''String Four'''\n",
    "print(s3)\n",
    "print(s4)"
   ]
  },
  {
   "cell_type": "markdown",
   "metadata": {},
   "source": [
    "#### Accessing Substring from String"
   ]
  },
  {
   "cell_type": "code",
   "execution_count": 13,
   "metadata": {},
   "outputs": [
    {
     "name": "stdout",
     "output_type": "stream",
     "text": [
      "o\n"
     ]
    }
   ],
   "source": [
    "# Indexing\n",
    "\n",
    "# Positive indexing of Strings in Python start from zero Left-to-Right (spaces also include)\n",
    "# Hello Raza\n",
    "# 0123456789 \n",
    "\n",
    "s = \"Hello World\"\n",
    "print(s[4])    \n",
    "\n",
    " "
   ]
  },
  {
   "cell_type": "code",
   "execution_count": 16,
   "metadata": {},
   "outputs": [
    {
     "name": "stdout",
     "output_type": "stream",
     "text": [
      "e\n"
     ]
    }
   ],
   "source": [
    "# Negative indexing of Strings in Python start from -1 from Right-to-Left \n",
    "#  H  e  l  l  o  \n",
    "# -5 -4 -3 -2 -1\n",
    "\n",
    "s = \"Hello\"\n",
    "print(s[-4])"
   ]
  },
  {
   "cell_type": "code",
   "execution_count": 46,
   "metadata": {},
   "outputs": [
    {
     "name": "stdout",
     "output_type": "stream",
     "text": [
      "Hello\n",
      "llo World\n",
      "Hell\n",
      "HloWrd\n",
      "Hlo\n",
      "Wol\n"
     ]
    }
   ],
   "source": [
    "# Slicing\n",
    "# Accessing many characters from the String\n",
    "\n",
    "# Positive indexSing\n",
    "\n",
    "s = \"Hello World\"\n",
    "print(s[0:5]) # We give the range first digit is included and second is excluded \n",
    "\n",
    "# If we skip the second digit then the it goes to the end\n",
    "print(s[2:]) \n",
    "\n",
    "# If we skip the first digit then ir start from the first letter\n",
    "print(s[:4])\n",
    "\n",
    "# We can give the third digit it is the step-size (first two digit empty means wwhole string)\n",
    "print(s[::2])\n",
    "print(s[0:6:2])\n",
    "\n",
    "# With Negative step-size (start the string from the end)(First digit is greater)\n",
    "print(s[6:0:-2]) "
   ]
  },
  {
   "cell_type": "code",
   "execution_count": 45,
   "metadata": {},
   "outputs": [
    {
     "name": "stdout",
     "output_type": "stream",
     "text": [
      "World\n",
      "dlroW\n"
     ]
    }
   ],
   "source": [
    "# Negative indexing\n",
    "\n",
    "s = \"Hello World\"\n",
    "\n",
    "print(s[-5:])\n",
    "\n",
    "# reverse String\n",
    "print(s[-1:-6:-1])"
   ]
  },
  {
   "cell_type": "code",
   "execution_count": 29,
   "metadata": {},
   "outputs": [
    {
     "name": "stdout",
     "output_type": "stream",
     "text": [
      "dlrow olleH\n"
     ]
    }
   ],
   "source": [
    "# Reverse the String\n",
    "\n",
    "s = \"Hello world\"\n",
    "\n",
    "print(s[::-1])"
   ]
  },
  {
   "cell_type": "markdown",
   "metadata": {},
   "source": [
    "#### Editing or Deleting in Strings"
   ]
  },
  {
   "cell_type": "code",
   "execution_count": 50,
   "metadata": {},
   "outputs": [
    {
     "name": "stdout",
     "output_type": "stream",
     "text": [
      "Hello\n"
     ]
    },
    {
     "ename": "NameError",
     "evalue": "name 's' is not defined",
     "output_type": "error",
     "traceback": [
      "\u001b[1;31m---------------------------------------------------------------------------\u001b[0m",
      "\u001b[1;31mNameError\u001b[0m                                 Traceback (most recent call last)",
      "Cell \u001b[1;32mIn[50], line 9\u001b[0m\n\u001b[0;32m      7\u001b[0m \u001b[38;5;28mprint\u001b[39m(s)\n\u001b[0;32m      8\u001b[0m \u001b[38;5;28;01mdel\u001b[39;00m s \n\u001b[1;32m----> 9\u001b[0m \u001b[38;5;28mprint\u001b[39m(s)\n",
      "\u001b[1;31mNameError\u001b[0m: name 's' is not defined"
     ]
    }
   ],
   "source": [
    "# We cannot edit the Strings because the Python Strings are immutable. \n",
    "\n",
    "# Deleting the Strings\n",
    "# For deleting the Strings we use the (del)\n",
    "\n",
    "s = \"Hello\"\n",
    "print(s)\n",
    "del s \n",
    "print(s)\n",
    "\n",
    "# we can delete the whole String but we cannot delete the specific portion of the String or partially delete \n",
    "# because the Python Strings are immutable"
   ]
  },
  {
   "cell_type": "markdown",
   "metadata": {},
   "source": [
    "#### Operation on Strings"
   ]
  },
  {
   "cell_type": "code",
   "execution_count": null,
   "metadata": {},
   "outputs": [],
   "source": [
    "# Arithmetic Operations\n",
    "# Relational Operations\n",
    "# Logical Operations \n",
    "# Loops on Strings\n",
    "# Membership Operations"
   ]
  },
  {
   "cell_type": "markdown",
   "metadata": {},
   "source": [
    "##### Arithmetic Operators"
   ]
  },
  {
   "cell_type": "code",
   "execution_count": 53,
   "metadata": {},
   "outputs": [
    {
     "name": "stdout",
     "output_type": "stream",
     "text": [
      "Hello World\n",
      "Hello Hello Hello Hello Hello \n"
     ]
    }
   ],
   "source": [
    "# Arithmetic Operators\n",
    "\n",
    "# Python String work on two arithmetic operators \n",
    "# Addition (+) -> concatenation\n",
    "# Multiplication (*)\n",
    "\n",
    "# Concatenation (+)\n",
    "print('Hello'+ ' ' +'World')\n",
    "\n",
    "# Multiplication (*)\n",
    "print('Hello '*5)"
   ]
  },
  {
   "cell_type": "markdown",
   "metadata": {},
   "source": [
    "##### Relational Operators"
   ]
  },
  {
   "cell_type": "code",
   "execution_count": 56,
   "metadata": {},
   "outputs": [
    {
     "name": "stdout",
     "output_type": "stream",
     "text": [
      "True\n",
      "True\n",
      "False\n"
     ]
    }
   ],
   "source": [
    "# Relational Operators\n",
    "\n",
    "# All relational operators works on Strings\n",
    "# In (>, <) the srings are compared lexiographically (compare on the ASCII value)\n",
    "\n",
    "print('hello' == 'hello')\n",
    "print('hello' != 'world')\n",
    "\n",
    "print('hello' > 'world')"
   ]
  },
  {
   "cell_type": "markdown",
   "metadata": {},
   "source": [
    "##### Logical Operators"
   ]
  },
  {
   "cell_type": "code",
   "execution_count": 59,
   "metadata": {},
   "outputs": [
    {
     "data": {
      "text/plain": [
       "''"
      ]
     },
     "execution_count": 59,
     "metadata": {},
     "output_type": "execute_result"
    }
   ],
   "source": [
    "# Logical Operators\n",
    "\n",
    "# In Python the String with character is considered and True and String with no character (Empty String) is considered\n",
    "# as False\n",
    "\n",
    "'' and \"hello\" # False and True => False\n"
   ]
  },
  {
   "cell_type": "code",
   "execution_count": 61,
   "metadata": {},
   "outputs": [
    {
     "data": {
      "text/plain": [
       "'hello'"
      ]
     },
     "execution_count": 61,
     "metadata": {},
     "output_type": "execute_result"
    }
   ],
   "source": [
    "'' or \"hello\" # False orTrue => True"
   ]
  },
  {
   "cell_type": "code",
   "execution_count": 62,
   "metadata": {},
   "outputs": [
    {
     "data": {
      "text/plain": [
       "'hello'"
      ]
     },
     "execution_count": 62,
     "metadata": {},
     "output_type": "execute_result"
    }
   ],
   "source": [
    "'hello' or 'world' \n",
    "# Because of the or operator if the first string is true it print the first string rather than goes on the second string  "
   ]
  },
  {
   "cell_type": "code",
   "execution_count": null,
   "metadata": {},
   "outputs": [],
   "source": [
    "'hello' and 'world'\n",
    "# Because of the and operator it check the both Stings and print the second String  "
   ]
  },
  {
   "cell_type": "code",
   "execution_count": 63,
   "metadata": {},
   "outputs": [
    {
     "data": {
      "text/plain": [
       "True"
      ]
     },
     "execution_count": 63,
     "metadata": {},
     "output_type": "execute_result"
    }
   ],
   "source": [
    "not ''"
   ]
  },
  {
   "cell_type": "code",
   "execution_count": 64,
   "metadata": {},
   "outputs": [
    {
     "data": {
      "text/plain": [
       "False"
      ]
     },
     "execution_count": 64,
     "metadata": {},
     "output_type": "execute_result"
    }
   ],
   "source": [
    "not 'hello'"
   ]
  },
  {
   "cell_type": "markdown",
   "metadata": {},
   "source": [
    "##### Loops"
   ]
  },
  {
   "cell_type": "code",
   "execution_count": 65,
   "metadata": {},
   "outputs": [
    {
     "name": "stdout",
     "output_type": "stream",
     "text": [
      "H\n",
      "e\n",
      "l\n",
      "l\n",
      "o\n"
     ]
    }
   ],
   "source": [
    "# In Python the Strings are iterable So we can use loop\n",
    "\n",
    "s = 'Hello'\n",
    "\n",
    "for i in s:\n",
    "    print(i)"
   ]
  },
  {
   "cell_type": "code",
   "execution_count": 66,
   "metadata": {},
   "outputs": [
    {
     "name": "stdout",
     "output_type": "stream",
     "text": [
      "world\n",
      "world\n",
      "world\n",
      "world\n",
      "world\n"
     ]
    }
   ],
   "source": [
    "for i in 'Hello':\n",
    "    print('world')"
   ]
  },
  {
   "cell_type": "markdown",
   "metadata": {},
   "source": [
    "##### Membership Operators"
   ]
  },
  {
   "cell_type": "code",
   "execution_count": 69,
   "metadata": {},
   "outputs": [
    {
     "name": "stdout",
     "output_type": "stream",
     "text": [
      "True\n",
      "False\n",
      "False\n"
     ]
    }
   ],
   "source": [
    "# Membership Operators also works on the Strings\n",
    "\n",
    "\n",
    "print('H' in 'Hello')\n",
    "print('H' not in 'Hello')\n",
    "\n",
    "# Strings are case Sensitive \n",
    "\n",
    "print('h' in 'Hello')"
   ]
  },
  {
   "cell_type": "markdown",
   "metadata": {},
   "source": [
    "#### Functions On Strings"
   ]
  },
  {
   "cell_type": "code",
   "execution_count": null,
   "metadata": {},
   "outputs": [],
   "source": [
    "# As String is a data-type So there are the functions that can be apply on the Strings\n",
    "\n",
    "# There are some common functions that apply on all data-types (Strings, List, Tuple, Sets, Dictionaries)\n",
    "# These are:\n",
    "# len\n",
    "# max\n",
    "# min\n",
    "# sorted\n"
   ]
  },
  {
   "cell_type": "markdown",
   "metadata": {},
   "source": [
    "##### Common Functions"
   ]
  },
  {
   "cell_type": "markdown",
   "metadata": {},
   "source": [
    "##### len()"
   ]
  },
  {
   "cell_type": "code",
   "execution_count": 70,
   "metadata": {},
   "outputs": [
    {
     "name": "stdout",
     "output_type": "stream",
     "text": [
      "11\n"
     ]
    }
   ],
   "source": [
    "# len() function give the length of the string including the spaces\n",
    "\n",
    "print(len('hello World'))"
   ]
  },
  {
   "cell_type": "markdown",
   "metadata": {},
   "source": [
    "##### max()"
   ]
  },
  {
   "cell_type": "code",
   "execution_count": 71,
   "metadata": {},
   "outputs": [
    {
     "name": "stdout",
     "output_type": "stream",
     "text": [
      "o\n"
     ]
    }
   ],
   "source": [
    "# max() function gives the maximum character in the String based on the ASCII value.\n",
    "\n",
    "print(max('Hello'))"
   ]
  },
  {
   "cell_type": "markdown",
   "metadata": {},
   "source": [
    "##### min()"
   ]
  },
  {
   "cell_type": "code",
   "execution_count": 72,
   "metadata": {},
   "outputs": [
    {
     "name": "stdout",
     "output_type": "stream",
     "text": [
      "H\n"
     ]
    }
   ],
   "source": [
    "# min() function gives the minimum character in the String based on the ASCII value\n",
    "\n",
    "print(min('Hello')) "
   ]
  },
  {
   "cell_type": "markdown",
   "metadata": {},
   "source": [
    "##### sorted()"
   ]
  },
  {
   "cell_type": "code",
   "execution_count": 74,
   "metadata": {},
   "outputs": [
    {
     "name": "stdout",
     "output_type": "stream",
     "text": [
      "['H', 'e', 'l', 'l', 'o']\n",
      "['o', 'l', 'l', 'e', 'H']\n"
     ]
    }
   ],
   "source": [
    "# sorted() function gives the output as sorted String in the list formatt\n",
    "\n",
    "print(sorted('Hello'))\n",
    "\n",
    "# Reverse the String \n",
    "\n",
    "print(sorted('Hello',reverse=True))"
   ]
  },
  {
   "cell_type": "markdown",
   "metadata": {},
   "source": [
    "##### Only String Functions"
   ]
  },
  {
   "cell_type": "markdown",
   "metadata": {},
   "source": [
    "##### capitalize()"
   ]
  },
  {
   "cell_type": "code",
   "execution_count": 77,
   "metadata": {},
   "outputs": [
    {
     "name": "stdout",
     "output_type": "stream",
     "text": [
      "Hello world\n"
     ]
    }
   ],
   "source": [
    "# capitalize() function only capitalize the first character of the String\n",
    "\n",
    "s = 'hello world'\n",
    "print(s.capitalize())"
   ]
  },
  {
   "cell_type": "markdown",
   "metadata": {},
   "source": [
    "##### title()"
   ]
  },
  {
   "cell_type": "code",
   "execution_count": 79,
   "metadata": {},
   "outputs": [
    {
     "name": "stdout",
     "output_type": "stream",
     "text": [
      "Hello World\n"
     ]
    }
   ],
   "source": [
    "# title() function capitalize the first character of each word\n",
    "\n",
    "s = 'hello world'\n",
    "\n",
    "print(s.title())"
   ]
  },
  {
   "cell_type": "markdown",
   "metadata": {},
   "source": [
    "##### upper()"
   ]
  },
  {
   "cell_type": "code",
   "execution_count": 81,
   "metadata": {},
   "outputs": [
    {
     "name": "stdout",
     "output_type": "stream",
     "text": [
      "HELLO\n"
     ]
    }
   ],
   "source": [
    "# upper() function convert the each character of the string in the Upper case\n",
    "\n",
    "s = 'hello'\n",
    "\n",
    "print(s.upper())"
   ]
  },
  {
   "cell_type": "markdown",
   "metadata": {},
   "source": [
    "##### lower()"
   ]
  },
  {
   "cell_type": "code",
   "execution_count": 82,
   "metadata": {},
   "outputs": [
    {
     "name": "stdout",
     "output_type": "stream",
     "text": [
      "hello\n"
     ]
    }
   ],
   "source": [
    "# lower() function convert the each character of the String in the Lower case\n",
    "\n",
    "s = 'HELLO'\n",
    "\n",
    "print(s.lower())"
   ]
  },
  {
   "cell_type": "markdown",
   "metadata": {},
   "source": [
    "##### swapcase()"
   ]
  },
  {
   "cell_type": "code",
   "execution_count": 83,
   "metadata": {},
   "outputs": [
    {
     "name": "stdout",
     "output_type": "stream",
     "text": [
      "HEllO wOrLD\n"
     ]
    }
   ],
   "source": [
    "# swapcase() function convert the capital character into lower and lower character into capital of the String\n",
    "\n",
    "s = 'heLLo WoRld'\n",
    "\n",
    "print(s.swapcase())"
   ]
  },
  {
   "cell_type": "markdown",
   "metadata": {},
   "source": [
    "##### count()"
   ]
  },
  {
   "cell_type": "code",
   "execution_count": 87,
   "metadata": {},
   "outputs": [
    {
     "name": "stdout",
     "output_type": "stream",
     "text": [
      "3\n"
     ]
    }
   ],
   "source": [
    "# count() function gives the frequency of the specific charater/substring in the String\n",
    "\n",
    "s = 'hello world'\n",
    "\n",
    "print(s.count('l'))"
   ]
  },
  {
   "cell_type": "markdown",
   "metadata": {},
   "source": [
    "##### find()"
   ]
  },
  {
   "cell_type": "code",
   "execution_count": 91,
   "metadata": {},
   "outputs": [
    {
     "name": "stdout",
     "output_type": "stream",
     "text": [
      "6\n",
      "-1\n"
     ]
    }
   ],
   "source": [
    "# find() function gives the index of the particular character/substring in the String\n",
    "# return -1 in the character/substring not exist\n",
    "\n",
    "s = 'hello world'\n",
    "\n",
    "print(s.find('w'))\n",
    "print(s.find('x'))"
   ]
  },
  {
   "cell_type": "markdown",
   "metadata": {},
   "source": [
    "##### index()"
   ]
  },
  {
   "cell_type": "code",
   "execution_count": 93,
   "metadata": {},
   "outputs": [
    {
     "name": "stdout",
     "output_type": "stream",
     "text": [
      "6\n"
     ]
    },
    {
     "ename": "ValueError",
     "evalue": "substring not found",
     "output_type": "error",
     "traceback": [
      "\u001b[1;31m---------------------------------------------------------------------------\u001b[0m",
      "\u001b[1;31mValueError\u001b[0m                                Traceback (most recent call last)",
      "Cell \u001b[1;32mIn[93], line 7\u001b[0m\n\u001b[0;32m      4\u001b[0m s \u001b[38;5;241m=\u001b[39m \u001b[38;5;124m'\u001b[39m\u001b[38;5;124mhello world\u001b[39m\u001b[38;5;124m'\u001b[39m\n\u001b[0;32m      6\u001b[0m \u001b[38;5;28mprint\u001b[39m(s\u001b[38;5;241m.\u001b[39mindex(\u001b[38;5;124m'\u001b[39m\u001b[38;5;124mw\u001b[39m\u001b[38;5;124m'\u001b[39m))\n\u001b[1;32m----> 7\u001b[0m \u001b[38;5;28mprint\u001b[39m(s\u001b[38;5;241m.\u001b[39mindex(\u001b[38;5;124m'\u001b[39m\u001b[38;5;124mx\u001b[39m\u001b[38;5;124m'\u001b[39m))\n",
      "\u001b[1;31mValueError\u001b[0m: substring not found"
     ]
    }
   ],
   "source": [
    "# index() function gives the index of the particular character/substring in the String\n",
    "# Instead of returning -1 it throws an error if the character/substring not found\n",
    "\n",
    "s = 'hello world'\n",
    "\n",
    "print(s.index('w'))\n",
    "print(s.index('x'))"
   ]
  },
  {
   "cell_type": "markdown",
   "metadata": {},
   "source": [
    "##### endswith()"
   ]
  },
  {
   "cell_type": "code",
   "execution_count": 2,
   "metadata": {},
   "outputs": [
    {
     "name": "stdout",
     "output_type": "stream",
     "text": [
      "True\n",
      "False\n"
     ]
    }
   ],
   "source": [
    "# endswith() is used to check whether the string is end with particular character/substring or not\n",
    "\n",
    "s = 'hello'\n",
    "\n",
    "print(s.endswith('o'))\n",
    "print(s.endswith('y'))"
   ]
  },
  {
   "cell_type": "markdown",
   "metadata": {},
   "source": [
    "##### startswith()"
   ]
  },
  {
   "cell_type": "code",
   "execution_count": 6,
   "metadata": {},
   "outputs": [
    {
     "name": "stdout",
     "output_type": "stream",
     "text": [
      "True\n",
      "False\n"
     ]
    }
   ],
   "source": [
    "# startswith() is used to chech that the string is start with particular character/substring or not\n",
    "\n",
    "s = 'hello'\n",
    "\n",
    "print(s.startswith('h'))\n",
    "print(s.startswith('j'))"
   ]
  },
  {
   "cell_type": "markdown",
   "metadata": {},
   "source": [
    "##### format()"
   ]
  },
  {
   "cell_type": "code",
   "execution_count": 11,
   "metadata": {},
   "outputs": [
    {
     "name": "stdout",
     "output_type": "stream",
     "text": [
      "hello world\n",
      "hello world\n",
      "world hello\n",
      "hello world\n"
     ]
    }
   ],
   "source": [
    "# format() is used to insert the value of variable in the string\n",
    "\n",
    "s1 = 'hello'\n",
    "s2 = 'world'\n",
    "\n",
    "print('hello {}'.format(s))\n",
    "\n",
    "# In the format parameter the order of the strings matter\n",
    "print('{} {}'.format(s1,s2))\n",
    "print('{} {}'.format(s2,s1))\n",
    "\n",
    "# we can also assign numbers\n",
    "print('{1} {0}'.format(s2,s1))\n",
    "\n",
    "\n",
    "\n"
   ]
  },
  {
   "cell_type": "markdown",
   "metadata": {},
   "source": [
    "##### isalnum()"
   ]
  },
  {
   "cell_type": "code",
   "execution_count": 16,
   "metadata": {},
   "outputs": [
    {
     "name": "stdout",
     "output_type": "stream",
     "text": [
      "True\n",
      "False\n"
     ]
    }
   ],
   "source": [
    "# isalnum() check whether the string is alphanumeric or not\n",
    "\n",
    "print('hello123'.isalnum())\n",
    "print('hello%'.isalnum())"
   ]
  },
  {
   "cell_type": "markdown",
   "metadata": {},
   "source": [
    "##### isalpha()"
   ]
  },
  {
   "cell_type": "code",
   "execution_count": 18,
   "metadata": {},
   "outputs": [
    {
     "name": "stdout",
     "output_type": "stream",
     "text": [
      "True\n",
      "False\n"
     ]
    }
   ],
   "source": [
    "# isalpha() check whether the string is alpha or not\n",
    "\n",
    "print('hello'.isalpha())\n",
    "print('hello123'.isalpha())"
   ]
  },
  {
   "cell_type": "code",
   "execution_count": null,
   "metadata": {},
   "outputs": [],
   "source": []
  }
 ],
 "metadata": {
  "kernelspec": {
   "display_name": "base",
   "language": "python",
   "name": "python3"
  },
  "language_info": {
   "codemirror_mode": {
    "name": "ipython",
    "version": 3
   },
   "file_extension": ".py",
   "mimetype": "text/x-python",
   "name": "python",
   "nbconvert_exporter": "python",
   "pygments_lexer": "ipython3",
   "version": "3.12.4"
  }
 },
 "nbformat": 4,
 "nbformat_minor": 2
}
