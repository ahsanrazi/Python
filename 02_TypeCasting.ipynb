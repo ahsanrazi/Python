{
  "nbformat": 4,
  "nbformat_minor": 0,
  "metadata": {
    "colab": {
      "provenance": [],
      "authorship_tag": "ABX9TyNPBQnLU9QU6Cz4r6aAxJdK",
      "include_colab_link": true
    },
    "kernelspec": {
      "name": "python3",
      "display_name": "Python 3"
    },
    "language_info": {
      "name": "python"
    }
  },
  "cells": [
    {
      "cell_type": "markdown",
      "metadata": {
        "id": "view-in-github",
        "colab_type": "text"
      },
      "source": [
        "<a href=\"https://colab.research.google.com/github/ahsanrazi/Python/blob/main/02_TypeCasting.ipynb\" target=\"_parent\"><img src=\"https://colab.research.google.com/assets/colab-badge.svg\" alt=\"Open In Colab\"/></a>"
      ]
    },
    {
      "cell_type": "code",
      "execution_count": 1,
      "metadata": {
        "colab": {
          "base_uri": "https://localhost:8080/"
        },
        "id": "V6q2RC4_Yniv",
        "outputId": "a21eb382-ad1e-41d1-f813-95701b09992e"
      },
      "outputs": [
        {
          "output_type": "stream",
          "name": "stdout",
          "text": [
            "21.0\n",
            "1\n",
            "True\n",
            "True\n"
          ]
        }
      ],
      "source": [
        "# type casting = The process of converting a value of one data type to another\n",
        "#                          (string, integer, float, boolean)\n",
        "#                          Explicit vs Implicit\n",
        "\n",
        "name = \"Bro\"\n",
        "age = 21\n",
        "gpa = 1.9\n",
        "student = True\n",
        "\n",
        "# print(type(name))\n",
        "# print(type(age))\n",
        "# print(type(gpa))\n",
        "# print(type(student))\n",
        "\n",
        "age = float(age)\n",
        "print(age)\n",
        "\n",
        "gpa = int(gpa)\n",
        "print(gpa)\n",
        "\n",
        "student = str(student)\n",
        "print(student)\n",
        "\n",
        "name = bool(name)\n",
        "print(name)"
      ]
    },
    {
      "cell_type": "code",
      "source": [],
      "metadata": {
        "id": "JsQV1n2zY0Q_"
      },
      "execution_count": null,
      "outputs": []
    }
  ]
}