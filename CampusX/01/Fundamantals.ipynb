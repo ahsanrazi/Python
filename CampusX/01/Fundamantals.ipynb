{
 "cells": [
  {
   "cell_type": "markdown",
   "metadata": {},
   "source": [
    "# Python Output "
   ]
  },
  {
   "cell_type": "code",
   "execution_count": 1,
   "metadata": {},
   "outputs": [
    {
     "name": "stdout",
     "output_type": "stream",
     "text": [
      "Hello World\n"
     ]
    }
   ],
   "source": [
    "# We can see output in python using the print() function\n",
    "print(\"Hello World\")"
   ]
  },
  {
   "cell_type": "code",
   "execution_count": 3,
   "metadata": {},
   "outputs": [
    {
     "name": "stdout",
     "output_type": "stream",
     "text": [
      "Hello\n",
      "10\n",
      "True\n",
      "hello 10 True\n"
     ]
    }
   ],
   "source": [
    "# We can print multiple data types\n",
    "print(\"Hello\")\n",
    "print(10)\n",
    "print(True)\n",
    "\n",
    "print(\"hello\",10,True)"
   ]
  },
  {
   "cell_type": "code",
   "execution_count": 4,
   "metadata": {},
   "outputs": [
    {
     "name": "stdout",
     "output_type": "stream",
     "text": [
      "Hello--10--True\n"
     ]
    }
   ],
   "source": [
    "# In python the default separator is space we can change it by using sep=''\n",
    "print(\"Hello\",10,True,sep='--')"
   ]
  },
  {
   "cell_type": "code",
   "execution_count": 5,
   "metadata": {},
   "outputs": [
    {
     "name": "stdout",
     "output_type": "stream",
     "text": [
      "Hello//world\n"
     ]
    }
   ],
   "source": [
    "# When we have two print functions it always on the new-line we can change it by using end=''\n",
    "print(\"Hello\",end='//')\n",
    "print(\"world\") "
   ]
  },
  {
   "cell_type": "markdown",
   "metadata": {},
   "source": [
    "# Data Types"
   ]
  },
  {
   "cell_type": "code",
   "execution_count": null,
   "metadata": {},
   "outputs": [],
   "source": [
    "# In programming we have Data Types this means that the particular language works with which type of data.\n",
    "# In Python we don't have char data type "
   ]
  },
  {
   "cell_type": "code",
   "execution_count": 6,
   "metadata": {},
   "outputs": [
    {
     "name": "stdout",
     "output_type": "stream",
     "text": [
      "10\n"
     ]
    }
   ],
   "source": [
    "# Integer (It can handle 1e308 length of number)\n",
    "print(10)"
   ]
  },
  {
   "cell_type": "code",
   "execution_count": 7,
   "metadata": {},
   "outputs": [
    {
     "name": "stdout",
     "output_type": "stream",
     "text": [
      "10.3\n"
     ]
    }
   ],
   "source": [
    "# Decimal / Float\n",
    "print(10.3)"
   ]
  },
  {
   "cell_type": "code",
   "execution_count": 8,
   "metadata": {},
   "outputs": [
    {
     "name": "stdout",
     "output_type": "stream",
     "text": [
      "True\n",
      "False\n"
     ]
    }
   ],
   "source": [
    "# Boolean\n",
    "print(True)\n",
    "print(False)"
   ]
  },
  {
   "cell_type": "code",
   "execution_count": 9,
   "metadata": {},
   "outputs": [
    {
     "name": "stdout",
     "output_type": "stream",
     "text": [
      "Hello world\n"
     ]
    }
   ],
   "source": [
    "# String / Text\n",
    "print(\"Hello world\")"
   ]
  },
  {
   "cell_type": "code",
   "execution_count": 12,
   "metadata": {},
   "outputs": [
    {
     "name": "stdout",
     "output_type": "stream",
     "text": [
      "(5+6j)\n"
     ]
    }
   ],
   "source": [
    "# Complex (complex numbers)\n",
    "print(5+6j)"
   ]
  },
  {
   "cell_type": "code",
   "execution_count": 10,
   "metadata": {},
   "outputs": [
    {
     "name": "stdout",
     "output_type": "stream",
     "text": [
      "[1, 2, 3, 4, 5]\n"
     ]
    }
   ],
   "source": [
    "# List (It is a Array. It is enclosed in Square brackets [])\n",
    "print([1,2,3,4,5])"
   ]
  },
  {
   "cell_type": "code",
   "execution_count": 11,
   "metadata": {},
   "outputs": [
    {
     "name": "stdout",
     "output_type": "stream",
     "text": [
      "(1, 2, 3, 4, 5)\n"
     ]
    }
   ],
   "source": [
    "# Tuple (It is enclosed in round brackets ())\n",
    "print((1,2,3,4,5))"
   ]
  },
  {
   "cell_type": "code",
   "execution_count": 13,
   "metadata": {},
   "outputs": [
    {
     "name": "stdout",
     "output_type": "stream",
     "text": [
      "{1, 2, 3, 4, 5}\n"
     ]
    }
   ],
   "source": [
    "# Sets (It is enclosed in Curly brackets {})\n",
    "print({1,2,3,4,5})"
   ]
  },
  {
   "cell_type": "code",
   "execution_count": 15,
   "metadata": {},
   "outputs": [
    {
     "name": "stdout",
     "output_type": "stream",
     "text": [
      "{'name': 'Raza', 'age': 20}\n"
     ]
    }
   ],
   "source": [
    "# Dictionay (It has a key-value pair. It is enclosed in Curly brackets {})\n",
    "print({'name':'Raza','age':20})"
   ]
  },
  {
   "cell_type": "markdown",
   "metadata": {},
   "source": [
    "# Type() Function"
   ]
  },
  {
   "cell_type": "code",
   "execution_count": 18,
   "metadata": {},
   "outputs": [
    {
     "data": {
      "text/plain": [
       "int"
      ]
     },
     "execution_count": 18,
     "metadata": {},
     "output_type": "execute_result"
    }
   ],
   "source": [
    "# type() function detect the type of the data\n",
    "type(10)\n",
    "\n"
   ]
  },
  {
   "cell_type": "code",
   "execution_count": 19,
   "metadata": {},
   "outputs": [
    {
     "data": {
      "text/plain": [
       "float"
      ]
     },
     "execution_count": 19,
     "metadata": {},
     "output_type": "execute_result"
    }
   ],
   "source": [
    "type(10.7)\n"
   ]
  },
  {
   "cell_type": "code",
   "execution_count": 20,
   "metadata": {},
   "outputs": [
    {
     "data": {
      "text/plain": [
       "str"
      ]
     },
     "execution_count": 20,
     "metadata": {},
     "output_type": "execute_result"
    }
   ],
   "source": [
    "type('Hello')\n"
   ]
  },
  {
   "cell_type": "code",
   "execution_count": 21,
   "metadata": {},
   "outputs": [
    {
     "data": {
      "text/plain": [
       "bool"
      ]
     },
     "execution_count": 21,
     "metadata": {},
     "output_type": "execute_result"
    }
   ],
   "source": [
    "type(True)\n"
   ]
  },
  {
   "cell_type": "code",
   "execution_count": 22,
   "metadata": {},
   "outputs": [
    {
     "data": {
      "text/plain": [
       "complex"
      ]
     },
     "execution_count": 22,
     "metadata": {},
     "output_type": "execute_result"
    }
   ],
   "source": [
    "type(5+6j)\n"
   ]
  },
  {
   "cell_type": "code",
   "execution_count": 23,
   "metadata": {},
   "outputs": [
    {
     "data": {
      "text/plain": [
       "list"
      ]
     },
     "execution_count": 23,
     "metadata": {},
     "output_type": "execute_result"
    }
   ],
   "source": [
    "type([1,2,3])\n"
   ]
  },
  {
   "cell_type": "code",
   "execution_count": 24,
   "metadata": {},
   "outputs": [
    {
     "data": {
      "text/plain": [
       "tuple"
      ]
     },
     "execution_count": 24,
     "metadata": {},
     "output_type": "execute_result"
    }
   ],
   "source": [
    "type((1,2,3))\n"
   ]
  },
  {
   "cell_type": "code",
   "execution_count": 25,
   "metadata": {},
   "outputs": [
    {
     "data": {
      "text/plain": [
       "set"
      ]
     },
     "execution_count": 25,
     "metadata": {},
     "output_type": "execute_result"
    }
   ],
   "source": [
    "type({1,2,3})"
   ]
  },
  {
   "cell_type": "code",
   "execution_count": 26,
   "metadata": {},
   "outputs": [
    {
     "data": {
      "text/plain": [
       "dict"
      ]
     },
     "execution_count": 26,
     "metadata": {},
     "output_type": "execute_result"
    }
   ],
   "source": [
    "type({'name':'Raza','age':20})"
   ]
  },
  {
   "cell_type": "markdown",
   "metadata": {},
   "source": [
    "# Variables"
   ]
  },
  {
   "cell_type": "code",
   "execution_count": 27,
   "metadata": {},
   "outputs": [
    {
     "name": "stdout",
     "output_type": "stream",
     "text": [
      "Raza\n"
     ]
    }
   ],
   "source": [
    "# Variable are like containers to store information.\n",
    "# Python is a Dynamically typed language it automatically detect the data-type of the variable witout explicitely\n",
    "# tell python the data-type of the variable\n",
    "\n",
    "name = \"Raza\"\n",
    "print(name)"
   ]
  },
  {
   "cell_type": "code",
   "execution_count": 28,
   "metadata": {},
   "outputs": [
    {
     "name": "stdout",
     "output_type": "stream",
     "text": [
      "5\n",
      "Raza\n"
     ]
    }
   ],
   "source": [
    "# Python is also Dynamic binding language means the data type of the variable is not fixed it can change\n",
    "# A variable can hold multiple data-type of data in the single file\n",
    "# In JAVA and C/C++ this is not possibel (a variable can hold same type of data int a = 5 )\n",
    "\n",
    "a = 5\n",
    "print(a)\n",
    "\n",
    "a = 'Raza'\n",
    "print(a)"
   ]
  },
  {
   "cell_type": "markdown",
   "metadata": {},
   "source": [
    "### Ways of creating variables\n"
   ]
  },
  {
   "cell_type": "code",
   "execution_count": 30,
   "metadata": {},
   "outputs": [
    {
     "name": "stdout",
     "output_type": "stream",
     "text": [
      "1 2 3\n"
     ]
    }
   ],
   "source": [
    "a = 1\n",
    "b = 2\n",
    "c = 3\n",
    "print(a,b,c)"
   ]
  },
  {
   "cell_type": "code",
   "execution_count": 31,
   "metadata": {},
   "outputs": [
    {
     "name": "stdout",
     "output_type": "stream",
     "text": [
      "1 2 3\n"
     ]
    }
   ],
   "source": [
    "a,b,c = 1,2,3\n",
    "print(a,b,c)"
   ]
  },
  {
   "cell_type": "code",
   "execution_count": 32,
   "metadata": {},
   "outputs": [
    {
     "name": "stdout",
     "output_type": "stream",
     "text": [
      "5 5 5\n"
     ]
    }
   ],
   "source": [
    "# Giving different variable a same value\n",
    "\n",
    "a=b=c = 5\n",
    "print(a,b,c)"
   ]
  },
  {
   "cell_type": "markdown",
   "metadata": {},
   "source": [
    "# Comments"
   ]
  },
  {
   "cell_type": "code",
   "execution_count": null,
   "metadata": {},
   "outputs": [],
   "source": [
    "# Comments are the text that is ignored by interpretor.\n",
    "# we use comments to write notes for ourselves and for the understanding of other developers.\n",
    "\n",
    "# In python we make comments by using Hash(#)\n",
    "# In Python we do't have multi-line comments "
   ]
  },
  {
   "cell_type": "markdown",
   "metadata": {},
   "source": [
    "# Keywords and Identifiers"
   ]
  },
  {
   "cell_type": "code",
   "execution_count": null,
   "metadata": {},
   "outputs": [],
   "source": [
    "# Keywords are the words that have the pre-defined meaning in the programming language.\n",
    "# Keywords are the reserved words that are used by the interprter to convert the code into machine code.\n",
    "# The programmers cannot use these keywords as name of the variables, constants and functions.\n",
    "\n",
    "# When we assign names to variables, functions, classes then these names are called identifiers.\n",
    "# \"Identifiers\" are the unique names we assign to variables, types, functions, and labels in our program.\n",
    "# Rules for making identifiers:\n",
    "# Identifiers can't start with digits\n",
    "# Identifiers can contain only underscore(_) special character not other special characters.\n",
    "# Identifiers can't be Keywords."
   ]
  },
  {
   "cell_type": "markdown",
   "metadata": {},
   "source": [
    "# User Input"
   ]
  },
  {
   "cell_type": "code",
   "execution_count": 1,
   "metadata": {},
   "outputs": [
    {
     "data": {
      "text/plain": [
       "'Raza'"
      ]
     },
     "execution_count": 1,
     "metadata": {},
     "output_type": "execute_result"
    }
   ],
   "source": [
    "# We can take input from the user by using the input() function\n",
    "# Default data-type of input() function is String because it is a universal formatt.\n",
    "\n",
    "input('Enter your name')"
   ]
  },
  {
   "cell_type": "markdown",
   "metadata": {},
   "source": [
    "# Type Conversion"
   ]
  },
  {
   "cell_type": "code",
   "execution_count": 6,
   "metadata": {},
   "outputs": [
    {
     "name": "stdout",
     "output_type": "stream",
     "text": [
      "<class 'int'> <class 'float'>\n",
      "10.6\n"
     ]
    }
   ],
   "source": [
    "# Type-conversion is the process of converting one data-type into another.\n",
    "# In Python there are two types of Type-conversion\n",
    "# Implicit type-conversion and Explicit type-conversion\n",
    "\n",
    "# Implicit type-conversion is automatically done by Python. Python do it by own.\n",
    "a = 5\n",
    "b = 5.6\n",
    "print(type(a), type(b)) \n",
    "print(a+b) # int is converted into float\n"
   ]
  },
  {
   "cell_type": "code",
   "execution_count": 9,
   "metadata": {},
   "outputs": [
    {
     "name": "stdout",
     "output_type": "stream",
     "text": [
      "<class 'str'>\n",
      "<class 'int'>\n"
     ]
    }
   ],
   "source": [
    "# Exlpicit type-conversion is done by Programmer.\n",
    "\n",
    "# For converting data-type into integer we use int() function\n",
    "a = '4'\n",
    "print(type(a))\n",
    "a = int(a)\n",
    "print(type(a))"
   ]
  },
  {
   "cell_type": "code",
   "execution_count": 12,
   "metadata": {},
   "outputs": [
    {
     "name": "stdout",
     "output_type": "stream",
     "text": [
      "<class 'int'>\n",
      "<class 'str'>\n"
     ]
    }
   ],
   "source": [
    "# For converting the data-type into String we use str() fuction \n",
    "a = 4\n",
    "print(type(a))\n",
    "a = str(a)\n",
    "print(type(a))"
   ]
  },
  {
   "cell_type": "code",
   "execution_count": 13,
   "metadata": {},
   "outputs": [
    {
     "name": "stdout",
     "output_type": "stream",
     "text": [
      "<class 'int'>\n",
      "<class 'float'>\n"
     ]
    }
   ],
   "source": [
    "# For converting the data-type into float we use float() function\n",
    "\n",
    "a = 4\n",
    "print(type(a))\n",
    "a = float(a)\n",
    "print(type(a)) \n",
    "\n",
    "# There are functions for other data-types as well. "
   ]
  },
  {
   "cell_type": "code",
   "execution_count": 21,
   "metadata": {},
   "outputs": [
    {
     "name": "stdout",
     "output_type": "stream",
     "text": [
      "3\n",
      "<class 'str'>\n"
     ]
    }
   ],
   "source": [
    "# If we do the type-conversion then the int() can't change the type of value it create the separate\n",
    "# value chnage the type of it and give it to us but the type of the main value is same as it is.\n",
    "\n",
    "# Python type-conversion doesn't change the original data it create the new value and we perform operations\n",
    "# on the new value.\n",
    "# type-conversion doesn't create permanant changes.\n",
    "\n",
    "x = input(\"Enter the Number\")\n",
    "y = int(x)\n",
    "print(y)\n",
    "\n",
    "print(type(x))"
   ]
  },
  {
   "cell_type": "markdown",
   "metadata": {},
   "source": [
    "# First Program"
   ]
  },
  {
   "cell_type": "code",
   "execution_count": 17,
   "metadata": {},
   "outputs": [
    {
     "name": "stdout",
     "output_type": "stream",
     "text": [
      "The result is 5\n"
     ]
    }
   ],
   "source": [
    "# Take two numbers from the user and store it in the variable\n",
    "first_num = int(input('Enter the first number'))\n",
    "second_num = int(input('Enter the second number'))\n",
    "# Add the two numbers\n",
    "sum = first_num + second_num\n",
    "# Print result \n",
    "print('The result is',sum)\n"
   ]
  },
  {
   "cell_type": "markdown",
   "metadata": {},
   "source": [
    "# Literals"
   ]
  },
  {
   "cell_type": "code",
   "execution_count": 18,
   "metadata": {},
   "outputs": [
    {
     "name": "stdout",
     "output_type": "stream",
     "text": [
      "<class 'str'>\n"
     ]
    }
   ],
   "source": [
    "# The actual values stored in the variables are called literals\n",
    "\n",
    "n = 10\n",
    "\n",
    "# n -> variable\n",
    "# 10 -> literal"
   ]
  },
  {
   "cell_type": "code",
   "execution_count": 24,
   "metadata": {},
   "outputs": [],
   "source": [
    "# Integers\n",
    "a = 0b1010  # Binary Literal\n",
    "b = 100     # Decimal Literal\n",
    "c = 0o310   # Octal Literal\n",
    "d = 0x12c   # Hexadecimal Literal\n",
    "\n",
    "# Floats\n",
    "f_1 = 10.5\n",
    "f_2 = 1.5e2     # 1.5 * 10^2\n",
    "f_3 = 1.5e-3    # 1.5 * 10^-3\n",
    "\n",
    "# Complex\n",
    "x = 3.14j\n",
    "\n",
    "# Strings\n",
    "s_1 = 'Hello'               # Single quote\n",
    "s_2 = \"Hello\"               # Double quote\n",
    "s_3 = \"\"\"Hello\"\"\"           # triple quote -> Multi-line String\n",
    "char = \"C\"                  # charater\n",
    "unicode = u\"\\U0001f600\"      # Emojis\n",
    "raw_str = r\"rar \\n string\" \n",
    "\n",
    "# Floats\n",
    "a = True + 4        # Internally in python the value of True is 1 and we can do mathematical operations on them\n",
    "b  False + 10       # Internally in Python the value of False os 0 and we can do matbematical operations on them\n",
    "\n",
    "\n"
   ]
  },
  {
   "cell_type": "markdown",
   "metadata": {},
   "source": [
    "# None Literal"
   ]
  },
  {
   "cell_type": "code",
   "execution_count": 26,
   "metadata": {},
   "outputs": [],
   "source": [
    "# None Literal \n",
    "# The 'None' keyword is used to define a null value, or no value at all.\n",
    "\n",
    "# The basic use of None is that in Python there is no way for declaring variable So for this we use None means \n",
    "# nothing, no value and we can assign the value later.\n",
    "\n",
    "a = None"
   ]
  }
 ],
 "metadata": {
  "kernelspec": {
   "display_name": "base",
   "language": "python",
   "name": "python3"
  },
  "language_info": {
   "codemirror_mode": {
    "name": "ipython",
    "version": 3
   },
   "file_extension": ".py",
   "mimetype": "text/x-python",
   "name": "python",
   "nbconvert_exporter": "python",
   "pygments_lexer": "ipython3",
   "version": "3.12.4"
  }
 },
 "nbformat": 4,
 "nbformat_minor": 2
}
