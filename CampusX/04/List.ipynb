{
 "cells": [
  {
   "cell_type": "markdown",
   "metadata": {},
   "source": [
    "# Lists"
   ]
  },
  {
   "cell_type": "code",
   "execution_count": null,
   "metadata": {},
   "outputs": [],
   "source": [
    "# List is a data-type where we can store multiple items under one name. More technically lists act like dynamic arrays\n",
    "# Lists are used to store multiple items in a single variable.\n",
    "# A Python list is a dynamic, mutable, ordered collection of items enclosed within square brackets []  \n",
    "\n",
    "# list = [20,'hello',20.3,[1,2,3]]\n",
    "\n",
    "# List is a referential array it store the address of the values and values are store elsewhere"
   ]
  },
  {
   "cell_type": "markdown",
   "metadata": {},
   "source": [
    "#### Arrays Vs Lists"
   ]
  },
  {
   "cell_type": "code",
   "execution_count": null,
   "metadata": {},
   "outputs": [],
   "source": [
    "# Arrays are of Fixed Size while Lists are of Dynamic Size\n",
    "# Arrays are Homogeneous (we can store same type of data) while Lists are Heterogeneous (we can store different types)\n",
    "\n",
    "# Arrays are fast but Lists are slow\n",
    "# Arrays occupy less space in memory while lists occupy more space in memory"
   ]
  },
  {
   "cell_type": "markdown",
   "metadata": {},
   "source": [
    "#### Creating a List"
   ]
  },
  {
   "cell_type": "code",
   "execution_count": 7,
   "metadata": {},
   "outputs": [
    {
     "name": "stdout",
     "output_type": "stream",
     "text": [
      "[]\n",
      "[1, 2, 3, 4]\n",
      "[1, 2, 3, [4, 5]]\n",
      "[[[1, 2], [3, 4]], [[5, 6], [7, 8]]]\n",
      "[1, 2.3, True, 'Hello']\n",
      "['h', 'e', 'l', 'l', 'o']\n"
     ]
    }
   ],
   "source": [
    "# Empty\n",
    "L1 = []\n",
    "print(L1)\n",
    "\n",
    "# 1D -> Single List\n",
    "L2 = [1,2,3,4]\n",
    "print(L2)\n",
    "\n",
    "# 2D -> List inside List\n",
    "L3 = [1,2,3,[4,5]]\n",
    "print(L3)\n",
    "\n",
    "# 3D -> List inside list inside List\n",
    "L4 = [[[1,2],[3,4]],[[5,6],[7,8]]]\n",
    "print(L4)\n",
    "\n",
    "# Heterogeneous\n",
    "L5 = [1,2.3,True,'Hello']\n",
    "print(L5)\n",
    "\n",
    "# Using Type-conversion\n",
    "L6 = list('hello')\n",
    "print(L6) "
   ]
  },
  {
   "cell_type": "markdown",
   "metadata": {},
   "source": [
    "#### Accessing Items from a List "
   ]
  },
  {
   "cell_type": "code",
   "execution_count": 9,
   "metadata": {},
   "outputs": [
    {
     "name": "stdout",
     "output_type": "stream",
     "text": [
      "3\n",
      "4\n"
     ]
    }
   ],
   "source": [
    "# Indexing\n",
    "\n",
    "# Positive Indexing of the list start from zero Left-to-Right \n",
    "# [1,2,3,4,5]\n",
    "#  0 1 2 3 4\n",
    "\n",
    "L = [1,2,3,4,5]\n",
    "print(L[2])\n",
    "\n",
    "# Negative indexing of the List start from -1 from Right-to-Left\n",
    "# [ 1, 2, 3, 4, 5]\n",
    "#  -5 -4 -3 -2 -1\n",
    "\n",
    "print(L[-2])"
   ]
  },
  {
   "cell_type": "code",
   "execution_count": 11,
   "metadata": {},
   "outputs": [
    {
     "name": "stdout",
     "output_type": "stream",
     "text": [
      "2\n",
      "5\n"
     ]
    }
   ],
   "source": [
    "# In the 2D List the indexing is same (positive and Negative) but we give two brackets [][]\n",
    "\n",
    "L = [[1,2,3],[4,5,6]]\n",
    "\n",
    "# Positve\n",
    "print(L[0][1])\n",
    "\n",
    "# Negative\n",
    "print(L[-1][-2])\n",
    "\n"
   ]
  },
  {
   "cell_type": "code",
   "execution_count": 13,
   "metadata": {},
   "outputs": [
    {
     "name": "stdout",
     "output_type": "stream",
     "text": [
      "5\n",
      "7\n"
     ]
    }
   ],
   "source": [
    "# In the 3D List the indexing is same (positive and negative) but we give three brackets [][][]\n",
    "\n",
    "L = [[[1,2],[3,4]],[[5,6],[7,8]]]\n",
    "\n",
    "# Positive\n",
    "print(L[1][0][0])\n",
    "\n",
    "# Negative\n",
    "print(L[-1][-1][-2])"
   ]
  },
  {
   "cell_type": "markdown",
   "metadata": {},
   "source": [
    "#### Slicing"
   ]
  },
  {
   "cell_type": "code",
   "execution_count": 5,
   "metadata": {},
   "outputs": [
    {
     "name": "stdout",
     "output_type": "stream",
     "text": [
      "[1, 2, 3]\n",
      "[3, 4, 5]\n",
      "[1, 2, 3, 4]\n",
      "[1, 3, 5]\n",
      "[1, 3, 5]\n",
      "[5, 3]\n",
      "[3, 4, 5]\n"
     ]
    }
   ],
   "source": [
    "# Slicing \n",
    "# Accessing the many items from the List\n",
    "\n",
    "L = [1,2,3,4,5]\n",
    "\n",
    "# Positive Indexing\n",
    "print(L[0:3]) # We give the range first digit is included and second is excluded \n",
    "\n",
    "# If we skip the second digit then the it goes to the end\n",
    "print(L[2:]) \n",
    "\n",
    "# If we skip the first digit then ir start from the first letter\n",
    "print(L[:4])\n",
    "\n",
    "# We can give the third digit it is the step-size (first two digit empty means wwhole List)\n",
    "print(L[::2])\n",
    "print(L[0:6:2])\n",
    "\n",
    "# With Negative step-size (start the string from the end)(First digit is greater)\n",
    "print(L[4:0:-2])\n",
    "\n"
   ]
  },
  {
   "cell_type": "code",
   "execution_count": 8,
   "metadata": {},
   "outputs": [
    {
     "name": "stdout",
     "output_type": "stream",
     "text": [
      "[3, 4, 5]\n",
      "[5, 4, 3, 2, 1]\n"
     ]
    }
   ],
   "source": [
    "# Negative indexing\n",
    "L = [1,2,3,4,5]\n",
    "\n",
    "print(L[-3:])\n",
    "\n",
    "# reverse the List\n",
    "print(L[-1:-6:-1])"
   ]
  },
  {
   "cell_type": "code",
   "execution_count": 4,
   "metadata": {},
   "outputs": [
    {
     "name": "stdout",
     "output_type": "stream",
     "text": [
      "[5, 4, 3, 2, 1]\n"
     ]
    }
   ],
   "source": [
    "# Reverse the List\n",
    "L = [1,2,3,4,5]\n",
    "\n",
    "print(L[::-1])"
   ]
  },
  {
   "cell_type": "markdown",
   "metadata": {},
   "source": [
    "#### Characteristics of Lists"
   ]
  },
  {
   "cell_type": "code",
   "execution_count": 1,
   "metadata": {},
   "outputs": [
    {
     "name": "stdout",
     "output_type": "stream",
     "text": [
      "False\n"
     ]
    }
   ],
   "source": [
    "# Lists are odered means the order of the values stored in the matter\n",
    "# 1,2,3 Not Equal to 3,2,1\n",
    "\n",
    "L1 = [1,2,3]\n",
    "L2 = [3,2,1]\n",
    "\n",
    "print(L1 == L2)"
   ]
  },
  {
   "cell_type": "code",
   "execution_count": 10,
   "metadata": {},
   "outputs": [
    {
     "name": "stdout",
     "output_type": "stream",
     "text": [
      "[1, 2, 3]\n",
      "[1, 2, 5]\n"
     ]
    }
   ],
   "source": [
    "# Lists are mutable we can change the items of the lists\n",
    "\n",
    "L = [1,2,3]\n",
    "print(L)\n",
    "\n",
    "L[2] = 5\n",
    "print(L)"
   ]
  },
  {
   "cell_type": "code",
   "execution_count": 5,
   "metadata": {},
   "outputs": [
    {
     "name": "stdout",
     "output_type": "stream",
     "text": [
      "[1, 2.1, 'hello', [1, 2, 3]]\n"
     ]
    }
   ],
   "source": [
    "# Lists are heterogeneous means we can store different types of data\n",
    "\n",
    "L  = [1,2.1,'hello',[1,2,3]]\n",
    "print(L)"
   ]
  },
  {
   "cell_type": "code",
   "execution_count": 3,
   "metadata": {},
   "outputs": [
    {
     "name": "stdout",
     "output_type": "stream",
     "text": [
      "[1, 2, 2, 3]\n"
     ]
    }
   ],
   "source": [
    "# Lists can contain duplicate items\n",
    "\n",
    "L = [1,2,2,3]\n",
    "print(L)"
   ]
  },
  {
   "cell_type": "code",
   "execution_count": 6,
   "metadata": {},
   "outputs": [
    {
     "name": "stdout",
     "output_type": "stream",
     "text": [
      "[1, 2, 3]\n",
      "[1, 2, 3, 4]\n"
     ]
    }
   ],
   "source": [
    "# Lists are Dynamic means we can add many items\n",
    "\n",
    "L = [1,2,3]\n",
    "print(L)\n",
    "\n",
    "L.append(4)\n",
    "print(L)"
   ]
  },
  {
   "cell_type": "code",
   "execution_count": 7,
   "metadata": {},
   "outputs": [
    {
     "name": "stdout",
     "output_type": "stream",
     "text": [
      "[1, 2, 3, [4, 5, 6]]\n"
     ]
    }
   ],
   "source": [
    "# Lists can be nested means it can take list inside the list\n",
    "\n",
    "L = [1,2,3,[4,5,6]]\n",
    "print(L)"
   ]
  },
  {
   "cell_type": "code",
   "execution_count": 9,
   "metadata": {},
   "outputs": [
    {
     "name": "stdout",
     "output_type": "stream",
     "text": [
      "1\n"
     ]
    }
   ],
   "source": [
    "# lists items can be accessed\n",
    "\n",
    "L = [1,2,3]\n",
    "\n",
    "print(L[0])"
   ]
  },
  {
   "cell_type": "code",
   "execution_count": null,
   "metadata": {},
   "outputs": [],
   "source": [
    "# Lists can contain any kind of objects in Python "
   ]
  }
 ],
 "metadata": {
  "kernelspec": {
   "display_name": "base",
   "language": "python",
   "name": "python3"
  },
  "language_info": {
   "codemirror_mode": {
    "name": "ipython",
    "version": 3
   },
   "file_extension": ".py",
   "mimetype": "text/x-python",
   "name": "python",
   "nbconvert_exporter": "python",
   "pygments_lexer": "ipython3",
   "version": "3.12.4"
  }
 },
 "nbformat": 4,
 "nbformat_minor": 2
}
