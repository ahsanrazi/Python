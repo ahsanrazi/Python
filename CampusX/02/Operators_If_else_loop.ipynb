{
 "cells": [
  {
   "cell_type": "markdown",
   "metadata": {},
   "source": [
    "# Operators"
   ]
  },
  {
   "cell_type": "code",
   "execution_count": 1,
   "metadata": {},
   "outputs": [],
   "source": [
    "# The Operators are the operations that we performn on the Operands.\n",
    "\n",
    "# In Python there are six types of Operators:\n",
    "# Arithmetic Operators\n",
    "# Relational Operators\n",
    "# Logical Operators\n",
    "# Bitwise Operators\n",
    "# Assignment Operators\n",
    "# Menbership Operators"
   ]
  },
  {
   "cell_type": "markdown",
   "metadata": {},
   "source": [
    "#### Arithmetic Operators"
   ]
  },
  {
   "cell_type": "code",
   "execution_count": 7,
   "metadata": {},
   "outputs": [
    {
     "name": "stdout",
     "output_type": "stream",
     "text": [
      "Addition 5+2 =  7\n",
      "Subtraction 5-2 =  3\n",
      "Multiplication 5*2 =  10\n",
      "Division 5/2 =  2.5\n",
      "Integer Division 5//2 =  2\n",
      "Modulus 5%2 =  1\n",
      "Power of 5**2 =  25\n"
     ]
    }
   ],
   "source": [
    "# Arithmetic Operators\n",
    "\n",
    "# Arithmetic Operators are the Operators that perform the mathematical Operations. These are:\n",
    "# Addition          (+)\n",
    "# Subtraction       (-)\n",
    "# Multiplication    (*)\n",
    "# Division          (/)\n",
    "# Integer Division  (//) -> It convert the answer into integer\n",
    "# Modulus           (%)\n",
    "# Power Of          (**)\n",
    "\n",
    "print('Addition 5+2 = ',5+2)\n",
    "print('Subtraction 5-2 = ',5-2)\n",
    "print('Multiplication 5*2 = ',5*2)\n",
    "print('Division 5/2 = ',5/2)\n",
    "print('Integer Division 5//2 = ',5//2)\n",
    "print('Modulus 5%2 = ',5%2)\n",
    "print('Power of 5**2 = ',5**2)"
   ]
  },
  {
   "cell_type": "markdown",
   "metadata": {},
   "source": [
    "#### Relational Operators"
   ]
  },
  {
   "cell_type": "code",
   "execution_count": 9,
   "metadata": {},
   "outputs": [
    {
     "name": "stdout",
     "output_type": "stream",
     "text": [
      "5>2 =  True\n",
      "5<2 =  False\n",
      "5>=2 =  True\n",
      "5<=2 =  False\n",
      "5==2 =  False\n",
      "5!=2 =  True\n"
     ]
    }
   ],
   "source": [
    "# Relational Operators\n",
    "\n",
    "# Relational Operators are the Operators that are used to compare two values. These are:\n",
    "# Greater than              (>)\n",
    "# Less than                 (<)\n",
    "# Greater than Equal to     (>=)\n",
    "# Less than Equal to        (<=)\n",
    "# Equal to                  (==)\n",
    "# Not Equal to              (!=)\n",
    "\n",
    "print('5>2 = ',5>2)\n",
    "print('5<2 = ',5<2)\n",
    "print('5>=2 = ',5>=2)\n",
    "print('5<=2 = ',5<=2)\n",
    "print('5==2 = ',5==3)\n",
    "print('5!=2 = ',5!=2)"
   ]
  },
  {
   "cell_type": "markdown",
   "metadata": {},
   "source": [
    "#### Logical Operators"
   ]
  },
  {
   "cell_type": "code",
   "execution_count": 13,
   "metadata": {},
   "outputs": [
    {
     "name": "stdout",
     "output_type": "stream",
     "text": [
      "1 and 0 =  0\n",
      "1 or 0 =  1\n",
      "not 1 =  False\n"
     ]
    }
   ],
   "source": [
    "# Logical Operators\n",
    "\n",
    "# Logical Operators are used for logic building in the programming.\n",
    "# In Python, logical operators are used to combine multiple conditions together and evaluate them \n",
    "# as a single boolean expression\n",
    "# These are:\n",
    "# AND   (and) -> \tThis returns True if both x and y are true\n",
    "# OR    (or)  ->\tThis returns True if either x or y are true \n",
    "# NOT   (not) -> \tReverses a result, so if something is True , not turns it False\n",
    "\n",
    "print('1 and 0 = ', 1 and 0)\n",
    "print('1 or 0 = ',1 or 0)\n",
    "print('not 1 = ',not 1)"
   ]
  },
  {
   "cell_type": "markdown",
   "metadata": {},
   "source": [
    "#### Bitwise Operators"
   ]
  },
  {
   "cell_type": "code",
   "execution_count": 21,
   "metadata": {},
   "outputs": [
    {
     "name": "stdout",
     "output_type": "stream",
     "text": [
      "2 & 3 =  2\n",
      "2 | 3 =  3\n",
      "2 ^ 3 =  1\n",
      "~3 =  -4\n",
      "2 >> 3 =  1\n",
      "2 << 3 =  20\n"
     ]
    }
   ],
   "source": [
    "# Bitwise Operators\n",
    "\n",
    "# Bitwise operators are the operators that operate on the binary values.\n",
    "# These are:\n",
    "# Bitwise AND                   (&)\n",
    "# Bitwise OR                    (|)\n",
    "# Bitwise XOR                   (^)\n",
    "# Bitwise One's complement      (~)\n",
    "# Bitwise Left Shift            (<<)\n",
    "# Bitwise Right Shift           (>>)\n",
    "\n",
    "print('2 & 3 = ',2&3)\n",
    "print('2 | 3 = ',2|3)\n",
    "print('2 ^ 3 = ',2^3)\n",
    "print('~3 = ',~3)\n",
    "print('2 >> 3 = ',4>>2)\n",
    "print('2 << 3 = ',5<<2)\n",
    "\n",
    "\n",
    "# First it convert the number into binary perform Bitwise operations on then give the value of the resulted binary.\n",
    "\n",
    "# 2 Bitwise AND 3\n",
    "#                       2 -> 0 1 0\n",
    "#                       3 -> 1 1 0\n",
    "#                       &    -----\n",
    "#                            0 1 0 -> 2 "
   ]
  },
  {
   "cell_type": "markdown",
   "metadata": {},
   "source": [
    "#### Assignmant Operators"
   ]
  },
  {
   "cell_type": "code",
   "execution_count": 32,
   "metadata": {},
   "outputs": [
    {
     "name": "stdout",
     "output_type": "stream",
     "text": [
      "4\n",
      "0\n",
      "4\n",
      "1.0\n"
     ]
    }
   ],
   "source": [
    "# Assignment Operator\n",
    "\n",
    "# Assignment Operator helps to assign values or expressions to the left-hand-side variable.\n",
    "# We can use the assignment operator in conjuction with other operators.\n",
    "\n",
    "a = 2\n",
    "a += 2      # a = a + 2\n",
    "print(a)\n",
    "\n",
    "b = 2\n",
    "b -= 2      # a = a - 2\n",
    "print(b)\n",
    "\n",
    "c = 2\n",
    "c *= 2      # c = c * 2\n",
    "print(c)\n",
    "\n",
    "d = 2\n",
    "d /= 2      # d = d / 2\n",
    "print(d)\n",
    "\n",
    "# In Python we cannot use a++ or ++a irrespective of that we use (a = a+2) or (a+=2)"
   ]
  },
  {
   "cell_type": "markdown",
   "metadata": {},
   "source": [
    "#### Membership Operators"
   ]
  },
  {
   "cell_type": "code",
   "execution_count": 79,
   "metadata": {},
   "outputs": [
    {
     "name": "stdout",
     "output_type": "stream",
     "text": [
      "D in Delhi =  True\n",
      "D not in Delhi =  False\n",
      "1 in [2,3,4,5] =  False\n"
     ]
    }
   ],
   "source": [
    "# Membership Operator\n",
    "\n",
    "# Membership operators are used to test if an object is presented in a sequence or not.\n",
    "# These are:\n",
    "# in        -> \"in\" used to determine whether an object is present in any sequence\n",
    "# not in    -> \"not in\" used to determine whether an object is absent from any sequence.\n",
    "\n",
    "print('D in Delhi = ','D' in 'Delhi')\n",
    "print('D not in Delhi = ','D' not in 'Delhi')\n",
    "\n",
    "\n",
    "# This operator also works on (Lists, Tuples, Sets, Dictionaries)\n",
    "\n",
    "print('1 in [2,3,4,5] = ',1 in [2,3,4,5])"
   ]
  },
  {
   "cell_type": "markdown",
   "metadata": {},
   "source": [
    "#### Program\n"
   ]
  },
  {
   "cell_type": "code",
   "execution_count": 39,
   "metadata": {},
   "outputs": [
    {
     "name": "stdout",
     "output_type": "stream",
     "text": [
      "The Sum of number is: 12\n"
     ]
    }
   ],
   "source": [
    "# Find the sum of three digit number entered by the user\n",
    "\n",
    "number = int(input('Enter the Number: '))\n",
    "\n",
    "# 345 % 10 -> 5\n",
    "a = number % 10\n",
    "\n",
    "# 345 // 10 -> 34\n",
    "number  = number // 10\n",
    "\n",
    "# 34 % 10 -> 4\n",
    "b = number % 10\n",
    "\n",
    "# 34 // 10 -> 3\n",
    "c = number // 10\n",
    "\n",
    "print('The Sum of number is:',a+b+c)  "
   ]
  },
  {
   "cell_type": "markdown",
   "metadata": {},
   "source": [
    "# if-else"
   ]
  },
  {
   "cell_type": "code",
   "execution_count": 46,
   "metadata": {},
   "outputs": [],
   "source": [
    "# The if-else statement is a decision-making statement that is used to decide whether the part of the code \n",
    "# will be executed or not based on the specified condition (test expression). If the given condition is true, \n",
    "# then the code inside the if block is executed, otherwise the code inside the else block is executed.\n",
    "\n",
    "# Use if to specify a block of code to be executed, if a specified condition is true\n",
    "# Use else to specify a block of code to be executed, if the same condition is false\n",
    "# Use else if to specify a new condition to test, if the first condition is false\n",
    "\n",
    "# if condition:\n",
    "#     code\n",
    "# else:\n",
    "#     code\n",
    "\n",
    "\n",
    "# if condition:\n",
    "#     code\n",
    "# elif condition:\n",
    "#     code\n",
    "# else:\n",
    "#     code"
   ]
  },
  {
   "cell_type": "code",
   "execution_count": 40,
   "metadata": {},
   "outputs": [
    {
     "name": "stdout",
     "output_type": "stream",
     "text": [
      "Welcome!!\n"
     ]
    }
   ],
   "source": [
    "# Login Program\n",
    "\n",
    "# Email = abc@gmail.com\n",
    "# Password = 1234\n",
    "\n",
    "email = input('Enter the Email:')\n",
    "password = input('Enter the Password')\n",
    "\n",
    "if email == 'abc@gmail.com' and password == '1234':\n",
    "    print('Welcome!!')\n",
    "else:\n",
    "    print('Email and Password Not correct') "
   ]
  },
  {
   "cell_type": "code",
   "execution_count": 41,
   "metadata": {},
   "outputs": [
    {
     "name": "stdout",
     "output_type": "stream",
     "text": [
      "Incorrect Password\n",
      "Welcome!!\n"
     ]
    }
   ],
   "source": [
    "# Login Program with elif and nested if-else\n",
    "\n",
    "# Email = abc@gmail.com\n",
    "# Password = 1234\n",
    "\n",
    "email = input('Enter the Email:')\n",
    "password = input('Enter the Password')\n",
    "\n",
    "if email == 'abc@gmail.com' and password == '1234':\n",
    "    print('Welcome!!')\n",
    "elif email == 'abc@gmail.com' and password != '1234': # Incorrect Password\n",
    "    print('Incorrect Password')\n",
    "    password = input('Enter the password again')\n",
    "    if password == '1234':\n",
    "        print('Welcome!!')\n",
    "    else:\n",
    "        print('Again Not Correct')\n",
    "elif email != 'abc@gmail.com' and password == '1234': # Incorrect Email\n",
    "    print('Incorrect Email')\n",
    "    password = input('Enter the Email again')\n",
    "    if password == 'abc@gmail.com':\n",
    "        print('Welcome!!')\n",
    "    else:\n",
    "        print('Again Not Correct')\n",
    "else:\n",
    "    print('Email and Password Not correct') \n"
   ]
  },
  {
   "cell_type": "code",
   "execution_count": 51,
   "metadata": {},
   "outputs": [
    {
     "name": "stdout",
     "output_type": "stream",
     "text": [
      "Smallest Number is 3\n"
     ]
    }
   ],
   "source": [
    "# Find the minimum of 3 numbers:\n",
    "\n",
    "a = int(input('Enter the First Number: '))\n",
    "b = int(input('Enter the Second Number: '))\n",
    "c = int(input('Enter the Third Number: '))\n",
    "\n",
    "if a<b and a<c:\n",
    "    print('Smallest Number is',a)\n",
    "elif b<c:\n",
    "    print('Smallest Number is',b)\n",
    "else:\n",
    "    print('Smallest Number is',c)"
   ]
  },
  {
   "cell_type": "code",
   "execution_count": 54,
   "metadata": {},
   "outputs": [
    {
     "name": "stdout",
     "output_type": "stream",
     "text": [
      "2.0\n"
     ]
    }
   ],
   "source": [
    "# Menu Driven Calculator:\n",
    "\n",
    "a = int(input('Enter the First Number:'))\n",
    "b = int(input('Enter the Second Number:'))\n",
    "\n",
    "op = input('Enter the Operation:')\n",
    "\n",
    "if op == '+':\n",
    "    print(a+b)\n",
    "elif op == '-':\n",
    "    print(a-b)\n",
    "elif op == '*':\n",
    "    print(a*b)\n",
    "else:\n",
    "    print(a/b)"
   ]
  },
  {
   "cell_type": "markdown",
   "metadata": {},
   "source": [
    "# Modules"
   ]
  },
  {
   "cell_type": "code",
   "execution_count": 64,
   "metadata": {},
   "outputs": [],
   "source": [
    "# A module is considered to be same as a code library.\n",
    "# In Python, a module is a file containing Python code that can define functions, classes, and variables,\n",
    "# and can also include in your application.\n",
    "# The Modules help us to reuse the code.\n",
    "\n",
    "# The four of therm are:\n",
    "# math\n",
    "# keyword\n",
    "# random\n",
    "# date-time"
   ]
  },
  {
   "cell_type": "code",
   "execution_count": 58,
   "metadata": {},
   "outputs": [
    {
     "name": "stdout",
     "output_type": "stream",
     "text": [
      "120\n",
      "4.0\n"
     ]
    }
   ],
   "source": [
    "# math\n",
    "\n",
    "import math\n",
    "\n",
    "print(math.factorial(5))\n",
    "print(math.sqrt(16))"
   ]
  },
  {
   "cell_type": "code",
   "execution_count": 60,
   "metadata": {},
   "outputs": [
    {
     "name": "stdout",
     "output_type": "stream",
     "text": [
      "['False', 'None', 'True', 'and', 'as', 'assert', 'async', 'await', 'break', 'class', 'continue', 'def', 'del', 'elif', 'else', 'except', 'finally', 'for', 'from', 'global', 'if', 'import', 'in', 'is', 'lambda', 'nonlocal', 'not', 'or', 'pass', 'raise', 'return', 'try', 'while', 'with', 'yield']\n"
     ]
    }
   ],
   "source": [
    "# keyword\n",
    "\n",
    "import keyword\n",
    "\n",
    "print(keyword.kwlist)"
   ]
  },
  {
   "cell_type": "code",
   "execution_count": 63,
   "metadata": {},
   "outputs": [
    {
     "name": "stdout",
     "output_type": "stream",
     "text": [
      "85\n"
     ]
    }
   ],
   "source": [
    "# random\n",
    "\n",
    "import random\n",
    "\n",
    "print(random.randint(1,100))"
   ]
  },
  {
   "cell_type": "code",
   "execution_count": 69,
   "metadata": {},
   "outputs": [
    {
     "name": "stdout",
     "output_type": "stream",
     "text": [
      "2024-09-30 01:57:51.964847\n"
     ]
    }
   ],
   "source": [
    "# date-time\n",
    "\n",
    "import datetime\n",
    "\n",
    "print(datetime.datetime.now())"
   ]
  },
  {
   "cell_type": "markdown",
   "metadata": {},
   "source": [
    "# Loops"
   ]
  },
  {
   "cell_type": "code",
   "execution_count": null,
   "metadata": {},
   "outputs": [],
   "source": [
    "# In computer programming, a loop is a sequence of instruction s that is continually repeated until \n",
    "# a certain condition is reached.\n",
    "\n",
    "# There are two types of loops in Python:\n",
    "# while loop\n",
    "# for loop"
   ]
  },
  {
   "cell_type": "markdown",
   "metadata": {},
   "source": [
    "#### while Loop"
   ]
  },
  {
   "cell_type": "code",
   "execution_count": 71,
   "metadata": {},
   "outputs": [
    {
     "name": "stdout",
     "output_type": "stream",
     "text": [
      "2 * 1 = 2\n",
      "2 * 2 = 4\n",
      "2 * 3 = 6\n",
      "2 * 4 = 8\n",
      "2 * 5 = 10\n",
      "2 * 6 = 12\n",
      "2 * 7 = 14\n",
      "2 * 8 = 16\n",
      "2 * 9 = 18\n",
      "2 * 10 = 20\n"
     ]
    }
   ],
   "source": [
    "# while Loop:\n",
    "\n",
    "# In Python, we use a while loop to repeat a block of code until a certain condition is met.\n",
    "\n",
    "# Program to print table:\n",
    "\n",
    "number = int(input('Enter the Number:'))\n",
    "\n",
    "i = 1\n",
    "while i<=10:\n",
    "    print(number,'*',i,'=',number*i)\n",
    "    i = i+1"
   ]
  },
  {
   "cell_type": "code",
   "execution_count": 72,
   "metadata": {},
   "outputs": [
    {
     "name": "stdout",
     "output_type": "stream",
     "text": [
      "1\n",
      "2\n",
      "3\n",
      "Limit Crossed\n"
     ]
    }
   ],
   "source": [
    "# while loop with else\n",
    "\n",
    "# In Python we can use the while loop with else but not in other languages\n",
    "\n",
    "i = 1\n",
    "\n",
    "while i<=3:\n",
    "    print(i)\n",
    "    i = i+1\n",
    "else:\n",
    "    print('Limit Crossed')"
   ]
  },
  {
   "cell_type": "code",
   "execution_count": 77,
   "metadata": {},
   "outputs": [
    {
     "name": "stdout",
     "output_type": "stream",
     "text": [
      "8\n",
      "Guess Higher Number\n",
      "Guess Higher Number\n",
      "Guess Lower number\n",
      "Guess Higher Number\n",
      "Guess Higher Number\n",
      "Guess Higher Number\n",
      "Congratulation! Correct Guess\n"
     ]
    }
   ],
   "source": [
    "# Guessing Game:\n",
    "\n",
    "# generate random number\n",
    "import random\n",
    "number = random.randint(1,10)\n",
    "print(number)\n",
    "\n",
    "guess = int(input('Enter the number:'))\n",
    "\n",
    "while guess != number:\n",
    "    if guess < number:\n",
    "        print('Guess Higher Number')\n",
    "    else:\n",
    "        print('Guess Lower number')\n",
    "    \n",
    "    guess = int(input('Enter the number Again:'))\n",
    "else:\n",
    "    print('Congratulation! Correct Guess')"
   ]
  },
  {
   "cell_type": "markdown",
   "metadata": {},
   "source": [
    "#### for Loop"
   ]
  },
  {
   "cell_type": "code",
   "execution_count": 94,
   "metadata": {},
   "outputs": [
    {
     "name": "stdout",
     "output_type": "stream",
     "text": [
      "1 2 3 4 5 \n",
      "1 3 5 "
     ]
    }
   ],
   "source": [
    "# for loop\n",
    "\n",
    "# The for loop in Python is used to iterate over a sequence (like a list, tuple, or string) or other iterable objects.\n",
    "\n",
    "for i in range(1,6): # first number is included and second number is excluded\n",
    "    print(i,'',end='')\n",
    "    \n",
    "print()\n",
    "\n",
    "for i in range(1,6,2): # third number is step-size\n",
    "    print(i,'',end='')"
   ]
  },
  {
   "cell_type": "code",
   "execution_count": 95,
   "metadata": {},
   "outputs": [
    {
     "name": "stdout",
     "output_type": "stream",
     "text": [
      "5\n",
      "4\n",
      "3\n",
      "2\n",
      "1\n"
     ]
    }
   ],
   "source": [
    "# Reverse printing\n",
    "\n",
    "for i in range(5,0,-1):\n",
    "    print(i)"
   ]
  },
  {
   "cell_type": "code",
   "execution_count": 99,
   "metadata": {},
   "outputs": [
    {
     "name": "stdout",
     "output_type": "stream",
     "text": [
      "L a h o r e \n",
      "1 2 3 4 5 "
     ]
    }
   ],
   "source": [
    "# Strings\n",
    "for i in 'Lahore':\n",
    "    print(i,'',end='')\n",
    "    \n",
    "print()\n",
    "\n",
    "# List\n",
    "for i in [1,2,3,4,5]:\n",
    "    print(i,'',end='')"
   ]
  },
  {
   "cell_type": "code",
   "execution_count": 1,
   "metadata": {},
   "outputs": [
    {
     "name": "stdout",
     "output_type": "stream",
     "text": [
      "10 10000\n",
      "9 9090.90909090909\n",
      "8 8264.462809917353\n",
      "7 7513.148009015775\n",
      "6 6830.134553650703\n",
      "5 6209.213230591548\n",
      "4 5644.739300537771\n",
      "3 5131.5811823070635\n",
      "2 4665.07380209733\n",
      "1 4240.976183724845\n"
     ]
    }
   ],
   "source": [
    "# Program:\n",
    "\n",
    "# If the city population is increased by 10% and the current population is 10000. Find the popuatio of the last\n",
    "# 10 years\n",
    "\n",
    "current_population = 10000\n",
    "\n",
    "for i in range(10,0,-1):\n",
    "    print(i, current_population)\n",
    "    current_population = current_population/1.1"
   ]
  },
  {
   "cell_type": "code",
   "execution_count": 4,
   "metadata": {},
   "outputs": [
    {
     "name": "stdout",
     "output_type": "stream",
     "text": [
      "2.708333333333333\n"
     ]
    }
   ],
   "source": [
    "# Sequence Sun\n",
    "\n",
    "# Find the sum of the sequence till nth term.\n",
    "# 1/1! + 2/2! + 3/3! ...\n",
    "\n",
    "n = int(input('Enter the number: '))\n",
    "\n",
    "fact  = 1\n",
    "result = 0\n",
    "\n",
    "for i in range(1,n+1):\n",
    "    fact = fact * i\n",
    "    result = result + i/fact\n",
    "    \n",
    "print(result)\n",
    "\n",
    "# For Visulaization of the code use Python tutor"
   ]
  },
  {
   "cell_type": "markdown",
   "metadata": {},
   "source": [
    "#### Nested loops"
   ]
  },
  {
   "cell_type": "code",
   "execution_count": 5,
   "metadata": {},
   "outputs": [
    {
     "name": "stdout",
     "output_type": "stream",
     "text": [
      "1 1\n",
      "1 2\n",
      "1 3\n",
      "2 1\n",
      "2 2\n",
      "2 3\n",
      "3 1\n",
      "3 2\n",
      "3 3\n"
     ]
    }
   ],
   "source": [
    "# Loop inside loop\n",
    "\n",
    "# Program: Print the pair of numbers\n",
    "\n",
    "for i in range(1,4):\n",
    "    for j in range(1,4):\n",
    "        print(i,j)"
   ]
  },
  {
   "cell_type": "code",
   "execution_count": 15,
   "metadata": {},
   "outputs": [
    {
     "name": "stdout",
     "output_type": "stream",
     "text": [
      "*\n",
      "**\n",
      "***\n",
      "****\n",
      "*****\n"
     ]
    }
   ],
   "source": [
    "# Pattern\n",
    "# *\n",
    "# **\n",
    "# ***\n",
    "\n",
    "rows = int(input('Enter the rows'))\n",
    "\n",
    "for i in range(1,rows+1):\n",
    "    for j in range(1,i+1):\n",
    "        print('*',end='')\n",
    "    print()"
   ]
  },
  {
   "cell_type": "code",
   "execution_count": 18,
   "metadata": {},
   "outputs": [
    {
     "name": "stdout",
     "output_type": "stream",
     "text": [
      "1\n",
      "121\n",
      "12321\n",
      "1234321\n",
      "123454321\n"
     ]
    }
   ],
   "source": [
    "# Pattern\n",
    "# 1\n",
    "# 121\n",
    "# 12321\n",
    "# 1234321\n",
    "\n",
    "rows = int(input('Enter the number of rows:'))\n",
    "\n",
    "for i in range(1, rows+1):\n",
    "    for j in range(1,i+1):\n",
    "        print(j,end='')\n",
    "    for k in range(i-1,0,-1):\n",
    "        print(k,end='')\n",
    "    print()"
   ]
  },
  {
   "cell_type": "markdown",
   "metadata": {},
   "source": [
    "#### Loop Control Statements"
   ]
  },
  {
   "cell_type": "code",
   "execution_count": null,
   "metadata": {},
   "outputs": [],
   "source": [
    "# Loop control statements are used to change the flow of execution.\n",
    "\n",
    "# break\n",
    "# continue\n",
    "# pass"
   ]
  },
  {
   "cell_type": "markdown",
   "metadata": {},
   "source": [
    "##### break"
   ]
  },
  {
   "cell_type": "code",
   "execution_count": 20,
   "metadata": {},
   "outputs": [
    {
     "name": "stdout",
     "output_type": "stream",
     "text": [
      "1\n",
      "2\n",
      "3\n",
      "4\n"
     ]
    }
   ],
   "source": [
    "# break\n",
    "\n",
    "#  A break statement in Python alters the flow of a loop by terminating it, once a specified condition is met.\n",
    "# It brings control out of the loop.\n",
    "\n",
    "for i in range(1,10):\n",
    "    if(i == 5):\n",
    "        break\n",
    "    print(i)"
   ]
  },
  {
   "cell_type": "code",
   "execution_count": 31,
   "metadata": {},
   "outputs": [
    {
     "name": "stdout",
     "output_type": "stream",
     "text": [
      "1\n",
      "2\n",
      "3\n",
      "5\n",
      "7\n"
     ]
    }
   ],
   "source": [
    "# Program \n",
    "# Prime Numbers between the range\n",
    "\n",
    "lower = int(input('Enter the lower number:'))\n",
    "upper = int(input('Enter the upper number:'))\n",
    "\n",
    "for i in range(lower, upper+1):\n",
    "    for j in range(2,i):\n",
    "        if i % j == 0:\n",
    "            break\n",
    "    else:\n",
    "        print(i) "
   ]
  },
  {
   "cell_type": "markdown",
   "metadata": {},
   "source": [
    "##### continue"
   ]
  },
  {
   "cell_type": "code",
   "execution_count": 32,
   "metadata": {},
   "outputs": [
    {
     "name": "stdout",
     "output_type": "stream",
     "text": [
      "1\n",
      "2\n",
      "3\n",
      "4\n",
      "6\n",
      "7\n",
      "8\n",
      "9\n"
     ]
    }
   ],
   "source": [
    "# continue\n",
    "\n",
    "# The continue statement in Python is used to skip the remaining code inside a loop for the current iteration only\n",
    "# It returns the control to the beginning of the loop for current iteration.\n",
    "\n",
    "for i in range(1,10):\n",
    "    if(i == 5):\n",
    "        continue\n",
    "    print(i) "
   ]
  },
  {
   "cell_type": "markdown",
   "metadata": {},
   "source": [
    "##### pass"
   ]
  },
  {
   "cell_type": "code",
   "execution_count": 33,
   "metadata": {},
   "outputs": [],
   "source": [
    "# pass\n",
    "\n",
    "# We use pass statements to write empty loops. Pass is also used for empty control statements, functions, and classes. \n",
    "# The pass statement is used as a placeholder for future code. \n",
    "# When the pass statement is executed, nothing happens, but you avoid getting an error when empty code is not allowed.\n",
    "\n",
    "for i in range(1,10):\n",
    "    pass"
   ]
  }
 ],
 "metadata": {
  "kernelspec": {
   "display_name": "base",
   "language": "python",
   "name": "python3"
  },
  "language_info": {
   "codemirror_mode": {
    "name": "ipython",
    "version": 3
   },
   "file_extension": ".py",
   "mimetype": "text/x-python",
   "name": "python",
   "nbconvert_exporter": "python",
   "pygments_lexer": "ipython3",
   "version": "3.12.4"
  }
 },
 "nbformat": 4,
 "nbformat_minor": 2
}
